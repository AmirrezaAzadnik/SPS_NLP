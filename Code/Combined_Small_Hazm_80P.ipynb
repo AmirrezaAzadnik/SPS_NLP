{
 "cells": [
  {
   "cell_type": "markdown",
   "metadata": {
    "colab_type": "text",
    "id": "2ZKbBDbX7Mza"
   },
   "source": [
    "# Data Preprocessing"
   ]
  },
  {
   "cell_type": "code",
   "execution_count": null,
   "metadata": {
    "cellView": "form",
    "colab": {},
    "colab_type": "code",
    "id": "nAQMVT05MMY4"
   },
   "outputs": [],
   "source": [
    "import pandas as pd\n",
    "import random\n",
    "from hazm import Normalizer\n",
    "\n",
    "def clean_persian_text(text):\n",
    "    normalizer = Normalizer()\n",
    "    return normalizer.normalize(text)\n",
    "\n",
    "def load_and_process_data(file_path):\n",
    "    try:\n",
    "        csv_dataset = pd.read_csv(file_path)\n",
    "        reviews = [(clean_persian_text(text), sentiment) for text, sentiment in zip(csv_dataset['Text'], csv_dataset['Sentiment'])]\n",
    "        return reviews\n",
    "    except FileNotFoundError:\n",
    "        print(\"File not found. Please check the file path.\")\n",
    "        return []\n",
    "\n",
    "def filter_reviews_by_sentiment(reviews, sentiment):\n",
    "    return [review for review in reviews if review[1] == sentiment]\n",
    "\n",
    "def print_random_sample(reviews, sentiment):\n",
    "    if reviews:\n",
    "        print(f\"{sentiment} sample : \\n\", random.choice(reviews))\n",
    "    else:\n",
    "        print(f\"No {sentiment} reviews available.\")\n",
    "\n",
    "\n",
    "file_path = \"Raw_Dataset_97P_107.csv\"\n",
    "reviews = load_and_process_data(file_path)\n",
    "\n",
    "positive_reviews = filter_reviews_by_sentiment(reviews, \"positive\")\n",
    "negative_reviews = filter_reviews_by_sentiment(reviews, \"negative\")\n",
    "neutral_reviews = filter_reviews_by_sentiment(reviews, \"neutral\")\n",
    "\n",
    "balanced_reviews = positive_reviews[:2500] + negative_reviews[:2500]\n",
    "random.shuffle(balanced_reviews)"
   ]
  },
  {
   "cell_type": "code",
   "execution_count": null,
   "metadata": {},
   "outputs": [],
   "source": [
    "import matplotlib.pyplot as plt\n",
    "\n",
    "# Count of each sentiment category\n",
    "sentiment_counts = {\n",
    "    \"Positive\": len(positive_reviews),\n",
    "    \"Negative\": len(negative_reviews),\n",
    "    \"Neutral\": len(neutral_reviews),\n",
    "}\n",
    "\n",
    "# Total count of reviews\n",
    "total_count = len(reviews)\n",
    "\n",
    "# Display counts in a bar chart\n",
    "plt.figure(figsize=(10, 6))\n",
    "plt.bar(sentiment_counts.keys(), sentiment_counts.values(), color=['green', 'red', 'blue'])\n",
    "plt.xlabel(\"Sentiment\")\n",
    "plt.ylabel(\"Count\")\n",
    "plt.title(\"Sentiment Analysis Results\")\n",
    "plt.show()\n",
    "\n",
    "# Display random samples\n",
    "print(\"\\nRandom Samples:\")\n",
    "print(f\"Positive Sample: {print_random_sample(positive_reviews, 'Positive')}\")\n",
    "print(f\"Negative Sample: {print_random_sample(negative_reviews, 'Negative')}\")\n",
    "print(f\"Neutral Sample: {print_random_sample(neutral_reviews, 'Neutral')}\")\n",
    "\n",
    "# Display count of the balanced dataset\n",
    "print(f\"\\nBalanced dataset count: {len(balanced_reviews)}\")"
   ]
  },
  {
   "cell_type": "markdown",
   "metadata": {},
   "source": [
    "# Data Preparation for Text Classification"
   ]
  },
  {
   "cell_type": "code",
   "execution_count": null,
   "metadata": {
    "cellView": "form",
    "colab": {},
    "colab_type": "code",
    "id": "wUJceKehjfJ3"
   },
   "outputs": [],
   "source": [
    "import numpy as np\n",
    "from keras import backend as K\n",
    "\n",
    "VECTOR_SIZE = 300  # Dimension of the vectors\n",
    "MAX_NO_TOKENS = 107  # Maximum number of tokens\n",
    "TRAIN_TEST_SPLIT = 0.8  # Proportion of the data to be used for training\n",
    "\n",
    "def split_data(data, train_test_split):\n",
    "    train_size = int(train_test_split * len(data))\n",
    "    test_size = len(data) - train_size\n",
    "    return train_size, test_size\n",
    "\n",
    "def initialize_arrays(train_size, test_size, max_tokens, VECTOR_SIZE):\n",
    "    x_train = np.zeros((train_size, max_tokens, VECTOR_SIZE), dtype=K.floatx())\n",
    "    y_train = np.zeros((train_size, 2), dtype=np.int32)\n",
    "\n",
    "    x_test = np.zeros((test_size, max_tokens, VECTOR_SIZE), dtype=K.floatx())\n",
    "    y_test = np.zeros((test_size, 2), dtype=np.int32)\n",
    "\n",
    "    return x_train, y_train, x_test, y_test\n",
    "\n",
    "train_size, test_size = split_data(balanced_reviews, TRAIN_TEST_SPLIT)\n",
    "x_train, y_train, x_test, y_test = initialize_arrays(train_size, test_size, MAX_NO_TOKENS, VECTOR_SIZE)"
   ]
  },
  {
   "cell_type": "code",
   "execution_count": 17,
   "metadata": {},
   "outputs": [
    {
     "name": "stdout",
     "output_type": "stream",
     "text": [
      "Data Information:\n",
      "╒═════════╤══════════════════╕\n",
      "│ Item    │ Shape/Size       │\n",
      "╞═════════╪══════════════════╡\n",
      "│ x_train │ (4000, 107, 300) │\n",
      "├─────────┼──────────────────┤\n",
      "│ x_test  │ (1000, 107, 300) │\n",
      "├─────────┼──────────────────┤\n",
      "│ y_train │ (4000, 2)        │\n",
      "├─────────┼──────────────────┤\n",
      "│ y_test  │ (1000, 2)        │\n",
      "╘═════════╧══════════════════╛\n"
     ]
    }
   ],
   "source": [
    "import tabulate\n",
    "\n",
    "# Shapes of the arrays\n",
    "shapes_data = [\n",
    "    [\"x_train\", x_train.shape],\n",
    "    [\"x_test\", x_test.shape],\n",
    "    [\"y_train\", y_train.shape],\n",
    "    [\"y_test\", y_test.shape]\n",
    "]\n",
    "\n",
    "# Display vocabulary size and array shapes in a table\n",
    "table = tabulate.tabulate(shapes_data, headers=[\"Item\", \"Shape/Size\"], tablefmt=\"fancy_grid\")\n",
    "print(\"Data Information:\")\n",
    "print(table)"
   ]
  },
  {
   "cell_type": "markdown",
   "metadata": {},
   "source": [
    "# Text Vectorization and Sentiment Classification"
   ]
  },
  {
   "cell_type": "code",
   "execution_count": null,
   "metadata": {
    "cellView": "form",
    "colab": {},
    "colab_type": "code",
    "id": "jvcGBpjPwFL0"
   },
   "outputs": [],
   "source": [
    "import numpy as np\n",
    "import fasttext\n",
    "import hazm\n",
    "\n",
    "def load_fasttext_model(model_path):\n",
    "    return fasttext.load_model(model_path)\n",
    "\n",
    "def tokenize_text(text, tokenizer, max_tokens):\n",
    "    return tokenizer.tokenize(text)[:max_tokens]\n",
    "\n",
    "def vectorize_text(text, model, max_tokens):\n",
    "    return [model.get_word_vector(word) for word in text if word in model.words][:max_tokens]\n",
    "\n",
    "def process_reviews(reviews, model, tokenizer, max_tokens, label_map):\n",
    "    x_data = []\n",
    "    y_data = []\n",
    "    unique_words = set()\n",
    "\n",
    "    for text, sentiment in reviews:\n",
    "        tokenized_text = tokenize_text(text, tokenizer, max_tokens)\n",
    "        unique_words.update(tokenized_text)\n",
    "        vectorized_text = vectorize_text(tokenized_text, model, max_tokens)\n",
    "\n",
    "        if not vectorized_text:\n",
    "            continue\n",
    "\n",
    "        padded_vector = np.zeros((max_tokens, model.get_dimension()), dtype=np.float32)\n",
    "        padded_vector[:len(vectorized_text), :] = vectorized_text\n",
    "\n",
    "        x_data.append(padded_vector)\n",
    "        y_data.append(label_map.get(sentiment, label_map['other']))\n",
    "\n",
    "    return np.array(x_data), np.array(y_data), len(unique_words)\n",
    "\n",
    "# Load model and tokenizer\n",
    "W2V_Model = load_fasttext_model(\"Hazm_Embedding_Model_300.bin\")\n",
    "tokenizer = hazm.WordTokenizer()\n",
    "\n",
    "# Assuming 'balanced_reviews' is a list of (text, sentiment) tuples\n",
    "all_reviews = balanced_reviews  # Use the complete set of reviews\n",
    "train_reviews = balanced_reviews[:train_size]\n",
    "test_reviews = balanced_reviews[train_size:]\n",
    "\n",
    "# Define a mapping for sentiment to binary labels\n",
    "sentiment_label_map = {\"negative\": [1.0, 0.0], 'other': [0.0, 1.0]}  # Adjust based on actual labels\n",
    "\n",
    "x_train, y_train, vocabulary_size = process_reviews(train_reviews, W2V_Model, tokenizer, MAX_NO_TOKENS, sentiment_label_map)\n",
    "x_test, y_test, _ = process_reviews(test_reviews, W2V_Model, tokenizer, MAX_NO_TOKENS, sentiment_label_map)"
   ]
  },
  {
   "cell_type": "code",
   "execution_count": 15,
   "metadata": {},
   "outputs": [
    {
     "name": "stdout",
     "output_type": "stream",
     "text": [
      "Data Information:\n",
      "╒═════════╤══════════════════╕\n",
      "│ Item    │ Shape/Size       │\n",
      "╞═════════╪══════════════════╡\n",
      "│ x_train │ (4000, 107, 300) │\n",
      "├─────────┼──────────────────┤\n",
      "│ x_test  │ (1000, 107, 300) │\n",
      "├─────────┼──────────────────┤\n",
      "│ y_train │ (4000, 2)        │\n",
      "├─────────┼──────────────────┤\n",
      "│ y_test  │ (1000, 2)        │\n",
      "╘═════════╧══════════════════╛\n"
     ]
    }
   ],
   "source": [
    "import tabulate\n",
    "\n",
    "# Shapes of the arrays\n",
    "shapes_data = [\n",
    "    [\"x_train\", x_train.shape],\n",
    "    [\"x_test\", x_test.shape],\n",
    "    [\"y_train\", y_train.shape],\n",
    "    [\"y_test\", y_test.shape]\n",
    "]\n",
    "\n",
    "# Display vocabulary size and array shapes in a table\n",
    "table = tabulate.tabulate(shapes_data, headers=[\"Item\", \"Shape/Size\"], tablefmt=\"fancy_grid\")\n",
    "print(\"Data Information:\")\n",
    "print(table)"
   ]
  },
  {
   "cell_type": "markdown",
   "metadata": {},
   "source": [
    "# Saving Data and Cleaning Resources"
   ]
  },
  {
   "cell_type": "code",
   "execution_count": null,
   "metadata": {},
   "outputs": [],
   "source": [
    "np.save(\"x_train_Hazm_Small.npy\", x_train)\n",
    "np.save(\"x_test_Hazm_Small.npy\", x_test)\n",
    "np.save(\"y_train_Hazm_Small.npy\", y_train)\n",
    "np.save(\"y_test_Hazm_Small.npy\", y_test)\n",
    "del W2V_Model"
   ]
  },
  {
   "cell_type": "markdown",
   "metadata": {
    "colab_type": "text",
    "id": "dDunM15J7n8E"
   },
   "source": [
    "# Data Loading and Main Configuration"
   ]
  },
  {
   "cell_type": "code",
   "execution_count": 1,
   "metadata": {},
   "outputs": [
    {
     "name": "stderr",
     "output_type": "stream",
     "text": [
      "2024-01-28 08:18:00.241554: E external/local_xla/xla/stream_executor/cuda/cuda_dnn.cc:9261] Unable to register cuDNN factory: Attempting to register factory for plugin cuDNN when one has already been registered\n",
      "2024-01-28 08:18:00.241579: E external/local_xla/xla/stream_executor/cuda/cuda_fft.cc:607] Unable to register cuFFT factory: Attempting to register factory for plugin cuFFT when one has already been registered\n",
      "2024-01-28 08:18:00.242448: E external/local_xla/xla/stream_executor/cuda/cuda_blas.cc:1515] Unable to register cuBLAS factory: Attempting to register factory for plugin cuBLAS when one has already been registered\n",
      "2024-01-28 08:18:00.248590: I tensorflow/core/platform/cpu_feature_guard.cc:182] This TensorFlow binary is optimized to use available CPU instructions in performance-critical operations.\n",
      "To enable the following instructions: SSE4.1 SSE4.2 AVX AVX2 FMA, in other operations, rebuild TensorFlow with the appropriate compiler flags.\n"
     ]
    },
    {
     "name": "stdout",
     "output_type": "stream",
     "text": [
      "(4000, 107, 300) (1000, 107, 300) (4000, 2) (1000, 2)\n"
     ]
    }
   ],
   "source": [
    "import fasttext\n",
    "import hazm\n",
    "import numpy as np\n",
    "from keras import backend as K\n",
    "import pandas as pd\n",
    "import random\n",
    "from hazm import Normalizer\n",
    "\n",
    "VECTOR_SIZE = 300  # Dimension of the vectors\n",
    "MAX_NO_TOKENS = 107  # Maximum number of tokens\n",
    "\n",
    "BATCH_SIZE = 512\n",
    "NUM_EPOCHS = 100\n",
    "\n",
    "x_train = np.load(\"./Hazm_Dataset/x_train_Hazm.npy\")[:4000, :, :]\n",
    "x_test = np.load(\"./Hazm_Dataset/x_test_Hazm.npy\" )[:1000, :, :]\n",
    "\n",
    "y_train = np.load(\"./Hazm_Dataset/y_train_Hazm.npy\")[:4000, :]\n",
    "y_test = np.load(\"./Hazm_Dataset/y_test_Hazm.npy\")[:1000, :]\n",
    "\n",
    "print(x_train.shape,x_test.shape,y_train.shape,y_test.shape)"
   ]
  },
  {
   "cell_type": "markdown",
   "metadata": {},
   "source": [
    "# Convolutional Neural Network (Combined) Model Definition"
   ]
  },
  {
   "cell_type": "code",
   "execution_count": 2,
   "metadata": {
    "cellView": "form",
    "colab": {},
    "colab_type": "code",
    "id": "J1z_mq913jTq"
   },
   "outputs": [
    {
     "name": "stdout",
     "output_type": "stream",
     "text": [
      "WARNING:tensorflow:Layer lstm will not use cuDNN kernels since it doesn't meet the criteria. It will use a generic GPU kernel as fallback when running on GPU.\n",
      "WARNING:tensorflow:Layer lstm will not use cuDNN kernels since it doesn't meet the criteria. It will use a generic GPU kernel as fallback when running on GPU.\n",
      "WARNING:tensorflow:Layer lstm will not use cuDNN kernels since it doesn't meet the criteria. It will use a generic GPU kernel as fallback when running on GPU.\n"
     ]
    },
    {
     "name": "stderr",
     "output_type": "stream",
     "text": [
      "2024-01-28 08:18:12.968969: I external/local_xla/xla/stream_executor/cuda/cuda_executor.cc:901] successful NUMA node read from SysFS had negative value (-1), but there must be at least one NUMA node, so returning NUMA node zero. See more at https://github.com/torvalds/linux/blob/v6.0/Documentation/ABI/testing/sysfs-bus-pci#L344-L355\n",
      "2024-01-28 08:18:13.009258: I external/local_xla/xla/stream_executor/cuda/cuda_executor.cc:901] successful NUMA node read from SysFS had negative value (-1), but there must be at least one NUMA node, so returning NUMA node zero. See more at https://github.com/torvalds/linux/blob/v6.0/Documentation/ABI/testing/sysfs-bus-pci#L344-L355\n",
      "2024-01-28 08:18:13.009488: I external/local_xla/xla/stream_executor/cuda/cuda_executor.cc:901] successful NUMA node read from SysFS had negative value (-1), but there must be at least one NUMA node, so returning NUMA node zero. See more at https://github.com/torvalds/linux/blob/v6.0/Documentation/ABI/testing/sysfs-bus-pci#L344-L355\n",
      "2024-01-28 08:18:13.010562: I external/local_xla/xla/stream_executor/cuda/cuda_executor.cc:901] successful NUMA node read from SysFS had negative value (-1), but there must be at least one NUMA node, so returning NUMA node zero. See more at https://github.com/torvalds/linux/blob/v6.0/Documentation/ABI/testing/sysfs-bus-pci#L344-L355\n",
      "2024-01-28 08:18:13.010763: I external/local_xla/xla/stream_executor/cuda/cuda_executor.cc:901] successful NUMA node read from SysFS had negative value (-1), but there must be at least one NUMA node, so returning NUMA node zero. See more at https://github.com/torvalds/linux/blob/v6.0/Documentation/ABI/testing/sysfs-bus-pci#L344-L355\n",
      "2024-01-28 08:18:13.010922: I external/local_xla/xla/stream_executor/cuda/cuda_executor.cc:901] successful NUMA node read from SysFS had negative value (-1), but there must be at least one NUMA node, so returning NUMA node zero. See more at https://github.com/torvalds/linux/blob/v6.0/Documentation/ABI/testing/sysfs-bus-pci#L344-L355\n",
      "2024-01-28 08:18:13.087035: I external/local_xla/xla/stream_executor/cuda/cuda_executor.cc:901] successful NUMA node read from SysFS had negative value (-1), but there must be at least one NUMA node, so returning NUMA node zero. See more at https://github.com/torvalds/linux/blob/v6.0/Documentation/ABI/testing/sysfs-bus-pci#L344-L355\n",
      "2024-01-28 08:18:13.087275: I external/local_xla/xla/stream_executor/cuda/cuda_executor.cc:901] successful NUMA node read from SysFS had negative value (-1), but there must be at least one NUMA node, so returning NUMA node zero. See more at https://github.com/torvalds/linux/blob/v6.0/Documentation/ABI/testing/sysfs-bus-pci#L344-L355\n",
      "2024-01-28 08:18:13.087470: I external/local_xla/xla/stream_executor/cuda/cuda_executor.cc:901] successful NUMA node read from SysFS had negative value (-1), but there must be at least one NUMA node, so returning NUMA node zero. See more at https://github.com/torvalds/linux/blob/v6.0/Documentation/ABI/testing/sysfs-bus-pci#L344-L355\n",
      "2024-01-28 08:18:13.087592: I tensorflow/core/common_runtime/gpu/gpu_device.cc:1929] Created device /job:localhost/replica:0/task:0/device:GPU:0 with 3489 MB memory:  -> device: 0, name: NVIDIA GeForce GTX 1050 with Max-Q Design, pci bus id: 0000:02:00.0, compute capability: 6.1\n"
     ]
    },
    {
     "name": "stdout",
     "output_type": "stream",
     "text": [
      "Model: \"sequential\"\n",
      "_________________________________________________________________\n",
      " Layer (type)                Output Shape              Param #   \n",
      "=================================================================\n",
      " conv1d (Conv1D)             (None, 107, 32)           28832     \n",
      "                                                                 \n",
      " conv1d_1 (Conv1D)           (None, 107, 32)           3104      \n",
      "                                                                 \n",
      " conv1d_2 (Conv1D)           (None, 107, 32)           3104      \n",
      "                                                                 \n",
      " max_pooling1d (MaxPooling1  (None, 35, 32)            0         \n",
      " D)                                                              \n",
      "                                                                 \n",
      " bidirectional (Bidirection  (None, 1024)              2232320   \n",
      " al)                                                             \n",
      "                                                                 \n",
      " dense (Dense)               (None, 512)               524800    \n",
      "                                                                 \n",
      " dropout (Dropout)           (None, 512)               0         \n",
      "                                                                 \n",
      " dense_1 (Dense)             (None, 512)               262656    \n",
      "                                                                 \n",
      " dropout_1 (Dropout)         (None, 512)               0         \n",
      "                                                                 \n",
      " dense_2 (Dense)             (None, 512)               262656    \n",
      "                                                                 \n",
      " dropout_2 (Dropout)         (None, 512)               0         \n",
      "                                                                 \n",
      " dense_3 (Dense)             (None, 2)                 1026      \n",
      "                                                                 \n",
      "=================================================================\n",
      "Total params: 3318498 (12.66 MB)\n",
      "Trainable params: 3318498 (12.66 MB)\n",
      "Non-trainable params: 0 (0.00 Byte)\n",
      "_________________________________________________________________\n"
     ]
    }
   ],
   "source": [
    "from keras.models import Sequential\n",
    "from keras.layers import Conv1D, Dropout, Dense, Flatten, LSTM, MaxPooling1D, Bidirectional\n",
    "from keras.optimizers import Adam\n",
    "from keras.callbacks import EarlyStopping, TensorBoard\n",
    "\n",
    "\n",
    "model = Sequential()\n",
    "\n",
    "model.add(Conv1D(32, kernel_size=3, activation='elu', padding='same',\n",
    "                 input_shape=(MAX_NO_TOKENS, VECTOR_SIZE)))\n",
    "model.add(Conv1D(32, kernel_size=3, activation='elu', padding='same'))\n",
    "model.add(Conv1D(32, kernel_size=3, activation='relu', padding='same'))\n",
    "model.add(MaxPooling1D(pool_size=3))\n",
    "\n",
    "model.add(Bidirectional(LSTM(512, dropout=0.2, recurrent_dropout=0.3)))\n",
    "\n",
    "model.add(Dense(512, activation='sigmoid'))\n",
    "model.add(Dropout(0.2))\n",
    "model.add(Dense(512, activation='sigmoid'))\n",
    "model.add(Dropout(0.25))\n",
    "model.add(Dense(512, activation='sigmoid'))\n",
    "model.add(Dropout(0.25))\n",
    "\n",
    "model.add(Dense(2, activation='softmax'))\n",
    "\n",
    "model.compile(loss='categorical_crossentropy', optimizer=Adam(learning_rate=0.0001), metrics=['accuracy'])\n",
    "\n",
    "# tensorboard = TensorBoard(log_dir='logs/', histogram_freq=0, write_graph=True, write_images=True)\n",
    "\n",
    "model.summary()"
   ]
  },
  {
   "cell_type": "code",
   "execution_count": 3,
   "metadata": {
    "colab": {},
    "colab_type": "code",
    "id": "P9qfU9CM3mL-"
   },
   "outputs": [
    {
     "name": "stderr",
     "output_type": "stream",
     "text": [
      "2024-01-28 08:18:16.326512: W external/local_tsl/tsl/framework/cpu_allocator_impl.cc:83] Allocation of 513600000 exceeds 10% of free system memory.\n",
      "2024-01-28 08:18:16.857821: W external/local_tsl/tsl/framework/cpu_allocator_impl.cc:83] Allocation of 513600000 exceeds 10% of free system memory.\n"
     ]
    },
    {
     "name": "stdout",
     "output_type": "stream",
     "text": [
      "Epoch 1/100\n"
     ]
    },
    {
     "name": "stderr",
     "output_type": "stream",
     "text": [
      "2024-01-28 08:18:23.324574: W external/local_tsl/tsl/framework/cpu_allocator_impl.cc:83] Allocation of 65740800 exceeds 10% of free system memory.\n",
      "2024-01-28 08:18:23.335422: W external/local_tsl/tsl/framework/cpu_allocator_impl.cc:83] Allocation of 65740800 exceeds 10% of free system memory.\n",
      "2024-01-28 08:18:23.335512: W external/local_tsl/tsl/framework/cpu_allocator_impl.cc:83] Allocation of 65740800 exceeds 10% of free system memory.\n",
      "2024-01-28 08:18:23.592270: I external/local_xla/xla/stream_executor/cuda/cuda_dnn.cc:454] Loaded cuDNN version 8800\n",
      "2024-01-28 08:18:25.605650: I external/local_xla/xla/service/service.cc:168] XLA service 0x7f420c469870 initialized for platform CUDA (this does not guarantee that XLA will be used). Devices:\n",
      "2024-01-28 08:18:25.605680: I external/local_xla/xla/service/service.cc:176]   StreamExecutor device (0): NVIDIA GeForce GTX 1050 with Max-Q Design, Compute Capability 6.1\n",
      "2024-01-28 08:18:25.611577: I tensorflow/compiler/mlir/tensorflow/utils/dump_mlir_util.cc:269] disabling MLIR crash reproducer, set env var `MLIR_CRASH_REPRODUCER_DIRECTORY` to enable.\n",
      "WARNING: All log messages before absl::InitializeLog() is called are written to STDERR\n",
      "I0000 00:00:1706417305.719407   12341 device_compiler.h:186] Compiled cluster using XLA!  This line is logged at most once for the lifetime of the process.\n"
     ]
    },
    {
     "name": "stdout",
     "output_type": "stream",
     "text": [
      "8/8 [==============================] - 16s 696ms/step - loss: 0.7518 - accuracy: 0.4942 - val_loss: 0.6923 - val_accuracy: 0.5210\n",
      "Epoch 2/100\n",
      "8/8 [==============================] - 4s 457ms/step - loss: 0.7517 - accuracy: 0.4952 - val_loss: 0.6940 - val_accuracy: 0.4790\n",
      "Epoch 3/100\n",
      "8/8 [==============================] - 4s 452ms/step - loss: 0.7484 - accuracy: 0.4870 - val_loss: 0.6940 - val_accuracy: 0.4790\n",
      "Epoch 4/100\n",
      "8/8 [==============================] - 4s 451ms/step - loss: 0.7367 - accuracy: 0.4918 - val_loss: 0.6918 - val_accuracy: 0.5210\n",
      "Epoch 5/100\n",
      "8/8 [==============================] - 4s 453ms/step - loss: 0.7264 - accuracy: 0.5058 - val_loss: 0.6939 - val_accuracy: 0.4790\n",
      "Epoch 6/100\n",
      "8/8 [==============================] - 4s 452ms/step - loss: 0.7288 - accuracy: 0.4935 - val_loss: 0.6899 - val_accuracy: 0.5210\n",
      "Epoch 7/100\n",
      "8/8 [==============================] - 4s 451ms/step - loss: 0.7282 - accuracy: 0.5048 - val_loss: 0.6875 - val_accuracy: 0.5940\n",
      "Epoch 8/100\n",
      "8/8 [==============================] - 4s 452ms/step - loss: 0.7274 - accuracy: 0.5077 - val_loss: 0.6811 - val_accuracy: 0.6130\n",
      "Epoch 9/100\n",
      "8/8 [==============================] - 4s 457ms/step - loss: 0.7179 - accuracy: 0.5268 - val_loss: 0.6745 - val_accuracy: 0.6180\n",
      "Epoch 10/100\n",
      "8/8 [==============================] - 4s 453ms/step - loss: 0.7170 - accuracy: 0.5303 - val_loss: 0.6642 - val_accuracy: 0.6290\n",
      "Epoch 11/100\n",
      "8/8 [==============================] - 4s 454ms/step - loss: 0.6885 - accuracy: 0.5713 - val_loss: 0.6196 - val_accuracy: 0.7130\n",
      "Epoch 12/100\n",
      "8/8 [==============================] - 4s 461ms/step - loss: 0.6386 - accuracy: 0.6342 - val_loss: 0.5798 - val_accuracy: 0.7340\n",
      "Epoch 13/100\n",
      "8/8 [==============================] - 4s 456ms/step - loss: 0.6095 - accuracy: 0.6998 - val_loss: 0.5810 - val_accuracy: 0.7390\n",
      "Epoch 14/100\n",
      "8/8 [==============================] - 4s 460ms/step - loss: 0.6105 - accuracy: 0.6980 - val_loss: 0.5992 - val_accuracy: 0.7500\n",
      "Epoch 15/100\n",
      "8/8 [==============================] - 4s 454ms/step - loss: 0.5949 - accuracy: 0.6957 - val_loss: 0.5526 - val_accuracy: 0.7380\n",
      "Epoch 16/100\n",
      "8/8 [==============================] - 4s 457ms/step - loss: 0.5894 - accuracy: 0.7255 - val_loss: 0.6046 - val_accuracy: 0.6770\n",
      "Epoch 17/100\n",
      "8/8 [==============================] - 4s 456ms/step - loss: 0.6087 - accuracy: 0.6965 - val_loss: 0.5640 - val_accuracy: 0.7300\n",
      "Epoch 18/100\n",
      "8/8 [==============================] - 4s 455ms/step - loss: 0.5732 - accuracy: 0.7293 - val_loss: 0.5342 - val_accuracy: 0.7540\n",
      "Epoch 19/100\n",
      "8/8 [==============================] - 4s 456ms/step - loss: 0.5656 - accuracy: 0.7330 - val_loss: 0.5459 - val_accuracy: 0.7130\n",
      "Epoch 20/100\n",
      "8/8 [==============================] - 4s 463ms/step - loss: 0.5869 - accuracy: 0.6777 - val_loss: 0.5568 - val_accuracy: 0.7120\n",
      "Epoch 21/100\n",
      "8/8 [==============================] - 4s 458ms/step - loss: 0.5922 - accuracy: 0.6593 - val_loss: 0.5484 - val_accuracy: 0.7080\n",
      "Epoch 22/100\n",
      "8/8 [==============================] - 4s 455ms/step - loss: 0.5797 - accuracy: 0.6780 - val_loss: 0.5428 - val_accuracy: 0.7040\n",
      "Epoch 23/100\n",
      "8/8 [==============================] - 4s 457ms/step - loss: 0.5819 - accuracy: 0.6765 - val_loss: 0.5381 - val_accuracy: 0.7190\n",
      "Epoch 24/100\n",
      "8/8 [==============================] - 4s 457ms/step - loss: 0.5701 - accuracy: 0.6938 - val_loss: 0.5231 - val_accuracy: 0.7340\n",
      "Epoch 25/100\n",
      "8/8 [==============================] - 4s 458ms/step - loss: 0.5409 - accuracy: 0.7170 - val_loss: 0.5129 - val_accuracy: 0.7620\n",
      "Epoch 26/100\n",
      "8/8 [==============================] - 4s 465ms/step - loss: 0.5292 - accuracy: 0.7370 - val_loss: 0.5127 - val_accuracy: 0.7650\n",
      "Epoch 27/100\n",
      "8/8 [==============================] - 4s 461ms/step - loss: 0.5277 - accuracy: 0.7483 - val_loss: 0.5282 - val_accuracy: 0.7650\n",
      "Epoch 28/100\n",
      "8/8 [==============================] - 4s 460ms/step - loss: 0.5234 - accuracy: 0.7602 - val_loss: 0.5175 - val_accuracy: 0.7590\n",
      "Epoch 29/100\n",
      "8/8 [==============================] - 4s 464ms/step - loss: 0.5135 - accuracy: 0.7535 - val_loss: 0.5005 - val_accuracy: 0.7690\n",
      "Epoch 30/100\n",
      "8/8 [==============================] - 4s 460ms/step - loss: 0.5078 - accuracy: 0.7555 - val_loss: 0.4963 - val_accuracy: 0.7660\n",
      "Epoch 31/100\n",
      "8/8 [==============================] - 4s 465ms/step - loss: 0.5052 - accuracy: 0.7588 - val_loss: 0.4893 - val_accuracy: 0.7800\n",
      "Epoch 32/100\n",
      "8/8 [==============================] - 4s 463ms/step - loss: 0.4961 - accuracy: 0.7648 - val_loss: 0.4848 - val_accuracy: 0.7810\n",
      "Epoch 33/100\n",
      "8/8 [==============================] - 4s 468ms/step - loss: 0.4899 - accuracy: 0.7648 - val_loss: 0.4809 - val_accuracy: 0.7800\n",
      "Epoch 34/100\n",
      "8/8 [==============================] - 4s 462ms/step - loss: 0.4861 - accuracy: 0.7742 - val_loss: 0.4832 - val_accuracy: 0.7800\n",
      "Epoch 35/100\n",
      "8/8 [==============================] - 4s 461ms/step - loss: 0.4760 - accuracy: 0.7812 - val_loss: 0.4852 - val_accuracy: 0.7860\n",
      "Epoch 36/100\n",
      "8/8 [==============================] - 4s 470ms/step - loss: 0.4842 - accuracy: 0.7847 - val_loss: 0.4843 - val_accuracy: 0.7810\n",
      "Epoch 37/100\n",
      "8/8 [==============================] - 4s 461ms/step - loss: 0.4674 - accuracy: 0.7943 - val_loss: 0.4763 - val_accuracy: 0.7880\n",
      "Epoch 38/100\n",
      "8/8 [==============================] - 4s 460ms/step - loss: 0.4670 - accuracy: 0.7920 - val_loss: 0.4698 - val_accuracy: 0.7840\n",
      "Epoch 39/100\n",
      "8/8 [==============================] - 4s 460ms/step - loss: 0.4669 - accuracy: 0.7930 - val_loss: 0.4681 - val_accuracy: 0.7810\n",
      "Epoch 40/100\n",
      "8/8 [==============================] - 4s 464ms/step - loss: 0.4603 - accuracy: 0.7968 - val_loss: 0.4651 - val_accuracy: 0.7930\n",
      "Epoch 41/100\n",
      "8/8 [==============================] - 4s 460ms/step - loss: 0.4491 - accuracy: 0.8043 - val_loss: 0.4627 - val_accuracy: 0.7910\n",
      "Epoch 42/100\n",
      "8/8 [==============================] - 4s 467ms/step - loss: 0.4490 - accuracy: 0.8023 - val_loss: 0.4571 - val_accuracy: 0.7940\n",
      "Epoch 43/100\n",
      "8/8 [==============================] - 4s 466ms/step - loss: 0.4482 - accuracy: 0.8065 - val_loss: 0.4575 - val_accuracy: 0.7940\n",
      "Epoch 44/100\n",
      "8/8 [==============================] - 4s 465ms/step - loss: 0.4434 - accuracy: 0.8043 - val_loss: 0.4516 - val_accuracy: 0.7970\n",
      "Epoch 45/100\n",
      "8/8 [==============================] - 4s 462ms/step - loss: 0.4389 - accuracy: 0.8190 - val_loss: 0.4483 - val_accuracy: 0.8000\n",
      "Epoch 46/100\n",
      "8/8 [==============================] - 4s 465ms/step - loss: 0.4278 - accuracy: 0.8123 - val_loss: 0.4532 - val_accuracy: 0.8020\n",
      "Epoch 47/100\n",
      "8/8 [==============================] - 4s 463ms/step - loss: 0.4364 - accuracy: 0.8123 - val_loss: 0.4443 - val_accuracy: 0.8030\n",
      "Epoch 48/100\n",
      "8/8 [==============================] - 4s 472ms/step - loss: 0.4240 - accuracy: 0.8198 - val_loss: 0.4435 - val_accuracy: 0.8050\n",
      "Epoch 49/100\n",
      "8/8 [==============================] - 4s 464ms/step - loss: 0.4211 - accuracy: 0.8167 - val_loss: 0.4463 - val_accuracy: 0.8070\n",
      "Epoch 50/100\n",
      "8/8 [==============================] - 4s 465ms/step - loss: 0.4192 - accuracy: 0.8257 - val_loss: 0.4427 - val_accuracy: 0.8100\n",
      "Epoch 51/100\n",
      "8/8 [==============================] - 4s 471ms/step - loss: 0.4230 - accuracy: 0.8173 - val_loss: 0.4460 - val_accuracy: 0.8020\n",
      "Epoch 52/100\n",
      "8/8 [==============================] - 4s 464ms/step - loss: 0.4192 - accuracy: 0.8235 - val_loss: 0.4535 - val_accuracy: 0.8070\n",
      "Epoch 53/100\n",
      "8/8 [==============================] - 4s 464ms/step - loss: 0.4135 - accuracy: 0.8282 - val_loss: 0.4359 - val_accuracy: 0.8090\n",
      "Epoch 54/100\n",
      "8/8 [==============================] - 4s 463ms/step - loss: 0.4169 - accuracy: 0.8278 - val_loss: 0.4414 - val_accuracy: 0.8050\n",
      "Epoch 55/100\n",
      "8/8 [==============================] - 4s 466ms/step - loss: 0.4105 - accuracy: 0.8248 - val_loss: 0.4398 - val_accuracy: 0.8110\n",
      "Epoch 56/100\n",
      "8/8 [==============================] - 4s 464ms/step - loss: 0.4115 - accuracy: 0.8215 - val_loss: 0.4335 - val_accuracy: 0.8140\n",
      "Epoch 57/100\n",
      "8/8 [==============================] - 4s 473ms/step - loss: 0.4078 - accuracy: 0.8322 - val_loss: 0.4405 - val_accuracy: 0.8120\n",
      "Epoch 58/100\n",
      "8/8 [==============================] - 4s 463ms/step - loss: 0.4080 - accuracy: 0.8298 - val_loss: 0.4358 - val_accuracy: 0.8130\n",
      "Epoch 59/100\n",
      "8/8 [==============================] - 4s 468ms/step - loss: 0.4015 - accuracy: 0.8335 - val_loss: 0.4316 - val_accuracy: 0.8220\n",
      "Epoch 60/100\n",
      "8/8 [==============================] - 4s 461ms/step - loss: 0.4014 - accuracy: 0.8295 - val_loss: 0.4404 - val_accuracy: 0.8170\n",
      "Epoch 61/100\n",
      "8/8 [==============================] - 4s 468ms/step - loss: 0.3941 - accuracy: 0.8332 - val_loss: 0.4329 - val_accuracy: 0.8190\n",
      "Epoch 62/100\n",
      "8/8 [==============================] - 4s 465ms/step - loss: 0.3980 - accuracy: 0.8317 - val_loss: 0.4354 - val_accuracy: 0.8210\n",
      "Epoch 63/100\n",
      "8/8 [==============================] - 4s 466ms/step - loss: 0.3960 - accuracy: 0.8390 - val_loss: 0.4364 - val_accuracy: 0.8150\n",
      "Epoch 64/100\n",
      "8/8 [==============================] - 4s 466ms/step - loss: 0.3972 - accuracy: 0.8273 - val_loss: 0.4340 - val_accuracy: 0.8170\n",
      "Epoch 65/100\n",
      "8/8 [==============================] - 4s 467ms/step - loss: 0.3924 - accuracy: 0.8365 - val_loss: 0.4312 - val_accuracy: 0.8200\n",
      "Epoch 66/100\n",
      "8/8 [==============================] - 4s 467ms/step - loss: 0.3875 - accuracy: 0.8393 - val_loss: 0.4278 - val_accuracy: 0.8180\n",
      "Epoch 67/100\n",
      "8/8 [==============================] - 4s 467ms/step - loss: 0.3865 - accuracy: 0.8428 - val_loss: 0.4387 - val_accuracy: 0.8170\n",
      "Epoch 68/100\n",
      "8/8 [==============================] - 4s 463ms/step - loss: 0.3841 - accuracy: 0.8428 - val_loss: 0.4383 - val_accuracy: 0.8150\n",
      "Epoch 69/100\n",
      "8/8 [==============================] - 4s 464ms/step - loss: 0.3803 - accuracy: 0.8450 - val_loss: 0.4440 - val_accuracy: 0.8160\n",
      "Epoch 70/100\n",
      "8/8 [==============================] - 4s 470ms/step - loss: 0.3800 - accuracy: 0.8460 - val_loss: 0.4304 - val_accuracy: 0.8170\n",
      "Epoch 71/100\n",
      "8/8 [==============================] - 4s 468ms/step - loss: 0.3773 - accuracy: 0.8515 - val_loss: 0.4297 - val_accuracy: 0.8230\n",
      "Epoch 72/100\n",
      "8/8 [==============================] - 4s 466ms/step - loss: 0.3759 - accuracy: 0.8487 - val_loss: 0.4309 - val_accuracy: 0.8250\n",
      "Epoch 73/100\n",
      "8/8 [==============================] - 4s 469ms/step - loss: 0.3752 - accuracy: 0.8490 - val_loss: 0.4258 - val_accuracy: 0.8250\n",
      "Epoch 74/100\n",
      "8/8 [==============================] - 4s 464ms/step - loss: 0.3751 - accuracy: 0.8465 - val_loss: 0.4259 - val_accuracy: 0.8250\n",
      "Epoch 75/100\n",
      "8/8 [==============================] - 4s 464ms/step - loss: 0.3658 - accuracy: 0.8580 - val_loss: 0.4264 - val_accuracy: 0.8230\n",
      "Epoch 76/100\n",
      "8/8 [==============================] - 4s 466ms/step - loss: 0.3673 - accuracy: 0.8525 - val_loss: 0.4257 - val_accuracy: 0.8230\n",
      "Epoch 77/100\n",
      "8/8 [==============================] - 4s 468ms/step - loss: 0.3650 - accuracy: 0.8550 - val_loss: 0.4257 - val_accuracy: 0.8250\n",
      "Epoch 78/100\n",
      "8/8 [==============================] - 4s 469ms/step - loss: 0.3686 - accuracy: 0.8525 - val_loss: 0.4248 - val_accuracy: 0.8210\n",
      "Epoch 79/100\n",
      "8/8 [==============================] - 4s 467ms/step - loss: 0.3594 - accuracy: 0.8593 - val_loss: 0.4335 - val_accuracy: 0.8230\n",
      "Epoch 80/100\n",
      "8/8 [==============================] - 4s 467ms/step - loss: 0.3539 - accuracy: 0.8612 - val_loss: 0.4270 - val_accuracy: 0.8210\n",
      "Epoch 81/100\n",
      "8/8 [==============================] - 4s 465ms/step - loss: 0.3570 - accuracy: 0.8605 - val_loss: 0.4376 - val_accuracy: 0.8240\n",
      "Epoch 82/100\n",
      "8/8 [==============================] - 4s 465ms/step - loss: 0.3562 - accuracy: 0.8580 - val_loss: 0.4210 - val_accuracy: 0.8220\n",
      "Epoch 83/100\n",
      "8/8 [==============================] - 4s 464ms/step - loss: 0.3555 - accuracy: 0.8590 - val_loss: 0.4616 - val_accuracy: 0.8140\n",
      "Epoch 84/100\n",
      "8/8 [==============================] - 4s 465ms/step - loss: 0.3574 - accuracy: 0.8608 - val_loss: 0.4267 - val_accuracy: 0.8180\n",
      "Epoch 85/100\n",
      "8/8 [==============================] - 4s 469ms/step - loss: 0.3556 - accuracy: 0.8585 - val_loss: 0.4202 - val_accuracy: 0.8250\n",
      "Epoch 86/100\n",
      "8/8 [==============================] - 4s 462ms/step - loss: 0.3586 - accuracy: 0.8568 - val_loss: 0.4272 - val_accuracy: 0.8240\n",
      "Epoch 87/100\n",
      "8/8 [==============================] - 4s 472ms/step - loss: 0.3556 - accuracy: 0.8543 - val_loss: 0.4196 - val_accuracy: 0.8270\n",
      "Epoch 88/100\n",
      "8/8 [==============================] - 4s 464ms/step - loss: 0.3460 - accuracy: 0.8615 - val_loss: 0.4350 - val_accuracy: 0.8240\n",
      "Epoch 89/100\n",
      "8/8 [==============================] - 4s 466ms/step - loss: 0.3527 - accuracy: 0.8608 - val_loss: 0.4329 - val_accuracy: 0.8180\n",
      "Epoch 90/100\n",
      "8/8 [==============================] - 4s 469ms/step - loss: 0.3530 - accuracy: 0.8587 - val_loss: 0.4259 - val_accuracy: 0.8180\n",
      "Epoch 91/100\n",
      "8/8 [==============================] - 4s 467ms/step - loss: 0.3392 - accuracy: 0.8668 - val_loss: 0.4327 - val_accuracy: 0.8260\n",
      "Epoch 92/100\n",
      "8/8 [==============================] - 4s 471ms/step - loss: 0.3358 - accuracy: 0.8708 - val_loss: 0.4280 - val_accuracy: 0.8290\n",
      "Epoch 93/100\n",
      "8/8 [==============================] - 4s 464ms/step - loss: 0.3388 - accuracy: 0.8698 - val_loss: 0.4262 - val_accuracy: 0.8260\n",
      "Epoch 94/100\n",
      "8/8 [==============================] - 4s 468ms/step - loss: 0.3310 - accuracy: 0.8690 - val_loss: 0.4362 - val_accuracy: 0.8250\n",
      "Epoch 95/100\n",
      "8/8 [==============================] - 4s 466ms/step - loss: 0.3279 - accuracy: 0.8763 - val_loss: 0.4331 - val_accuracy: 0.8250\n",
      "Epoch 96/100\n",
      "8/8 [==============================] - 4s 466ms/step - loss: 0.3302 - accuracy: 0.8750 - val_loss: 0.4406 - val_accuracy: 0.8220\n",
      "Epoch 97/100\n",
      "8/8 [==============================] - 4s 470ms/step - loss: 0.3245 - accuracy: 0.8767 - val_loss: 0.4346 - val_accuracy: 0.8230\n",
      "Epoch 98/100\n",
      "8/8 [==============================] - 4s 471ms/step - loss: 0.3230 - accuracy: 0.8780 - val_loss: 0.4406 - val_accuracy: 0.8230\n",
      "Epoch 99/100\n",
      "8/8 [==============================] - 4s 464ms/step - loss: 0.3302 - accuracy: 0.8735 - val_loss: 0.4450 - val_accuracy: 0.8210\n",
      "Epoch 100/100\n",
      "8/8 [==============================] - 4s 465ms/step - loss: 0.3269 - accuracy: 0.8752 - val_loss: 0.4461 - val_accuracy: 0.8250\n"
     ]
    }
   ],
   "source": [
    "from tensorflow.keras.callbacks import CSVLogger\n",
    "\n",
    "# Filepath to save the CSV log\n",
    "csv_logger_filepath = 'Combined_Small_Hazm_Result.csv'\n",
    "\n",
    "# Create CSVLogger callback\n",
    "csv_logger = CSVLogger(csv_logger_filepath, append=True)\n",
    "\n",
    "# Fit the model\n",
    "history = model.fit(\n",
    "    x_train, \n",
    "    y_train, \n",
    "    batch_size=BATCH_SIZE, \n",
    "    epochs=NUM_EPOCHS, \n",
    "    shuffle=True, \n",
    "    validation_data=(x_test, y_test),\n",
    "    callbacks=[csv_logger]\n",
    ")"
   ]
  },
  {
   "cell_type": "code",
   "execution_count": 4,
   "metadata": {},
   "outputs": [
    {
     "data": {
      "image/png": "[encoded data removed]",
      "text/plain": [
       "<Figure size 640x480 with 2 Axes>"
      ]
     },
     "metadata": {},
     "output_type": "display_data"
    }
   ],
   "source": [
    "import matplotlib.pyplot as plt\n",
    "\n",
    "# Assuming 'history' is the variable that contains your model training history.\n",
    "# Replace 'history' with the actual name of the variable if it's different.\n",
    "\n",
    "# Accuracy plot\n",
    "plt.subplot(1, 2, 1)\n",
    "plt.plot(history.history['accuracy'], label='Training Accuracy')\n",
    "plt.plot(history.history['val_accuracy'], label='Validation Accuracy')\n",
    "plt.title('Model Accuracy')\n",
    "plt.ylabel('Accuracy')\n",
    "plt.xlabel('Epoch')\n",
    "plt.legend(loc='lower right')\n",
    "\n",
    "# Loss plot\n",
    "plt.subplot(1, 2, 2)\n",
    "plt.plot(history.history['loss'], label='Training Loss')\n",
    "plt.plot(history.history['val_loss'], label='Validation Loss')\n",
    "plt.title('Model Loss')\n",
    "plt.ylabel('Loss')\n",
    "plt.xlabel('Epoch')\n",
    "plt.legend(loc='upper right')\n",
    "\n",
    "# Adjust layout and show the plot\n",
    "plt.tight_layout()\n",
    "plt.show()"
   ]
  },
  {
   "cell_type": "code",
   "execution_count": 5,
   "metadata": {
    "colab": {},
    "colab_type": "code",
    "id": "UpocYJkB7KMs"
   },
   "outputs": [
    {
     "name": "stdout",
     "output_type": "stream",
     "text": [
      "32/32 [==============================] - 1s 30ms/step - loss: 0.4461 - accuracy: 0.8250\n"
     ]
    },
    {
     "data": {
      "text/plain": [
       "[0.4461003541946411, 0.824999988079071]"
      ]
     },
     "execution_count": 5,
     "metadata": {},
     "output_type": "execute_result"
    }
   ],
   "source": [
    "model.evaluate(x=x_test, y=y_test, batch_size=32, verbose=1)"
   ]
  },
  {
   "cell_type": "code",
   "execution_count": 6,
   "metadata": {
    "colab": {},
    "colab_type": "code",
    "id": "U5xPkhZX7Qmq"
   },
   "outputs": [
    {
     "name": "stdout",
     "output_type": "stream",
     "text": [
      "INFO:tensorflow:Assets written to: Combined_Small_Hazm_80P.model/assets\n"
     ]
    },
    {
     "name": "stderr",
     "output_type": "stream",
     "text": [
      "INFO:tensorflow:Assets written to: Combined_Small_Hazm_80P.model/assets\n"
     ]
    }
   ],
   "source": [
    "model.save('Combined_Small_Hazm_80P.model')"
   ]
  },
  {
   "cell_type": "markdown",
   "metadata": {
    "colab_type": "text",
    "id": "lJxZj2vr7uMO"
   },
   "source": [
    "# Model Loading and Configuration"
   ]
  },
  {
   "cell_type": "code",
   "execution_count": 4,
   "metadata": {},
   "outputs": [
    {
     "name": "stderr",
     "output_type": "stream",
     "text": [
      "Warning : `load_model` does not return WordVectorModel or SupervisedModel any more, but a `FastText` object which is very similar.\n"
     ]
    }
   ],
   "source": [
    "import fasttext\n",
    "import hazm\n",
    "import numpy as np\n",
    "from keras import backend as K\n",
    "import pandas as pd\n",
    "import random\n",
    "from hazm import Normalizer\n",
    "from tensorflow.keras.models import load_model\n",
    "\n",
    "VECTOR_SIZE = 300  # Dimension of the vectors\n",
    "MAX_NO_TOKENS = 107  # Maximum number of tokens\n",
    "\n",
    "model = load_model(\"Combined_Small_Hazm_80P.model\")\n",
    "W2V_Model = fasttext.load_model(\"Hazm_Embedding_Model_300.bin\")"
   ]
  },
  {
   "cell_type": "code",
   "execution_count": 8,
   "metadata": {
    "cellView": "form",
    "colab": {},
    "colab_type": "code",
    "id": "xXt5rQ0qmyax"
   },
   "outputs": [
    {
     "data": {
      "application/vnd.jupyter.widget-view+json": {
       "model_id": "c1568293cfc04da9823cbabed67e838d",
       "version_major": 2,
       "version_minor": 0
      },
      "text/plain": [
       "Text(value='', continuous_update=False, description='Input:', placeholder='Type something')"
      ]
     },
     "metadata": {},
     "output_type": "display_data"
    }
   ],
   "source": [
    "import numpy as np\n",
    "import hazm\n",
    "from keras import backend as K\n",
    "from IPython.display import display, HTML\n",
    "import ipywidgets as widgets\n",
    "from IPython.display import clear_output\n",
    "\n",
    "# Define the function for normalization and tokenization\n",
    "def normalize_and_tokenize(text):\n",
    "    normalizer = hazm.Normalizer()\n",
    "    return hazm.word_tokenize(normalizer.normalize(text))\n",
    "\n",
    "# Define the function for vectorizing text\n",
    "def vectorize_text(words, model, max_tokens, vector_size):\n",
    "    vectors = [model.get_word_vector(word) for word in words if word in model.words][:max_tokens]\n",
    "    x_vectors = np.zeros((1, max_tokens, vector_size), dtype=K.floatx())\n",
    "    x_vectors[0, :len(vectors), :] = vectors\n",
    "    return x_vectors\n",
    "\n",
    "# Define the function to display sentiment analysis results\n",
    "def display_sentiment(result, images_src_path='./Assets/Images/'):\n",
    "    pos_percent = f\"{int(result[0][1] * 100)} % \"\n",
    "    neg_percent = f\"{int(result[0][0] * 100)} % \"\n",
    "    html_content = f\"<div style='text-align: center'><div style='display:inline-block'><img height='64px' width='64px' src='{images_src_path}smile.png'/><h4>{pos_percent}</h4></div> | <div style='display:inline-block'><img height='64px' width='64px' src='{images_src_path}angry.png'/><h4>{neg_percent}</h4></div></div>\"\n",
    "    display(HTML(html_content))\n",
    "\n",
    "# Callback function to process and display results\n",
    "def on_text_change(change):\n",
    "    if change['type'] == 'change' and change['name'] == 'value':\n",
    "        clear_output(wait=True)\n",
    "        user_text = change['new']\n",
    "        if user_text:\n",
    "            tokenized_text = normalize_and_tokenize(user_text)\n",
    "            x_text_vectors = vectorize_text(tokenized_text, W2V_Model, MAX_NO_TOKENS, VECTOR_SIZE)\n",
    "            result = model.predict(x_text_vectors)  # Replace 'model' with your trained model\n",
    "            display_sentiment(result)\n",
    "        else:\n",
    "            print(\"Please enter your text\")\n",
    "\n",
    "# Create a text input widget\n",
    "text_input = widgets.Text(\n",
    "    value='',\n",
    "    placeholder='Type something',\n",
    "    description='Input:',\n",
    "    continuous_update=False,  # Set to False to trigger the event only when the user stops typing\n",
    "    disabled=False\n",
    ")\n",
    "\n",
    "# Display the text input widget\n",
    "display(text_input)\n",
    "\n",
    "# Set the callback function for text input\n",
    "text_input.observe(on_text_change, names='value')\n"
   ]
  }
 ],
 "metadata": {
  "accelerator": "GPU",
  "colab": {
   "collapsed_sections": [],
   "include_colab_link": true,
   "name": "Tutorial.ipynb",
   "provenance": []
  },
  "kernelspec": {
   "display_name": "Python 3 (ipykernel)",
   "language": "python",
   "name": "python3"
  },
  "language_info": {
   "codemirror_mode": {
    "name": "ipython",
    "version": 3
   },
   "file_extension": ".py",
   "mimetype": "text/x-python",
   "name": "python",
   "nbconvert_exporter": "python",
   "pygments_lexer": "ipython3",
   "version": "3.11.7"
  }
 },
 "nbformat": 4,
 "nbformat_minor": 4
}
