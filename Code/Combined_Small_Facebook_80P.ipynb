{
 "cells": [
  {
   "attachments": {},
   "cell_type": "markdown",
   "metadata": {
    "colab_type": "text",
    "id": "2ZKbBDbX7Mza"
   },
   "source": [
    "# Data Preprocessing"
   ]
  },
  {
   "cell_type": "code",
   "execution_count": null,
   "metadata": {
    "cellView": "form",
    "colab": {},
    "colab_type": "code",
    "id": "nAQMVT05MMY4"
   },
   "outputs": [],
   "source": [
    "import pandas as pd\n",
    "import random\n",
    "from hazm import Normalizer\n",
    "\n",
    "def clean_persian_text(text):\n",
    "    normalizer = Normalizer()\n",
    "    return normalizer.normalize(text)\n",
    "\n",
    "def load_and_process_data(file_path):\n",
    "    try:\n",
    "        csv_dataset = pd.read_csv(file_path)\n",
    "        reviews = [(clean_persian_text(text), sentiment) for text, sentiment in zip(csv_dataset['Text'], csv_dataset['Sentiment'])]\n",
    "        return reviews\n",
    "    except FileNotFoundError:\n",
    "        print(\"File not found. Please check the file path.\")\n",
    "        return []\n",
    "\n",
    "def filter_reviews_by_sentiment(reviews, sentiment):\n",
    "    return [review for review in reviews if review[1] == sentiment]\n",
    "\n",
    "def print_random_sample(reviews, sentiment):\n",
    "    if reviews:\n",
    "        print(f\"{sentiment} sample : \\n\", random.choice(reviews))\n",
    "    else:\n",
    "        print(f\"No {sentiment} reviews available.\")\n",
    "\n",
    "\n",
    "file_path = \"Raw_Dataset_97P_107.csv\"\n",
    "reviews = load_and_process_data(file_path)\n",
    "\n",
    "positive_reviews = filter_reviews_by_sentiment(reviews, \"positive\")\n",
    "negative_reviews = filter_reviews_by_sentiment(reviews, \"negative\")\n",
    "neutral_reviews = filter_reviews_by_sentiment(reviews, \"neutral\")\n",
    "\n",
    "balanced_reviews = positive_reviews[:2500] + negative_reviews[:2500]\n",
    "random.shuffle(balanced_reviews)"
   ]
  },
  {
   "cell_type": "code",
   "execution_count": null,
   "metadata": {},
   "outputs": [],
   "source": [
    "import matplotlib.pyplot as plt\n",
    "\n",
    "# Count of each sentiment category\n",
    "sentiment_counts = {\n",
    "    \"Positive\": len(positive_reviews),\n",
    "    \"Negative\": len(negative_reviews),\n",
    "    \"Neutral\": len(neutral_reviews),\n",
    "}\n",
    "\n",
    "# Total count of reviews\n",
    "total_count = len(reviews)\n",
    "\n",
    "# Display counts in a bar chart\n",
    "plt.figure(figsize=(10, 6))\n",
    "plt.bar(sentiment_counts.keys(), sentiment_counts.values(), color=['green', 'red', 'blue'])\n",
    "plt.xlabel(\"Sentiment\")\n",
    "plt.ylabel(\"Count\")\n",
    "plt.title(\"Sentiment Analysis Results\")\n",
    "plt.show()\n",
    "\n",
    "# Display random samples\n",
    "print(\"\\nRandom Samples:\")\n",
    "print(f\"Positive Sample: {print_random_sample(positive_reviews, 'Positive')}\")\n",
    "print(f\"Negative Sample: {print_random_sample(negative_reviews, 'Negative')}\")\n",
    "print(f\"Neutral Sample: {print_random_sample(neutral_reviews, 'Neutral')}\")\n",
    "\n",
    "# Display count of the balanced dataset\n",
    "print(f\"\\nBalanced dataset count: {len(balanced_reviews)}\")"
   ]
  },
  {
   "attachments": {},
   "cell_type": "markdown",
   "metadata": {},
   "source": [
    "# Data Preparation for Text Classification"
   ]
  },
  {
   "cell_type": "code",
   "execution_count": null,
   "metadata": {
    "cellView": "form",
    "colab": {},
    "colab_type": "code",
    "id": "wUJceKehjfJ3"
   },
   "outputs": [],
   "source": [
    "import numpy as np\n",
    "from keras import backend as K\n",
    "\n",
    "VECTOR_SIZE = 300  # Dimension of the vectors\n",
    "MAX_NO_TOKENS = 107  # Maximum number of tokens\n",
    "TRAIN_TEST_SPLIT = 0.8  # Proportion of the data to be used for training\n",
    "\n",
    "def split_data(data, train_test_split):\n",
    "    train_size = int(train_test_split * len(data))\n",
    "    test_size = len(data) - train_size\n",
    "    return train_size, test_size\n",
    "\n",
    "def initialize_arrays(train_size, test_size, max_tokens, VECTOR_SIZE):\n",
    "    x_train = np.zeros((train_size, max_tokens, VECTOR_SIZE), dtype=K.floatx())\n",
    "    y_train = np.zeros((train_size, 2), dtype=np.int32)\n",
    "\n",
    "    x_test = np.zeros((test_size, max_tokens, VECTOR_SIZE), dtype=K.floatx())\n",
    "    y_test = np.zeros((test_size, 2), dtype=np.int32)\n",
    "\n",
    "    return x_train, y_train, x_test, y_test\n",
    "\n",
    "train_size, test_size = split_data(balanced_reviews, TRAIN_TEST_SPLIT)\n",
    "x_train, y_train, x_test, y_test = initialize_arrays(train_size, test_size, MAX_NO_TOKENS, VECTOR_SIZE)"
   ]
  },
  {
   "cell_type": "code",
   "execution_count": 17,
   "metadata": {},
   "outputs": [
    {
     "name": "stdout",
     "output_type": "stream",
     "text": [
      "Data Information:\n",
      "╒═════════╤══════════════════╕\n",
      "│ Item    │ Shape/Size       │\n",
      "╞═════════╪══════════════════╡\n",
      "│ x_train │ (4000, 107, 300) │\n",
      "├─────────┼──────────────────┤\n",
      "│ x_test  │ (1000, 107, 300) │\n",
      "├─────────┼──────────────────┤\n",
      "│ y_train │ (4000, 2)        │\n",
      "├─────────┼──────────────────┤\n",
      "│ y_test  │ (1000, 2)        │\n",
      "╘═════════╧══════════════════╛\n"
     ]
    }
   ],
   "source": [
    "import tabulate\n",
    "\n",
    "# Shapes of the arrays\n",
    "shapes_data = [\n",
    "    [\"x_train\", x_train.shape],\n",
    "    [\"x_test\", x_test.shape],\n",
    "    [\"y_train\", y_train.shape],\n",
    "    [\"y_test\", y_test.shape]\n",
    "]\n",
    "\n",
    "# Display vocabulary size and array shapes in a table\n",
    "table = tabulate.tabulate(shapes_data, headers=[\"Item\", \"Shape/Size\"], tablefmt=\"fancy_grid\")\n",
    "print(\"Data Information:\")\n",
    "print(table)"
   ]
  },
  {
   "attachments": {},
   "cell_type": "markdown",
   "metadata": {},
   "source": [
    "# Text Vectorization and Sentiment Classification"
   ]
  },
  {
   "cell_type": "code",
   "execution_count": null,
   "metadata": {
    "cellView": "form",
    "colab": {},
    "colab_type": "code",
    "id": "jvcGBpjPwFL0"
   },
   "outputs": [],
   "source": [
    "import numpy as np\n",
    "import fasttext\n",
    "import hazm\n",
    "\n",
    "def load_fasttext_model(model_path):\n",
    "    return fasttext.load_model(model_path)\n",
    "\n",
    "def tokenize_text(text, tokenizer, max_tokens):\n",
    "    return tokenizer.tokenize(text)[:max_tokens]\n",
    "\n",
    "def vectorize_text(text, model, max_tokens):\n",
    "    return [model.get_word_vector(word) for word in text if word in model.words][:max_tokens]\n",
    "\n",
    "def process_reviews(reviews, model, tokenizer, max_tokens, label_map):\n",
    "    x_data = []\n",
    "    y_data = []\n",
    "    unique_words = set()\n",
    "\n",
    "    for text, sentiment in reviews:\n",
    "        tokenized_text = tokenize_text(text, tokenizer, max_tokens)\n",
    "        unique_words.update(tokenized_text)\n",
    "        vectorized_text = vectorize_text(tokenized_text, model, max_tokens)\n",
    "\n",
    "        if not vectorized_text:\n",
    "            continue\n",
    "\n",
    "        padded_vector = np.zeros((max_tokens, model.get_dimension()), dtype=np.float32)\n",
    "        padded_vector[:len(vectorized_text), :] = vectorized_text\n",
    "\n",
    "        x_data.append(padded_vector)\n",
    "        y_data.append(label_map.get(sentiment, label_map['other']))\n",
    "\n",
    "    return np.array(x_data), np.array(y_data), len(unique_words)\n",
    "\n",
    "# Load model and tokenizer\n",
    "W2V_Model = load_fasttext_model(\"Facebook_Embedding_Model_300.bin\")\n",
    "tokenizer = hazm.WordTokenizer()\n",
    "\n",
    "# Assuming 'balanced_reviews' is a list of (text, sentiment) tuples\n",
    "all_reviews = balanced_reviews  # Use the complete set of reviews\n",
    "train_reviews = balanced_reviews[:train_size]\n",
    "test_reviews = balanced_reviews[train_size:]\n",
    "\n",
    "# Define a mapping for sentiment to binary labels\n",
    "sentiment_label_map = {\"negative\": [1.0, 0.0], 'other': [0.0, 1.0]}  # Adjust based on actual labels\n",
    "\n",
    "x_train, y_train, vocabulary_size = process_reviews(train_reviews, W2V_Model, tokenizer, MAX_NO_TOKENS, sentiment_label_map)\n",
    "x_test, y_test, _ = process_reviews(test_reviews, W2V_Model, tokenizer, MAX_NO_TOKENS, sentiment_label_map)"
   ]
  },
  {
   "cell_type": "code",
   "execution_count": 15,
   "metadata": {},
   "outputs": [
    {
     "name": "stdout",
     "output_type": "stream",
     "text": [
      "Data Information:\n",
      "╒═════════╤══════════════════╕\n",
      "│ Item    │ Shape/Size       │\n",
      "╞═════════╪══════════════════╡\n",
      "│ x_train │ (4000, 107, 300) │\n",
      "├─────────┼──────────────────┤\n",
      "│ x_test  │ (1000, 107, 300) │\n",
      "├─────────┼──────────────────┤\n",
      "│ y_train │ (4000, 2)        │\n",
      "├─────────┼──────────────────┤\n",
      "│ y_test  │ (1000, 2)        │\n",
      "╘═════════╧══════════════════╛\n"
     ]
    }
   ],
   "source": [
    "import tabulate\n",
    "\n",
    "# Shapes of the arrays\n",
    "shapes_data = [\n",
    "    [\"x_train\", x_train.shape],\n",
    "    [\"x_test\", x_test.shape],\n",
    "    [\"y_train\", y_train.shape],\n",
    "    [\"y_test\", y_test.shape]\n",
    "]\n",
    "\n",
    "# Display vocabulary size and array shapes in a table\n",
    "table = tabulate.tabulate(shapes_data, headers=[\"Item\", \"Shape/Size\"], tablefmt=\"fancy_grid\")\n",
    "print(\"Data Information:\")\n",
    "print(table)"
   ]
  },
  {
   "attachments": {},
   "cell_type": "markdown",
   "metadata": {},
   "source": [
    "# Saving Data and Cleaning Resources"
   ]
  },
  {
   "cell_type": "code",
   "execution_count": null,
   "metadata": {},
   "outputs": [],
   "source": [
    "np.save(\"x_train_Facebook_Small.npy\", x_train)\n",
    "np.save(\"x_test_Facebook_Small.npy\", x_test)\n",
    "np.save(\"y_train_Facebook_Small.npy\", y_train)\n",
    "np.save(\"y_test_Facebook_Small.npy\", y_test)\n",
    "del W2V_Model"
   ]
  },
  {
   "attachments": {},
   "cell_type": "markdown",
   "metadata": {
    "colab_type": "text",
    "id": "dDunM15J7n8E"
   },
   "source": [
    "# Data Loading and Main Configuration"
   ]
  },
  {
   "cell_type": "code",
   "execution_count": 1,
   "metadata": {},
   "outputs": [
    {
     "name": "stderr",
     "output_type": "stream",
     "text": [
      "2024-01-28 08:10:11.563802: E external/local_xla/xla/stream_executor/cuda/cuda_dnn.cc:9261] Unable to register cuDNN factory: Attempting to register factory for plugin cuDNN when one has already been registered\n",
      "2024-01-28 08:10:11.563848: E external/local_xla/xla/stream_executor/cuda/cuda_fft.cc:607] Unable to register cuFFT factory: Attempting to register factory for plugin cuFFT when one has already been registered\n",
      "2024-01-28 08:10:11.564759: E external/local_xla/xla/stream_executor/cuda/cuda_blas.cc:1515] Unable to register cuBLAS factory: Attempting to register factory for plugin cuBLAS when one has already been registered\n",
      "2024-01-28 08:10:11.570611: I tensorflow/core/platform/cpu_feature_guard.cc:182] This TensorFlow binary is optimized to use available CPU instructions in performance-critical operations.\n",
      "To enable the following instructions: SSE4.1 SSE4.2 AVX AVX2 FMA, in other operations, rebuild TensorFlow with the appropriate compiler flags.\n"
     ]
    },
    {
     "name": "stdout",
     "output_type": "stream",
     "text": [
      "(4000, 107, 300) (1000, 107, 300) (4000, 2) (1000, 2)\n"
     ]
    }
   ],
   "source": [
    "import fasttext\n",
    "import hazm\n",
    "import numpy as np\n",
    "from keras import backend as K\n",
    "import pandas as pd\n",
    "import random\n",
    "from hazm import Normalizer\n",
    "\n",
    "VECTOR_SIZE = 300  # Dimension of the vectors\n",
    "MAX_NO_TOKENS = 107  # Maximum number of tokens\n",
    "\n",
    "BATCH_SIZE = 512\n",
    "NUM_EPOCHS = 100\n",
    "\n",
    "x_train = np.load(\"./Facebook_Dataset/x_train_Facebook.npy\")[:4000, :, :]\n",
    "x_test = np.load(\"./Facebook_Dataset/x_test_FaceBook.npy\" )[:1000, :, :]\n",
    "\n",
    "y_train = np.load(\"./Facebook_Dataset/y_train_Facebook.npy\")[:4000, :]\n",
    "y_test = np.load(\"./Facebook_Dataset/y_test_Facebook.npy\")[:1000, :]\n",
    "\n",
    "print(x_train.shape,x_test.shape,y_train.shape,y_test.shape)"
   ]
  },
  {
   "attachments": {},
   "cell_type": "markdown",
   "metadata": {},
   "source": [
    "# Convolutional Neural Network (Combined) Model Definition"
   ]
  },
  {
   "cell_type": "code",
   "execution_count": 2,
   "metadata": {
    "cellView": "form",
    "colab": {},
    "colab_type": "code",
    "id": "J1z_mq913jTq"
   },
   "outputs": [
    {
     "name": "stdout",
     "output_type": "stream",
     "text": [
      "WARNING:tensorflow:Layer lstm will not use cuDNN kernels since it doesn't meet the criteria. It will use a generic GPU kernel as fallback when running on GPU.\n",
      "WARNING:tensorflow:Layer lstm will not use cuDNN kernels since it doesn't meet the criteria. It will use a generic GPU kernel as fallback when running on GPU.\n",
      "WARNING:tensorflow:Layer lstm will not use cuDNN kernels since it doesn't meet the criteria. It will use a generic GPU kernel as fallback when running on GPU.\n"
     ]
    },
    {
     "name": "stderr",
     "output_type": "stream",
     "text": [
      "2024-01-28 08:10:23.991137: I external/local_xla/xla/stream_executor/cuda/cuda_executor.cc:901] successful NUMA node read from SysFS had negative value (-1), but there must be at least one NUMA node, so returning NUMA node zero. See more at https://github.com/torvalds/linux/blob/v6.0/Documentation/ABI/testing/sysfs-bus-pci#L344-L355\n",
      "2024-01-28 08:10:24.021049: I external/local_xla/xla/stream_executor/cuda/cuda_executor.cc:901] successful NUMA node read from SysFS had negative value (-1), but there must be at least one NUMA node, so returning NUMA node zero. See more at https://github.com/torvalds/linux/blob/v6.0/Documentation/ABI/testing/sysfs-bus-pci#L344-L355\n",
      "2024-01-28 08:10:24.021244: I external/local_xla/xla/stream_executor/cuda/cuda_executor.cc:901] successful NUMA node read from SysFS had negative value (-1), but there must be at least one NUMA node, so returning NUMA node zero. See more at https://github.com/torvalds/linux/blob/v6.0/Documentation/ABI/testing/sysfs-bus-pci#L344-L355\n",
      "2024-01-28 08:10:24.022360: I external/local_xla/xla/stream_executor/cuda/cuda_executor.cc:901] successful NUMA node read from SysFS had negative value (-1), but there must be at least one NUMA node, so returning NUMA node zero. See more at https://github.com/torvalds/linux/blob/v6.0/Documentation/ABI/testing/sysfs-bus-pci#L344-L355\n",
      "2024-01-28 08:10:24.022535: I external/local_xla/xla/stream_executor/cuda/cuda_executor.cc:901] successful NUMA node read from SysFS had negative value (-1), but there must be at least one NUMA node, so returning NUMA node zero. See more at https://github.com/torvalds/linux/blob/v6.0/Documentation/ABI/testing/sysfs-bus-pci#L344-L355\n",
      "2024-01-28 08:10:24.022692: I external/local_xla/xla/stream_executor/cuda/cuda_executor.cc:901] successful NUMA node read from SysFS had negative value (-1), but there must be at least one NUMA node, so returning NUMA node zero. See more at https://github.com/torvalds/linux/blob/v6.0/Documentation/ABI/testing/sysfs-bus-pci#L344-L355\n",
      "2024-01-28 08:10:24.122861: I external/local_xla/xla/stream_executor/cuda/cuda_executor.cc:901] successful NUMA node read from SysFS had negative value (-1), but there must be at least one NUMA node, so returning NUMA node zero. See more at https://github.com/torvalds/linux/blob/v6.0/Documentation/ABI/testing/sysfs-bus-pci#L344-L355\n",
      "2024-01-28 08:10:24.123159: I external/local_xla/xla/stream_executor/cuda/cuda_executor.cc:901] successful NUMA node read from SysFS had negative value (-1), but there must be at least one NUMA node, so returning NUMA node zero. See more at https://github.com/torvalds/linux/blob/v6.0/Documentation/ABI/testing/sysfs-bus-pci#L344-L355\n",
      "2024-01-28 08:10:24.123675: I external/local_xla/xla/stream_executor/cuda/cuda_executor.cc:901] successful NUMA node read from SysFS had negative value (-1), but there must be at least one NUMA node, so returning NUMA node zero. See more at https://github.com/torvalds/linux/blob/v6.0/Documentation/ABI/testing/sysfs-bus-pci#L344-L355\n",
      "2024-01-28 08:10:24.123810: I tensorflow/core/common_runtime/gpu/gpu_device.cc:1929] Created device /job:localhost/replica:0/task:0/device:GPU:0 with 3489 MB memory:  -> device: 0, name: NVIDIA GeForce GTX 1050 with Max-Q Design, pci bus id: 0000:02:00.0, compute capability: 6.1\n"
     ]
    },
    {
     "name": "stdout",
     "output_type": "stream",
     "text": [
      "Model: \"sequential\"\n",
      "_________________________________________________________________\n",
      " Layer (type)                Output Shape              Param #   \n",
      "=================================================================\n",
      " conv1d (Conv1D)             (None, 107, 32)           28832     \n",
      "                                                                 \n",
      " conv1d_1 (Conv1D)           (None, 107, 32)           3104      \n",
      "                                                                 \n",
      " conv1d_2 (Conv1D)           (None, 107, 32)           3104      \n",
      "                                                                 \n",
      " max_pooling1d (MaxPooling1  (None, 35, 32)            0         \n",
      " D)                                                              \n",
      "                                                                 \n",
      " bidirectional (Bidirection  (None, 1024)              2232320   \n",
      " al)                                                             \n",
      "                                                                 \n",
      " dense (Dense)               (None, 512)               524800    \n",
      "                                                                 \n",
      " dropout (Dropout)           (None, 512)               0         \n",
      "                                                                 \n",
      " dense_1 (Dense)             (None, 512)               262656    \n",
      "                                                                 \n",
      " dropout_1 (Dropout)         (None, 512)               0         \n",
      "                                                                 \n",
      " dense_2 (Dense)             (None, 512)               262656    \n",
      "                                                                 \n",
      " dropout_2 (Dropout)         (None, 512)               0         \n",
      "                                                                 \n",
      " dense_3 (Dense)             (None, 2)                 1026      \n",
      "                                                                 \n",
      "=================================================================\n",
      "Total params: 3318498 (12.66 MB)\n",
      "Trainable params: 3318498 (12.66 MB)\n",
      "Non-trainable params: 0 (0.00 Byte)\n",
      "_________________________________________________________________\n"
     ]
    }
   ],
   "source": [
    "from keras.models import Sequential\n",
    "from keras.layers import Conv1D, Dropout, Dense, Flatten, LSTM, MaxPooling1D, Bidirectional\n",
    "from keras.optimizers import Adam\n",
    "from keras.callbacks import EarlyStopping, TensorBoard\n",
    "\n",
    "\n",
    "model = Sequential()\n",
    "\n",
    "model.add(Conv1D(32, kernel_size=3, activation='elu', padding='same',\n",
    "                 input_shape=(MAX_NO_TOKENS, VECTOR_SIZE)))\n",
    "model.add(Conv1D(32, kernel_size=3, activation='elu', padding='same'))\n",
    "model.add(Conv1D(32, kernel_size=3, activation='relu', padding='same'))\n",
    "model.add(MaxPooling1D(pool_size=3))\n",
    "\n",
    "model.add(Bidirectional(LSTM(512, dropout=0.2, recurrent_dropout=0.3)))\n",
    "\n",
    "model.add(Dense(512, activation='sigmoid'))\n",
    "model.add(Dropout(0.2))\n",
    "model.add(Dense(512, activation='sigmoid'))\n",
    "model.add(Dropout(0.25))\n",
    "model.add(Dense(512, activation='sigmoid'))\n",
    "model.add(Dropout(0.25))\n",
    "\n",
    "model.add(Dense(2, activation='softmax'))\n",
    "\n",
    "model.compile(loss='categorical_crossentropy', optimizer=Adam(learning_rate=0.0001), metrics=['accuracy'])\n",
    "\n",
    "# tensorboard = TensorBoard(log_dir='logs/', histogram_freq=0, write_graph=True, write_images=True)\n",
    "\n",
    "model.summary()"
   ]
  },
  {
   "cell_type": "code",
   "execution_count": 4,
   "metadata": {
    "colab": {},
    "colab_type": "code",
    "id": "P9qfU9CM3mL-"
   },
   "outputs": [
    {
     "name": "stderr",
     "output_type": "stream",
     "text": [
      "2024-01-28 08:10:41.099499: W external/local_tsl/tsl/framework/cpu_allocator_impl.cc:83] Allocation of 513600000 exceeds 10% of free system memory.\n",
      "2024-01-28 08:10:41.573046: W external/local_tsl/tsl/framework/cpu_allocator_impl.cc:83] Allocation of 513600000 exceeds 10% of free system memory.\n"
     ]
    },
    {
     "name": "stdout",
     "output_type": "stream",
     "text": [
      "Epoch 1/100\n"
     ]
    },
    {
     "name": "stderr",
     "output_type": "stream",
     "text": [
      "2024-01-28 08:10:47.337378: W external/local_tsl/tsl/framework/cpu_allocator_impl.cc:83] Allocation of 65740800 exceeds 10% of free system memory.\n",
      "2024-01-28 08:10:47.337423: W external/local_tsl/tsl/framework/cpu_allocator_impl.cc:83] Allocation of 65740800 exceeds 10% of free system memory.\n",
      "2024-01-28 08:10:47.337452: W external/local_tsl/tsl/framework/cpu_allocator_impl.cc:83] Allocation of 65740800 exceeds 10% of free system memory.\n",
      "2024-01-28 08:10:47.604414: I external/local_xla/xla/stream_executor/cuda/cuda_dnn.cc:454] Loaded cuDNN version 8800\n",
      "2024-01-28 08:10:49.391609: I external/local_xla/xla/service/service.cc:168] XLA service 0x7f11444732a0 initialized for platform CUDA (this does not guarantee that XLA will be used). Devices:\n",
      "2024-01-28 08:10:49.391714: I external/local_xla/xla/service/service.cc:176]   StreamExecutor device (0): NVIDIA GeForce GTX 1050 with Max-Q Design, Compute Capability 6.1\n",
      "2024-01-28 08:10:49.398687: I tensorflow/compiler/mlir/tensorflow/utils/dump_mlir_util.cc:269] disabling MLIR crash reproducer, set env var `MLIR_CRASH_REPRODUCER_DIRECTORY` to enable.\n",
      "WARNING: All log messages before absl::InitializeLog() is called are written to STDERR\n",
      "I0000 00:00:1706416849.511344   10119 device_compiler.h:186] Compiled cluster using XLA!  This line is logged at most once for the lifetime of the process.\n"
     ]
    },
    {
     "name": "stdout",
     "output_type": "stream",
     "text": [
      "8/8 [==============================] - 15s 697ms/step - loss: 0.7415 - accuracy: 0.5098 - val_loss: 0.6930 - val_accuracy: 0.5090\n",
      "Epoch 2/100\n",
      "8/8 [==============================] - 4s 450ms/step - loss: 0.7428 - accuracy: 0.4922 - val_loss: 0.6931 - val_accuracy: 0.5090\n",
      "Epoch 3/100\n",
      "8/8 [==============================] - 4s 455ms/step - loss: 0.7373 - accuracy: 0.4978 - val_loss: 0.6929 - val_accuracy: 0.5090\n",
      "Epoch 4/100\n",
      "8/8 [==============================] - 4s 456ms/step - loss: 0.7289 - accuracy: 0.5092 - val_loss: 0.6928 - val_accuracy: 0.5090\n",
      "Epoch 5/100\n",
      "8/8 [==============================] - 4s 452ms/step - loss: 0.7315 - accuracy: 0.5098 - val_loss: 0.6933 - val_accuracy: 0.5090\n",
      "Epoch 6/100\n",
      "8/8 [==============================] - 4s 451ms/step - loss: 0.7303 - accuracy: 0.5085 - val_loss: 0.6927 - val_accuracy: 0.4910\n",
      "Epoch 7/100\n",
      "8/8 [==============================] - 4s 455ms/step - loss: 0.7327 - accuracy: 0.5020 - val_loss: 0.6917 - val_accuracy: 0.5090\n",
      "Epoch 8/100\n",
      "8/8 [==============================] - 4s 454ms/step - loss: 0.7287 - accuracy: 0.5123 - val_loss: 0.6903 - val_accuracy: 0.5180\n",
      "Epoch 9/100\n",
      "8/8 [==============================] - 4s 452ms/step - loss: 0.7270 - accuracy: 0.5002 - val_loss: 0.6870 - val_accuracy: 0.5410\n",
      "Epoch 10/100\n",
      "8/8 [==============================] - 4s 455ms/step - loss: 0.7168 - accuracy: 0.5182 - val_loss: 0.6886 - val_accuracy: 0.5410\n",
      "Epoch 11/100\n",
      "8/8 [==============================] - 4s 453ms/step - loss: 0.7152 - accuracy: 0.5240 - val_loss: 0.6815 - val_accuracy: 0.5870\n",
      "Epoch 12/100\n",
      "8/8 [==============================] - 4s 453ms/step - loss: 0.7048 - accuracy: 0.5330 - val_loss: 0.6759 - val_accuracy: 0.5910\n",
      "Epoch 13/100\n",
      "8/8 [==============================] - 4s 455ms/step - loss: 0.7088 - accuracy: 0.5412 - val_loss: 0.6702 - val_accuracy: 0.5990\n",
      "Epoch 14/100\n",
      "8/8 [==============================] - 4s 458ms/step - loss: 0.6977 - accuracy: 0.5633 - val_loss: 0.6627 - val_accuracy: 0.6030\n",
      "Epoch 15/100\n",
      "8/8 [==============================] - 4s 455ms/step - loss: 0.6851 - accuracy: 0.5627 - val_loss: 0.6315 - val_accuracy: 0.6300\n",
      "Epoch 16/100\n",
      "8/8 [==============================] - 4s 460ms/step - loss: 0.6383 - accuracy: 0.6365 - val_loss: 0.5704 - val_accuracy: 0.7330\n",
      "Epoch 17/100\n",
      "8/8 [==============================] - 4s 455ms/step - loss: 0.5991 - accuracy: 0.7028 - val_loss: 0.5977 - val_accuracy: 0.6690\n",
      "Epoch 18/100\n",
      "8/8 [==============================] - 4s 454ms/step - loss: 0.6248 - accuracy: 0.6643 - val_loss: 0.5773 - val_accuracy: 0.7050\n",
      "Epoch 19/100\n",
      "8/8 [==============================] - 4s 463ms/step - loss: 0.5972 - accuracy: 0.6945 - val_loss: 0.5662 - val_accuracy: 0.7100\n",
      "Epoch 20/100\n",
      "8/8 [==============================] - 4s 458ms/step - loss: 0.5751 - accuracy: 0.7340 - val_loss: 0.5487 - val_accuracy: 0.7450\n",
      "Epoch 21/100\n",
      "8/8 [==============================] - 4s 456ms/step - loss: 0.5578 - accuracy: 0.7473 - val_loss: 0.5363 - val_accuracy: 0.7460\n",
      "Epoch 22/100\n",
      "8/8 [==============================] - 4s 456ms/step - loss: 0.5552 - accuracy: 0.7415 - val_loss: 0.5332 - val_accuracy: 0.7350\n",
      "Epoch 23/100\n",
      "8/8 [==============================] - 4s 454ms/step - loss: 0.5462 - accuracy: 0.7420 - val_loss: 0.5339 - val_accuracy: 0.7500\n",
      "Epoch 24/100\n",
      "8/8 [==============================] - 4s 460ms/step - loss: 0.5324 - accuracy: 0.7538 - val_loss: 0.5179 - val_accuracy: 0.7570\n",
      "Epoch 25/100\n",
      "8/8 [==============================] - 4s 455ms/step - loss: 0.5274 - accuracy: 0.7660 - val_loss: 0.5110 - val_accuracy: 0.7590\n",
      "Epoch 26/100\n",
      "8/8 [==============================] - 4s 455ms/step - loss: 0.5078 - accuracy: 0.7713 - val_loss: 0.5038 - val_accuracy: 0.7590\n",
      "Epoch 27/100\n",
      "8/8 [==============================] - 4s 455ms/step - loss: 0.5000 - accuracy: 0.7805 - val_loss: 0.5015 - val_accuracy: 0.7590\n",
      "Epoch 28/100\n",
      "8/8 [==============================] - 4s 454ms/step - loss: 0.5016 - accuracy: 0.7772 - val_loss: 0.4965 - val_accuracy: 0.7600\n",
      "Epoch 29/100\n",
      "8/8 [==============================] - 4s 456ms/step - loss: 0.4807 - accuracy: 0.7862 - val_loss: 0.4901 - val_accuracy: 0.7560\n",
      "Epoch 30/100\n",
      "8/8 [==============================] - 4s 456ms/step - loss: 0.4779 - accuracy: 0.7905 - val_loss: 0.5053 - val_accuracy: 0.7550\n",
      "Epoch 31/100\n",
      "8/8 [==============================] - 4s 455ms/step - loss: 0.4759 - accuracy: 0.7850 - val_loss: 0.4802 - val_accuracy: 0.7720\n",
      "Epoch 32/100\n",
      "8/8 [==============================] - 4s 456ms/step - loss: 0.4657 - accuracy: 0.7950 - val_loss: 0.4801 - val_accuracy: 0.7700\n",
      "Epoch 33/100\n",
      "8/8 [==============================] - 4s 455ms/step - loss: 0.4593 - accuracy: 0.7995 - val_loss: 0.4741 - val_accuracy: 0.7740\n",
      "Epoch 34/100\n",
      "8/8 [==============================] - 4s 455ms/step - loss: 0.4505 - accuracy: 0.8000 - val_loss: 0.4713 - val_accuracy: 0.7750\n",
      "Epoch 35/100\n",
      "8/8 [==============================] - 4s 457ms/step - loss: 0.4460 - accuracy: 0.8050 - val_loss: 0.4663 - val_accuracy: 0.7760\n",
      "Epoch 36/100\n",
      "8/8 [==============================] - 4s 456ms/step - loss: 0.4388 - accuracy: 0.8052 - val_loss: 0.4674 - val_accuracy: 0.7810\n",
      "Epoch 37/100\n",
      "8/8 [==============================] - 4s 456ms/step - loss: 0.4368 - accuracy: 0.8130 - val_loss: 0.4578 - val_accuracy: 0.7770\n",
      "Epoch 38/100\n",
      "8/8 [==============================] - 4s 456ms/step - loss: 0.4388 - accuracy: 0.8133 - val_loss: 0.4600 - val_accuracy: 0.7820\n",
      "Epoch 39/100\n",
      "8/8 [==============================] - 4s 459ms/step - loss: 0.4309 - accuracy: 0.8127 - val_loss: 0.4626 - val_accuracy: 0.7790\n",
      "Epoch 40/100\n",
      "8/8 [==============================] - 4s 457ms/step - loss: 0.4238 - accuracy: 0.8185 - val_loss: 0.4644 - val_accuracy: 0.7820\n",
      "Epoch 41/100\n",
      "8/8 [==============================] - 4s 454ms/step - loss: 0.4268 - accuracy: 0.8155 - val_loss: 0.4777 - val_accuracy: 0.7770\n",
      "Epoch 42/100\n",
      "8/8 [==============================] - 4s 484ms/step - loss: 0.4276 - accuracy: 0.8205 - val_loss: 0.4567 - val_accuracy: 0.7770\n",
      "Epoch 43/100\n",
      "8/8 [==============================] - 4s 463ms/step - loss: 0.4227 - accuracy: 0.8210 - val_loss: 0.4517 - val_accuracy: 0.7810\n",
      "Epoch 44/100\n",
      "8/8 [==============================] - 4s 461ms/step - loss: 0.4163 - accuracy: 0.8195 - val_loss: 0.4677 - val_accuracy: 0.7800\n",
      "Epoch 45/100\n",
      "8/8 [==============================] - 4s 461ms/step - loss: 0.4164 - accuracy: 0.8238 - val_loss: 0.4530 - val_accuracy: 0.7950\n",
      "Epoch 46/100\n",
      "8/8 [==============================] - 4s 458ms/step - loss: 0.4116 - accuracy: 0.8245 - val_loss: 0.4515 - val_accuracy: 0.7910\n",
      "Epoch 47/100\n",
      "8/8 [==============================] - 4s 461ms/step - loss: 0.4122 - accuracy: 0.8232 - val_loss: 0.4604 - val_accuracy: 0.7890\n",
      "Epoch 48/100\n",
      "8/8 [==============================] - 4s 463ms/step - loss: 0.4094 - accuracy: 0.8270 - val_loss: 0.4534 - val_accuracy: 0.7940\n",
      "Epoch 49/100\n",
      "8/8 [==============================] - 4s 459ms/step - loss: 0.3976 - accuracy: 0.8305 - val_loss: 0.4577 - val_accuracy: 0.7880\n",
      "Epoch 50/100\n",
      "8/8 [==============================] - 4s 461ms/step - loss: 0.3999 - accuracy: 0.8245 - val_loss: 0.4635 - val_accuracy: 0.7860\n",
      "Epoch 51/100\n",
      "8/8 [==============================] - 4s 459ms/step - loss: 0.4029 - accuracy: 0.8300 - val_loss: 0.4581 - val_accuracy: 0.7900\n",
      "Epoch 52/100\n",
      "8/8 [==============================] - 4s 467ms/step - loss: 0.3993 - accuracy: 0.8315 - val_loss: 0.4475 - val_accuracy: 0.7960\n",
      "Epoch 53/100\n",
      "8/8 [==============================] - 4s 463ms/step - loss: 0.3911 - accuracy: 0.8338 - val_loss: 0.4522 - val_accuracy: 0.7930\n",
      "Epoch 54/100\n",
      "8/8 [==============================] - 4s 465ms/step - loss: 0.3931 - accuracy: 0.8360 - val_loss: 0.4505 - val_accuracy: 0.7940\n",
      "Epoch 55/100\n",
      "8/8 [==============================] - 4s 460ms/step - loss: 0.3892 - accuracy: 0.8335 - val_loss: 0.4709 - val_accuracy: 0.7860\n",
      "Epoch 56/100\n",
      "8/8 [==============================] - 4s 464ms/step - loss: 0.3861 - accuracy: 0.8388 - val_loss: 0.4605 - val_accuracy: 0.7760\n",
      "Epoch 57/100\n",
      "8/8 [==============================] - 4s 468ms/step - loss: 0.3929 - accuracy: 0.8328 - val_loss: 0.4706 - val_accuracy: 0.7890\n",
      "Epoch 58/100\n",
      "8/8 [==============================] - 4s 465ms/step - loss: 0.3820 - accuracy: 0.8440 - val_loss: 0.4569 - val_accuracy: 0.7890\n",
      "Epoch 59/100\n",
      "8/8 [==============================] - 4s 458ms/step - loss: 0.3801 - accuracy: 0.8410 - val_loss: 0.4512 - val_accuracy: 0.7960\n",
      "Epoch 60/100\n",
      "8/8 [==============================] - 4s 464ms/step - loss: 0.3737 - accuracy: 0.8438 - val_loss: 0.4524 - val_accuracy: 0.7960\n",
      "Epoch 61/100\n",
      "8/8 [==============================] - 4s 464ms/step - loss: 0.3641 - accuracy: 0.8515 - val_loss: 0.4655 - val_accuracy: 0.7910\n",
      "Epoch 62/100\n",
      "8/8 [==============================] - 4s 461ms/step - loss: 0.3644 - accuracy: 0.8515 - val_loss: 0.4543 - val_accuracy: 0.7950\n",
      "Epoch 63/100\n",
      "8/8 [==============================] - 4s 462ms/step - loss: 0.3680 - accuracy: 0.8425 - val_loss: 0.4560 - val_accuracy: 0.7860\n",
      "Epoch 64/100\n",
      "8/8 [==============================] - 4s 461ms/step - loss: 0.3650 - accuracy: 0.8490 - val_loss: 0.4568 - val_accuracy: 0.7900\n",
      "Epoch 65/100\n",
      "8/8 [==============================] - 4s 462ms/step - loss: 0.3602 - accuracy: 0.8577 - val_loss: 0.4683 - val_accuracy: 0.7820\n",
      "Epoch 66/100\n",
      "8/8 [==============================] - 4s 466ms/step - loss: 0.3570 - accuracy: 0.8547 - val_loss: 0.4664 - val_accuracy: 0.8000\n",
      "Epoch 67/100\n",
      "8/8 [==============================] - 4s 463ms/step - loss: 0.3503 - accuracy: 0.8590 - val_loss: 0.4749 - val_accuracy: 0.8010\n",
      "Epoch 68/100\n",
      "8/8 [==============================] - 4s 464ms/step - loss: 0.3523 - accuracy: 0.8625 - val_loss: 0.4660 - val_accuracy: 0.7970\n",
      "Epoch 69/100\n",
      "8/8 [==============================] - 4s 462ms/step - loss: 0.3442 - accuracy: 0.8610 - val_loss: 0.4760 - val_accuracy: 0.7950\n",
      "Epoch 70/100\n",
      "8/8 [==============================] - 4s 464ms/step - loss: 0.3490 - accuracy: 0.8587 - val_loss: 0.4636 - val_accuracy: 0.7990\n",
      "Epoch 71/100\n",
      "8/8 [==============================] - 4s 465ms/step - loss: 0.3507 - accuracy: 0.8535 - val_loss: 0.4751 - val_accuracy: 0.7950\n",
      "Epoch 72/100\n",
      "8/8 [==============================] - 4s 465ms/step - loss: 0.3456 - accuracy: 0.8587 - val_loss: 0.4567 - val_accuracy: 0.7880\n",
      "Epoch 73/100\n",
      "8/8 [==============================] - 4s 461ms/step - loss: 0.3414 - accuracy: 0.8575 - val_loss: 0.4598 - val_accuracy: 0.7940\n",
      "Epoch 74/100\n",
      "8/8 [==============================] - 4s 462ms/step - loss: 0.3303 - accuracy: 0.8665 - val_loss: 0.4886 - val_accuracy: 0.7770\n",
      "Epoch 75/100\n",
      "8/8 [==============================] - 4s 464ms/step - loss: 0.3327 - accuracy: 0.8655 - val_loss: 0.4764 - val_accuracy: 0.7690\n",
      "Epoch 76/100\n",
      "8/8 [==============================] - 4s 465ms/step - loss: 0.3489 - accuracy: 0.8568 - val_loss: 0.4797 - val_accuracy: 0.7680\n",
      "Epoch 77/100\n",
      "8/8 [==============================] - 4s 461ms/step - loss: 0.3380 - accuracy: 0.8662 - val_loss: 0.4808 - val_accuracy: 0.7760\n",
      "Epoch 78/100\n",
      "8/8 [==============================] - 4s 464ms/step - loss: 0.3327 - accuracy: 0.8627 - val_loss: 0.4714 - val_accuracy: 0.7750\n",
      "Epoch 79/100\n",
      "8/8 [==============================] - 4s 464ms/step - loss: 0.3306 - accuracy: 0.8690 - val_loss: 0.4816 - val_accuracy: 0.7710\n",
      "Epoch 80/100\n",
      "8/8 [==============================] - 4s 462ms/step - loss: 0.3301 - accuracy: 0.8720 - val_loss: 0.4926 - val_accuracy: 0.7660\n",
      "Epoch 81/100\n",
      "8/8 [==============================] - 4s 465ms/step - loss: 0.3268 - accuracy: 0.8723 - val_loss: 0.5067 - val_accuracy: 0.7670\n",
      "Epoch 82/100\n",
      "8/8 [==============================] - 4s 466ms/step - loss: 0.3265 - accuracy: 0.8687 - val_loss: 0.5040 - val_accuracy: 0.7700\n",
      "Epoch 83/100\n",
      "8/8 [==============================] - 4s 472ms/step - loss: 0.3148 - accuracy: 0.8808 - val_loss: 0.4894 - val_accuracy: 0.7740\n",
      "Epoch 84/100\n",
      "8/8 [==============================] - 4s 463ms/step - loss: 0.3104 - accuracy: 0.8857 - val_loss: 0.4848 - val_accuracy: 0.7830\n",
      "Epoch 85/100\n",
      "8/8 [==============================] - 4s 461ms/step - loss: 0.3151 - accuracy: 0.8800 - val_loss: 0.4764 - val_accuracy: 0.7900\n",
      "Epoch 86/100\n",
      "8/8 [==============================] - 4s 463ms/step - loss: 0.3179 - accuracy: 0.8717 - val_loss: 0.4768 - val_accuracy: 0.8030\n",
      "Epoch 87/100\n",
      "8/8 [==============================] - 4s 475ms/step - loss: 0.3148 - accuracy: 0.8783 - val_loss: 0.4869 - val_accuracy: 0.8000\n",
      "Epoch 88/100\n",
      "8/8 [==============================] - 4s 465ms/step - loss: 0.3062 - accuracy: 0.8820 - val_loss: 0.4872 - val_accuracy: 0.7990\n",
      "Epoch 89/100\n",
      "8/8 [==============================] - 4s 463ms/step - loss: 0.3071 - accuracy: 0.8800 - val_loss: 0.4800 - val_accuracy: 0.8020\n",
      "Epoch 90/100\n",
      "8/8 [==============================] - 4s 463ms/step - loss: 0.2897 - accuracy: 0.8917 - val_loss: 0.4986 - val_accuracy: 0.7910\n",
      "Epoch 91/100\n",
      "8/8 [==============================] - 4s 469ms/step - loss: 0.2921 - accuracy: 0.8913 - val_loss: 0.4869 - val_accuracy: 0.7900\n",
      "Epoch 92/100\n",
      "8/8 [==============================] - 4s 469ms/step - loss: 0.2940 - accuracy: 0.8913 - val_loss: 0.5118 - val_accuracy: 0.7860\n",
      "Epoch 93/100\n",
      "8/8 [==============================] - 4s 464ms/step - loss: 0.3106 - accuracy: 0.8775 - val_loss: 0.4919 - val_accuracy: 0.7820\n",
      "Epoch 94/100\n",
      "8/8 [==============================] - 4s 463ms/step - loss: 0.2856 - accuracy: 0.8932 - val_loss: 0.5062 - val_accuracy: 0.7880\n",
      "Epoch 95/100\n",
      "8/8 [==============================] - 4s 468ms/step - loss: 0.2825 - accuracy: 0.8938 - val_loss: 0.4913 - val_accuracy: 0.7850\n",
      "Epoch 96/100\n",
      "8/8 [==============================] - 4s 464ms/step - loss: 0.2830 - accuracy: 0.8903 - val_loss: 0.5078 - val_accuracy: 0.7910\n",
      "Epoch 97/100\n",
      "8/8 [==============================] - 4s 467ms/step - loss: 0.2820 - accuracy: 0.8982 - val_loss: 0.4878 - val_accuracy: 0.7940\n",
      "Epoch 98/100\n",
      "8/8 [==============================] - 4s 463ms/step - loss: 0.2766 - accuracy: 0.8982 - val_loss: 0.5243 - val_accuracy: 0.7860\n",
      "Epoch 99/100\n",
      "8/8 [==============================] - 4s 464ms/step - loss: 0.2727 - accuracy: 0.8963 - val_loss: 0.5054 - val_accuracy: 0.7930\n",
      "Epoch 100/100\n",
      "8/8 [==============================] - 4s 466ms/step - loss: 0.2670 - accuracy: 0.9040 - val_loss: 0.5159 - val_accuracy: 0.7930\n"
     ]
    }
   ],
   "source": [
    "from tensorflow.keras.callbacks import CSVLogger\n",
    "\n",
    "# Filepath to save the CSV log\n",
    "csv_logger_filepath = 'Combined_Small_Facebook_Result.csv'\n",
    "\n",
    "# Create CSVLogger callback\n",
    "csv_logger = CSVLogger(csv_logger_filepath, append=True)\n",
    "\n",
    "# Fit the model\n",
    "history = model.fit(\n",
    "    x_train, \n",
    "    y_train, \n",
    "    batch_size=BATCH_SIZE, \n",
    "    epochs=NUM_EPOCHS, \n",
    "    shuffle=True, \n",
    "    validation_data=(x_test, y_test),\n",
    "    callbacks=[csv_logger]\n",
    ")"
   ]
  },
  {
   "cell_type": "code",
   "execution_count": 5,
   "metadata": {},
   "outputs": [
    {
     "data": {
      "image/png": "[encoded data removed]",
      "text/plain": [
       "<Figure size 640x480 with 2 Axes>"
      ]
     },
     "metadata": {},
     "output_type": "display_data"
    }
   ],
   "source": [
    "import matplotlib.pyplot as plt\n",
    "\n",
    "# Assuming 'history' is the variable that contains your model training history.\n",
    "# Replace 'history' with the actual name of the variable if it's different.\n",
    "\n",
    "# Accuracy plot\n",
    "plt.subplot(1, 2, 1)\n",
    "plt.plot(history.history['accuracy'], label='Training Accuracy')\n",
    "plt.plot(history.history['val_accuracy'], label='Validation Accuracy')\n",
    "plt.title('Model Accuracy')\n",
    "plt.ylabel('Accuracy')\n",
    "plt.xlabel('Epoch')\n",
    "plt.legend(loc='lower right')\n",
    "\n",
    "# Loss plot\n",
    "plt.subplot(1, 2, 2)\n",
    "plt.plot(history.history['loss'], label='Training Loss')\n",
    "plt.plot(history.history['val_loss'], label='Validation Loss')\n",
    "plt.title('Model Loss')\n",
    "plt.ylabel('Loss')\n",
    "plt.xlabel('Epoch')\n",
    "plt.legend(loc='upper right')\n",
    "\n",
    "# Adjust layout and show the plot\n",
    "plt.tight_layout()\n",
    "plt.show()"
   ]
  },
  {
   "cell_type": "code",
   "execution_count": 6,
   "metadata": {
    "colab": {},
    "colab_type": "code",
    "id": "UpocYJkB7KMs"
   },
   "outputs": [
    {
     "name": "stdout",
     "output_type": "stream",
     "text": [
      "32/32 [==============================] - 1s 30ms/step - loss: 0.5159 - accuracy: 0.7930\n"
     ]
    },
    {
     "data": {
      "text/plain": [
       "[0.5158835053443909, 0.7929999828338623]"
      ]
     },
     "execution_count": 6,
     "metadata": {},
     "output_type": "execute_result"
    }
   ],
   "source": [
    "model.evaluate(x=x_test, y=y_test, batch_size=32, verbose=1)"
   ]
  },
  {
   "cell_type": "code",
   "execution_count": 7,
   "metadata": {
    "colab": {},
    "colab_type": "code",
    "id": "U5xPkhZX7Qmq"
   },
   "outputs": [
    {
     "name": "stdout",
     "output_type": "stream",
     "text": [
      "INFO:tensorflow:Assets written to: Combined_Small_Facebook_80P.model/assets\n"
     ]
    },
    {
     "name": "stderr",
     "output_type": "stream",
     "text": [
      "INFO:tensorflow:Assets written to: Combined_Small_Facebook_80P.model/assets\n"
     ]
    }
   ],
   "source": [
    "model.save('Combined_Small_Facebook_80P.model')"
   ]
  },
  {
   "attachments": {},
   "cell_type": "markdown",
   "metadata": {
    "colab_type": "text",
    "id": "lJxZj2vr7uMO"
   },
   "source": [
    "# Model Loading and Configuration"
   ]
  },
  {
   "cell_type": "code",
   "execution_count": 4,
   "metadata": {},
   "outputs": [
    {
     "name": "stderr",
     "output_type": "stream",
     "text": [
      "Warning : `load_model` does not return WordVectorModel or SupervisedModel any more, but a `FastText` object which is very similar.\n"
     ]
    }
   ],
   "source": [
    "import fasttext\n",
    "import hazm\n",
    "import numpy as np\n",
    "from keras import backend as K\n",
    "import pandas as pd\n",
    "import random\n",
    "from hazm import Normalizer\n",
    "from tensorflow.keras.models import load_model\n",
    "\n",
    "VECTOR_SIZE = 300  # Dimension of the vectors\n",
    "MAX_NO_TOKENS = 107  # Maximum number of tokens\n",
    "\n",
    "model = load_model(\"Combined_Small_Facebook_80P.model\")\n",
    "W2V_Model = fasttext.load_model(\"Facebook_Embedding_Model_300.bin\")"
   ]
  },
  {
   "cell_type": "code",
   "execution_count": 8,
   "metadata": {
    "cellView": "form",
    "colab": {},
    "colab_type": "code",
    "id": "xXt5rQ0qmyax"
   },
   "outputs": [
    {
     "data": {
      "application/vnd.jupyter.widget-view+json": {
       "model_id": "c1568293cfc04da9823cbabed67e838d",
       "version_major": 2,
       "version_minor": 0
      },
      "text/plain": [
       "Text(value='', continuous_update=False, description='Input:', placeholder='Type something')"
      ]
     },
     "metadata": {},
     "output_type": "display_data"
    }
   ],
   "source": [
    "import numpy as np\n",
    "import hazm\n",
    "from keras import backend as K\n",
    "from IPython.display import display, HTML\n",
    "import ipywidgets as widgets\n",
    "from IPython.display import clear_output\n",
    "\n",
    "# Define the function for normalization and tokenization\n",
    "def normalize_and_tokenize(text):\n",
    "    normalizer = hazm.Normalizer()\n",
    "    return hazm.word_tokenize(normalizer.normalize(text))\n",
    "\n",
    "# Define the function for vectorizing text\n",
    "def vectorize_text(words, model, max_tokens, vector_size):\n",
    "    vectors = [model.get_word_vector(word) for word in words if word in model.words][:max_tokens]\n",
    "    x_vectors = np.zeros((1, max_tokens, vector_size), dtype=K.floatx())\n",
    "    x_vectors[0, :len(vectors), :] = vectors\n",
    "    return x_vectors\n",
    "\n",
    "# Define the function to display sentiment analysis results\n",
    "def display_sentiment(result, images_src_path='./Assets/Images/'):\n",
    "    pos_percent = f\"{int(result[0][1] * 100)} % \"\n",
    "    neg_percent = f\"{int(result[0][0] * 100)} % \"\n",
    "    html_content = f\"<div style='text-align: center'><div style='display:inline-block'><img height='64px' width='64px' src='{images_src_path}smile.png'/><h4>{pos_percent}</h4></div> | <div style='display:inline-block'><img height='64px' width='64px' src='{images_src_path}angry.png'/><h4>{neg_percent}</h4></div></div>\"\n",
    "    display(HTML(html_content))\n",
    "\n",
    "# Callback function to process and display results\n",
    "def on_text_change(change):\n",
    "    if change['type'] == 'change' and change['name'] == 'value':\n",
    "        clear_output(wait=True)\n",
    "        user_text = change['new']\n",
    "        if user_text:\n",
    "            tokenized_text = normalize_and_tokenize(user_text)\n",
    "            x_text_vectors = vectorize_text(tokenized_text, W2V_Model, MAX_NO_TOKENS, VECTOR_SIZE)\n",
    "            result = model.predict(x_text_vectors)  # Replace 'model' with your trained model\n",
    "            display_sentiment(result)\n",
    "        else:\n",
    "            print(\"Please enter your text\")\n",
    "\n",
    "# Create a text input widget\n",
    "text_input = widgets.Text(\n",
    "    value='',\n",
    "    placeholder='Type something',\n",
    "    description='Input:',\n",
    "    continuous_update=False,  # Set to False to trigger the event only when the user stops typing\n",
    "    disabled=False\n",
    ")\n",
    "\n",
    "# Display the text input widget\n",
    "display(text_input)\n",
    "\n",
    "# Set the callback function for text input\n",
    "text_input.observe(on_text_change, names='value')\n"
   ]
  }
 ],
 "metadata": {
  "accelerator": "GPU",
  "colab": {
   "collapsed_sections": [],
   "include_colab_link": true,
   "name": "Tutorial.ipynb",
   "provenance": []
  },
  "kernelspec": {
   "display_name": "Python 3 (ipykernel)",
   "language": "python",
   "name": "python3"
  },
  "language_info": {
   "codemirror_mode": {
    "name": "ipython",
    "version": 3
   },
   "file_extension": ".py",
   "mimetype": "text/x-python",
   "name": "python",
   "nbconvert_exporter": "python",
   "pygments_lexer": "ipython3",
   "version": "3.11.7"
  }
 },
 "nbformat": 4,
 "nbformat_minor": 4
}
