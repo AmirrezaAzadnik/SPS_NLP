{
 "cells": [
  {
   "cell_type": "markdown",
   "metadata": {
    "colab_type": "text",
    "id": "2ZKbBDbX7Mza"
   },
   "source": [
    "# Data Preprocessing"
   ]
  },
  {
   "cell_type": "code",
   "execution_count": null,
   "metadata": {
    "cellView": "form",
    "colab": {},
    "colab_type": "code",
    "id": "nAQMVT05MMY4"
   },
   "outputs": [],
   "source": [
    "import pandas as pd\n",
    "import random\n",
    "from hazm import Normalizer\n",
    "\n",
    "def clean_persian_text(text):\n",
    "    normalizer = Normalizer()\n",
    "    return normalizer.normalize(text)\n",
    "\n",
    "def load_and_process_data(file_path):\n",
    "    try:\n",
    "        csv_dataset = pd.read_csv(file_path)\n",
    "        reviews = [(clean_persian_text(text), sentiment) for text, sentiment in zip(csv_dataset['Text'], csv_dataset['Sentiment'])]\n",
    "        return reviews\n",
    "    except FileNotFoundError:\n",
    "        print(\"File not found. Please check the file path.\")\n",
    "        return []\n",
    "\n",
    "def filter_reviews_by_sentiment(reviews, sentiment):\n",
    "    return [review for review in reviews if review[1] == sentiment]\n",
    "\n",
    "def print_random_sample(reviews, sentiment):\n",
    "    if reviews:\n",
    "        print(f\"{sentiment} sample : \\n\", random.choice(reviews))\n",
    "    else:\n",
    "        print(f\"No {sentiment} reviews available.\")\n",
    "\n",
    "\n",
    "file_path = \"Raw_Dataset_97P_107.csv\"\n",
    "reviews = load_and_process_data(file_path)\n",
    "\n",
    "positive_reviews = filter_reviews_by_sentiment(reviews, \"positive\")\n",
    "negative_reviews = filter_reviews_by_sentiment(reviews, \"negative\")\n",
    "neutral_reviews = filter_reviews_by_sentiment(reviews, \"neutral\")\n",
    "\n",
    "balanced_reviews = positive_reviews + negative_reviews\n",
    "random.shuffle(balanced_reviews)"
   ]
  },
  {
   "cell_type": "code",
   "execution_count": null,
   "metadata": {},
   "outputs": [],
   "source": [
    "import matplotlib.pyplot as plt\n",
    "\n",
    "# Count of each sentiment category\n",
    "sentiment_counts = {\n",
    "    \"Positive\": len(positive_reviews),\n",
    "    \"Negative\": len(negative_reviews),\n",
    "    \"Neutral\": len(neutral_reviews),\n",
    "}\n",
    "\n",
    "# Total count of reviews\n",
    "total_count = len(reviews)\n",
    "\n",
    "# Display counts in a bar chart\n",
    "plt.figure(figsize=(10, 6))\n",
    "plt.bar(sentiment_counts.keys(), sentiment_counts.values(), color=['green', 'red', 'blue'])\n",
    "plt.xlabel(\"Sentiment\")\n",
    "plt.ylabel(\"Count\")\n",
    "plt.title(\"Sentiment Analysis Results\")\n",
    "plt.show()\n",
    "\n",
    "# Display random samples\n",
    "print(\"\\nRandom Samples:\")\n",
    "print(f\"Positive Sample: {print_random_sample(positive_reviews, 'Positive')}\")\n",
    "print(f\"Negative Sample: {print_random_sample(negative_reviews, 'Negative')}\")\n",
    "print(f\"Neutral Sample: {print_random_sample(neutral_reviews, 'Neutral')}\")\n",
    "\n",
    "# Display count of the balanced dataset\n",
    "print(f\"\\nBalanced dataset count: {len(balanced_reviews)}\")"
   ]
  },
  {
   "cell_type": "markdown",
   "metadata": {},
   "source": [
    "# Data Preparation for Text Classification"
   ]
  },
  {
   "cell_type": "code",
   "execution_count": null,
   "metadata": {
    "cellView": "form",
    "colab": {},
    "colab_type": "code",
    "id": "wUJceKehjfJ3"
   },
   "outputs": [],
   "source": [
    "import numpy as np\n",
    "from keras import backend as K\n",
    "\n",
    "VECTOR_SIZE = 300  # Dimension of the vectors\n",
    "MAX_NO_TOKENS = 107  # Maximum number of tokens\n",
    "TRAIN_TEST_SPLIT = 0.8  # Proportion of the data to be used for training\n",
    "\n",
    "def split_data(data, train_test_split):\n",
    "    train_size = int(train_test_split * len(data))\n",
    "    test_size = len(data) - train_size\n",
    "    return train_size, test_size\n",
    "\n",
    "def initialize_arrays(train_size, test_size, max_tokens, VECTOR_SIZE):\n",
    "    x_train = np.zeros((train_size, max_tokens, VECTOR_SIZE), dtype=K.floatx())\n",
    "    y_train = np.zeros((train_size, 2), dtype=np.int32)\n",
    "\n",
    "    x_test = np.zeros((test_size, max_tokens, VECTOR_SIZE), dtype=K.floatx())\n",
    "    y_test = np.zeros((test_size, 2), dtype=np.int32)\n",
    "\n",
    "    return x_train, y_train, x_test, y_test\n",
    "\n",
    "train_size, test_size = split_data(balanced_reviews, TRAIN_TEST_SPLIT)\n",
    "x_train, y_train, x_test, y_test = initialize_arrays(train_size, test_size, MAX_NO_TOKENS, VECTOR_SIZE)"
   ]
  },
  {
   "cell_type": "code",
   "execution_count": 17,
   "metadata": {},
   "outputs": [
    {
     "name": "stdout",
     "output_type": "stream",
     "text": [
      "Data Information:\n",
      "╒═════════╤══════════════════╕\n",
      "│ Item    │ Shape/Size       │\n",
      "╞═════════╪══════════════════╡\n",
      "│ x_train │ (4000, 107, 300) │\n",
      "├─────────┼──────────────────┤\n",
      "│ x_test  │ (1000, 107, 300) │\n",
      "├─────────┼──────────────────┤\n",
      "│ y_train │ (4000, 2)        │\n",
      "├─────────┼──────────────────┤\n",
      "│ y_test  │ (1000, 2)        │\n",
      "╘═════════╧══════════════════╛\n"
     ]
    }
   ],
   "source": [
    "import tabulate\n",
    "\n",
    "# Shapes of the arrays\n",
    "shapes_data = [\n",
    "    [\"x_train\", x_train.shape],\n",
    "    [\"x_test\", x_test.shape],\n",
    "    [\"y_train\", y_train.shape],\n",
    "    [\"y_test\", y_test.shape]\n",
    "]\n",
    "\n",
    "# Display vocabulary size and array shapes in a table\n",
    "table = tabulate.tabulate(shapes_data, headers=[\"Item\", \"Shape/Size\"], tablefmt=\"fancy_grid\")\n",
    "print(\"Data Information:\")\n",
    "print(table)"
   ]
  },
  {
   "cell_type": "markdown",
   "metadata": {},
   "source": [
    "# Text Vectorization and Sentiment Classification"
   ]
  },
  {
   "cell_type": "code",
   "execution_count": null,
   "metadata": {
    "cellView": "form",
    "colab": {},
    "colab_type": "code",
    "id": "jvcGBpjPwFL0"
   },
   "outputs": [],
   "source": [
    "import numpy as np\n",
    "import fasttext\n",
    "import hazm\n",
    "\n",
    "def load_fasttext_model(model_path):\n",
    "    return fasttext.load_model(model_path)\n",
    "\n",
    "def tokenize_text(text, tokenizer, max_tokens):\n",
    "    return tokenizer.tokenize(text)[:max_tokens]\n",
    "\n",
    "def vectorize_text(text, model, max_tokens):\n",
    "    return [model.get_word_vector(word) for word in text if word in model.words][:max_tokens]\n",
    "\n",
    "def process_reviews(reviews, model, tokenizer, max_tokens, label_map):\n",
    "    x_data = []\n",
    "    y_data = []\n",
    "    unique_words = set()\n",
    "\n",
    "    for text, sentiment in reviews:\n",
    "        tokenized_text = tokenize_text(text, tokenizer, max_tokens)\n",
    "        unique_words.update(tokenized_text)\n",
    "        vectorized_text = vectorize_text(tokenized_text, model, max_tokens)\n",
    "\n",
    "        if not vectorized_text:\n",
    "            continue\n",
    "\n",
    "        padded_vector = np.zeros((max_tokens, model.get_dimension()), dtype=np.float32)\n",
    "        padded_vector[:len(vectorized_text), :] = vectorized_text\n",
    "\n",
    "        x_data.append(padded_vector)\n",
    "        y_data.append(label_map.get(sentiment, label_map['other']))\n",
    "\n",
    "    return np.array(x_data), np.array(y_data), len(unique_words)\n",
    "\n",
    "# Load model and tokenizer\n",
    "W2V_Model = load_fasttext_model(\"Facebook_Embedding_Model_300.bin\")\n",
    "tokenizer = hazm.WordTokenizer()\n",
    "\n",
    "# Assuming 'balanced_reviews' is a list of (text, sentiment) tuples\n",
    "all_reviews = balanced_reviews  # Use the complete set of reviews\n",
    "train_reviews = balanced_reviews[:train_size]\n",
    "test_reviews = balanced_reviews[train_size:]\n",
    "\n",
    "# Define a mapping for sentiment to binary labels\n",
    "sentiment_label_map = {\"negative\": [1.0, 0.0], 'other': [0.0, 1.0]}  # Adjust based on actual labels\n",
    "\n",
    "x_train, y_train, vocabulary_size = process_reviews(train_reviews, W2V_Model, tokenizer, MAX_NO_TOKENS, sentiment_label_map)\n",
    "x_test, y_test, _ = process_reviews(test_reviews, W2V_Model, tokenizer, MAX_NO_TOKENS, sentiment_label_map)"
   ]
  },
  {
   "cell_type": "code",
   "execution_count": 15,
   "metadata": {},
   "outputs": [
    {
     "name": "stdout",
     "output_type": "stream",
     "text": [
      "Data Information:\n",
      "╒═════════╤══════════════════╕\n",
      "│ Item    │ Shape/Size       │\n",
      "╞═════════╪══════════════════╡\n",
      "│ x_train │ (4000, 107, 300) │\n",
      "├─────────┼──────────────────┤\n",
      "│ x_test  │ (1000, 107, 300) │\n",
      "├─────────┼──────────────────┤\n",
      "│ y_train │ (4000, 2)        │\n",
      "├─────────┼──────────────────┤\n",
      "│ y_test  │ (1000, 2)        │\n",
      "╘═════════╧══════════════════╛\n"
     ]
    }
   ],
   "source": [
    "import tabulate\n",
    "\n",
    "# Shapes of the arrays\n",
    "shapes_data = [\n",
    "    [\"x_train\", x_train.shape],\n",
    "    [\"x_test\", x_test.shape],\n",
    "    [\"y_train\", y_train.shape],\n",
    "    [\"y_test\", y_test.shape]\n",
    "]\n",
    "\n",
    "# Display vocabulary size and array shapes in a table\n",
    "table = tabulate.tabulate(shapes_data, headers=[\"Item\", \"Shape/Size\"], tablefmt=\"fancy_grid\")\n",
    "print(\"Data Information:\")\n",
    "print(table)"
   ]
  },
  {
   "cell_type": "markdown",
   "metadata": {},
   "source": [
    "# Saving Data and Cleaning Resources"
   ]
  },
  {
   "cell_type": "code",
   "execution_count": null,
   "metadata": {},
   "outputs": [],
   "source": [
    "np.save(\"x_train_Facebook_Large.npy\", x_train)\n",
    "np.save(\"x_test_Facebook_Large.npy\", x_test)\n",
    "np.save(\"y_train_Facebook_Large.npy\", y_train)\n",
    "np.save(\"y_test_Facebook_Large.npy\", y_test)\n",
    "del W2V_Model"
   ]
  },
  {
   "cell_type": "markdown",
   "metadata": {
    "colab_type": "text",
    "id": "dDunM15J7n8E"
   },
   "source": [
    "# Data Loading and Main Configuration"
   ]
  },
  {
   "cell_type": "code",
   "execution_count": 1,
   "metadata": {},
   "outputs": [
    {
     "name": "stderr",
     "output_type": "stream",
     "text": [
      "2024-01-28 04:42:57.258630: I tensorflow/core/util/port.cc:113] oneDNN custom operations are on. You may see slightly different numerical results due to floating-point round-off errors from different computation orders. To turn them off, set the environment variable `TF_ENABLE_ONEDNN_OPTS=0`.\n",
      "2024-01-28 04:42:57.260693: I external/local_tsl/tsl/cuda/cudart_stub.cc:31] Could not find cuda drivers on your machine, GPU will not be used.\n",
      "2024-01-28 04:42:57.286649: E external/local_xla/xla/stream_executor/cuda/cuda_dnn.cc:9261] Unable to register cuDNN factory: Attempting to register factory for plugin cuDNN when one has already been registered\n",
      "2024-01-28 04:42:57.286672: E external/local_xla/xla/stream_executor/cuda/cuda_fft.cc:607] Unable to register cuFFT factory: Attempting to register factory for plugin cuFFT when one has already been registered\n",
      "2024-01-28 04:42:57.287490: E external/local_xla/xla/stream_executor/cuda/cuda_blas.cc:1515] Unable to register cuBLAS factory: Attempting to register factory for plugin cuBLAS when one has already been registered\n",
      "2024-01-28 04:42:57.291815: I external/local_tsl/tsl/cuda/cudart_stub.cc:31] Could not find cuda drivers on your machine, GPU will not be used.\n",
      "2024-01-28 04:42:57.292253: I tensorflow/core/platform/cpu_feature_guard.cc:182] This TensorFlow binary is optimized to use available CPU instructions in performance-critical operations.\n",
      "To enable the following instructions: AVX2 AVX512F AVX512_VNNI FMA, in other operations, rebuild TensorFlow with the appropriate compiler flags.\n",
      "2024-01-28 04:42:57.975856: W tensorflow/compiler/tf2tensorrt/utils/py_utils.cc:38] TF-TRT Warning: Could not find TensorRT\n"
     ]
    },
    {
     "name": "stdout",
     "output_type": "stream",
     "text": [
      "(66598, 107, 300) (7400, 107, 300) (66598, 2) (7400, 2)\n"
     ]
    }
   ],
   "source": [
    "import fasttext\n",
    "import hazm\n",
    "import numpy as np\n",
    "from keras import backend as K\n",
    "import pandas as pd\n",
    "import random\n",
    "from hazm import Normalizer\n",
    "\n",
    "VECTOR_SIZE = 300  # Dimension of the vectors\n",
    "MAX_NO_TOKENS = 107  # Maximum number of tokens\n",
    "\n",
    "BATCH_SIZE = 512\n",
    "NUM_EPOCHS = 40\n",
    "\n",
    "x_train = np.load(\"./Facebook_Dataset/x_train_Facebook.npy\")\n",
    "x_test = np.load(\"./Facebook_Dataset/x_test_FaceBook.npy\" )\n",
    "\n",
    "y_train = np.load(\"./Facebook_Dataset/y_train_Facebook.npy\")\n",
    "y_test = np.load(\"./Facebook_Dataset/y_test_Facebook.npy\")\n",
    "\n",
    "print(x_train.shape,x_test.shape,y_train.shape,y_test.shape)"
   ]
  },
  {
   "cell_type": "markdown",
   "metadata": {},
   "source": [
    "# Convolutional Neural Network (LSTM) Model Definition"
   ]
  },
  {
   "cell_type": "code",
   "execution_count": 2,
   "metadata": {
    "cellView": "form",
    "colab": {},
    "colab_type": "code",
    "id": "J1z_mq913jTq"
   },
   "outputs": [
    {
     "name": "stdout",
     "output_type": "stream",
     "text": [
      "Model: \"sequential\"\n",
      "_________________________________________________________________\n",
      " Layer (type)                Output Shape              Param #   \n",
      "=================================================================\n",
      " bidirectional (Bidirection  (None, 107, 64)           85248     \n",
      " al)                                                             \n",
      "                                                                 \n",
      " batch_normalization (Batch  (None, 107, 64)           256       \n",
      " Normalization)                                                  \n",
      "                                                                 \n",
      " bidirectional_1 (Bidirecti  (None, 32)                10368     \n",
      " onal)                                                           \n",
      "                                                                 \n",
      " dense (Dense)               (None, 16)                528       \n",
      "                                                                 \n",
      " dropout (Dropout)           (None, 16)                0         \n",
      "                                                                 \n",
      " dense_1 (Dense)             (None, 2)                 34        \n",
      "                                                                 \n",
      "=================================================================\n",
      "Total params: 96434 (376.70 KB)\n",
      "Trainable params: 96306 (376.20 KB)\n",
      "Non-trainable params: 128 (512.00 Byte)\n",
      "_________________________________________________________________\n"
     ]
    }
   ],
   "source": [
    "from keras.models import Sequential\n",
    "from keras.layers import Embedding, LSTM, Dense, Dropout, Bidirectional, BatchNormalization\n",
    "from keras.regularizers import l2\n",
    "from keras.optimizers import Adam\n",
    "from keras.callbacks import EarlyStopping\n",
    "\n",
    "model = Sequential()\n",
    "\n",
    "# Bidirectional LSTM with Dropout and L2 Regularization\n",
    "model.add(Bidirectional(LSTM(32, return_sequences=True, dropout=0.5, recurrent_dropout=0.5, kernel_regularizer=l2(0.01)), input_shape=(MAX_NO_TOKENS, VECTOR_SIZE)))\n",
    "model.add(BatchNormalization())\n",
    "model.add(Bidirectional(LSTM(16, dropout=0.5, recurrent_dropout=0.5, kernel_regularizer=l2(0.01))))\n",
    "\n",
    "# Dense Layer with Dropout and L2 Regularization\n",
    "model.add(Dense(16, activation='relu', kernel_regularizer=l2(0.01)))\n",
    "model.add(Dropout(0.5))\n",
    "\n",
    "# Output Layer\n",
    "model.add(Dense(2, activation='softmax'))\n",
    "\n",
    "# Compile the model\n",
    "optimizer = Adam(learning_rate=0.0005)\n",
    "model.compile(loss='categorical_crossentropy', optimizer=optimizer, metrics=['accuracy'])\n",
    "\n",
    "# Early Stopping Callback\n",
    "early_stopping = EarlyStopping(monitor='val_loss', patience=3, restore_best_weights=True)\n",
    "\n",
    "model.summary()"
   ]
  },
  {
   "cell_type": "code",
   "execution_count": 3,
   "metadata": {
    "colab": {},
    "colab_type": "code",
    "id": "P9qfU9CM3mL-"
   },
   "outputs": [
    {
     "name": "stdout",
     "output_type": "stream",
     "text": [
      "Epoch 1/40\n",
      "131/131 [==============================] - 72s 514ms/step - loss: 3.4192 - accuracy: 0.6420 - val_loss: 1.9328 - val_accuracy: 0.7682\n",
      "Epoch 2/40\n",
      "131/131 [==============================] - 68s 517ms/step - loss: 1.2724 - accuracy: 0.7668 - val_loss: 0.9939 - val_accuracy: 0.7974\n",
      "Epoch 3/40\n",
      "131/131 [==============================] - 68s 519ms/step - loss: 0.7631 - accuracy: 0.7811 - val_loss: 0.6919 - val_accuracy: 0.8111\n",
      "Epoch 4/40\n",
      "131/131 [==============================] - 68s 523ms/step - loss: 0.6119 - accuracy: 0.7821 - val_loss: 0.5794 - val_accuracy: 0.7838\n",
      "Epoch 5/40\n",
      "131/131 [==============================] - 69s 524ms/step - loss: 0.5504 - accuracy: 0.7888 - val_loss: 0.4925 - val_accuracy: 0.8155\n",
      "Epoch 6/40\n",
      "131/131 [==============================] - 69s 525ms/step - loss: 0.5236 - accuracy: 0.7938 - val_loss: 0.4637 - val_accuracy: 0.8247\n",
      "Epoch 7/40\n",
      "131/131 [==============================] - 69s 525ms/step - loss: 0.5097 - accuracy: 0.7934 - val_loss: 0.4563 - val_accuracy: 0.8209\n",
      "Epoch 8/40\n",
      "131/131 [==============================] - 69s 526ms/step - loss: 0.4988 - accuracy: 0.7968 - val_loss: 0.4428 - val_accuracy: 0.8228\n",
      "Epoch 9/40\n",
      "131/131 [==============================] - 69s 527ms/step - loss: 0.4922 - accuracy: 0.7994 - val_loss: 0.4364 - val_accuracy: 0.8299\n",
      "Epoch 10/40\n",
      "131/131 [==============================] - 69s 526ms/step - loss: 0.4871 - accuracy: 0.8004 - val_loss: 0.4257 - val_accuracy: 0.8241\n",
      "Epoch 11/40\n",
      "131/131 [==============================] - 69s 526ms/step - loss: 0.4873 - accuracy: 0.7987 - val_loss: 0.4306 - val_accuracy: 0.8259\n",
      "Epoch 12/40\n",
      "131/131 [==============================] - 69s 526ms/step - loss: 0.4832 - accuracy: 0.8015 - val_loss: 0.4397 - val_accuracy: 0.8150\n",
      "Epoch 13/40\n",
      "131/131 [==============================] - 69s 528ms/step - loss: 0.4791 - accuracy: 0.8001 - val_loss: 0.4314 - val_accuracy: 0.8181\n",
      "Epoch 14/40\n",
      "131/131 [==============================] - 69s 527ms/step - loss: 0.4797 - accuracy: 0.8020 - val_loss: 0.4179 - val_accuracy: 0.8254\n",
      "Epoch 15/40\n",
      "131/131 [==============================] - 69s 528ms/step - loss: 0.4779 - accuracy: 0.8026 - val_loss: 0.4193 - val_accuracy: 0.8299\n",
      "Epoch 16/40\n",
      "131/131 [==============================] - 69s 528ms/step - loss: 0.4764 - accuracy: 0.8018 - val_loss: 0.4269 - val_accuracy: 0.8258\n",
      "Epoch 17/40\n",
      "131/131 [==============================] - 69s 528ms/step - loss: 0.4740 - accuracy: 0.8066 - val_loss: 0.4160 - val_accuracy: 0.8335\n",
      "Epoch 18/40\n",
      "131/131 [==============================] - 69s 528ms/step - loss: 0.4718 - accuracy: 0.8057 - val_loss: 0.4139 - val_accuracy: 0.8285\n",
      "Epoch 19/40\n",
      "131/131 [==============================] - 69s 528ms/step - loss: 0.4686 - accuracy: 0.8056 - val_loss: 0.4088 - val_accuracy: 0.8314\n",
      "Epoch 20/40\n",
      "131/131 [==============================] - 69s 528ms/step - loss: 0.4688 - accuracy: 0.8045 - val_loss: 0.4114 - val_accuracy: 0.8305\n",
      "Epoch 21/40\n",
      "131/131 [==============================] - 69s 528ms/step - loss: 0.4683 - accuracy: 0.8071 - val_loss: 0.4081 - val_accuracy: 0.8318\n",
      "Epoch 22/40\n",
      "131/131 [==============================] - 69s 527ms/step - loss: 0.4675 - accuracy: 0.8063 - val_loss: 0.4154 - val_accuracy: 0.8278\n",
      "Epoch 23/40\n",
      "131/131 [==============================] - 69s 528ms/step - loss: 0.4639 - accuracy: 0.8079 - val_loss: 0.4127 - val_accuracy: 0.8299\n",
      "Epoch 24/40\n",
      "131/131 [==============================] - 69s 528ms/step - loss: 0.4674 - accuracy: 0.8071 - val_loss: 0.5336 - val_accuracy: 0.7678\n",
      "Epoch 25/40\n",
      "131/131 [==============================] - 69s 527ms/step - loss: 0.4642 - accuracy: 0.8086 - val_loss: 0.4070 - val_accuracy: 0.8301\n",
      "Epoch 26/40\n",
      "131/131 [==============================] - 69s 526ms/step - loss: 0.4636 - accuracy: 0.8083 - val_loss: 0.4040 - val_accuracy: 0.8326\n",
      "Epoch 27/40\n",
      "131/131 [==============================] - 69s 526ms/step - loss: 0.4622 - accuracy: 0.8096 - val_loss: 0.4057 - val_accuracy: 0.8336\n",
      "Epoch 28/40\n",
      "131/131 [==============================] - 69s 526ms/step - loss: 0.4653 - accuracy: 0.8065 - val_loss: 0.4065 - val_accuracy: 0.8343\n",
      "Epoch 29/40\n",
      "131/131 [==============================] - 69s 526ms/step - loss: 0.4595 - accuracy: 0.8095 - val_loss: 0.3990 - val_accuracy: 0.8373\n",
      "Epoch 30/40\n",
      "131/131 [==============================] - 69s 527ms/step - loss: 0.4606 - accuracy: 0.8092 - val_loss: 0.4608 - val_accuracy: 0.7897\n",
      "Epoch 31/40\n",
      "131/131 [==============================] - 69s 526ms/step - loss: 0.4602 - accuracy: 0.8097 - val_loss: 0.4028 - val_accuracy: 0.8339\n",
      "Epoch 32/40\n",
      "131/131 [==============================] - 69s 526ms/step - loss: 0.4587 - accuracy: 0.8099 - val_loss: 0.4156 - val_accuracy: 0.8311\n",
      "Epoch 33/40\n",
      "131/131 [==============================] - 69s 529ms/step - loss: 0.4614 - accuracy: 0.8086 - val_loss: 0.4094 - val_accuracy: 0.8262\n",
      "Epoch 34/40\n",
      "131/131 [==============================] - 69s 527ms/step - loss: 0.4589 - accuracy: 0.8101 - val_loss: 0.4008 - val_accuracy: 0.8305\n",
      "Epoch 35/40\n",
      "131/131 [==============================] - 69s 527ms/step - loss: 0.4579 - accuracy: 0.8111 - val_loss: 0.4033 - val_accuracy: 0.8320\n",
      "Epoch 36/40\n",
      "131/131 [==============================] - 69s 526ms/step - loss: 0.4578 - accuracy: 0.8099 - val_loss: 0.4059 - val_accuracy: 0.8315\n",
      "Epoch 37/40\n",
      "131/131 [==============================] - 69s 528ms/step - loss: 0.4568 - accuracy: 0.8127 - val_loss: 0.4185 - val_accuracy: 0.8204\n",
      "Epoch 38/40\n",
      "131/131 [==============================] - 69s 527ms/step - loss: 0.4557 - accuracy: 0.8122 - val_loss: 0.3929 - val_accuracy: 0.8374\n",
      "Epoch 39/40\n",
      "131/131 [==============================] - 69s 527ms/step - loss: 0.4558 - accuracy: 0.8137 - val_loss: 0.3912 - val_accuracy: 0.8370\n",
      "Epoch 40/40\n",
      "131/131 [==============================] - 69s 526ms/step - loss: 0.4527 - accuracy: 0.8133 - val_loss: 0.4379 - val_accuracy: 0.8149\n"
     ]
    }
   ],
   "source": [
    "from tensorflow.keras.callbacks import CSVLogger\n",
    "\n",
    "# Filepath to save the CSV log\n",
    "csv_logger_filepath = 'LSTM_Large_Facebook_Result.csv'\n",
    "\n",
    "# Create CSVLogger callback\n",
    "csv_logger = CSVLogger(csv_logger_filepath, append=True)\n",
    "\n",
    "# Fit the model\n",
    "history = model.fit(\n",
    "    x_train, \n",
    "    y_train, \n",
    "    batch_size=BATCH_SIZE, \n",
    "    epochs=NUM_EPOCHS, \n",
    "    shuffle=True, \n",
    "    validation_data=(x_test, y_test),\n",
    "    callbacks=[csv_logger]\n",
    ")"
   ]
  },
  {
   "cell_type": "code",
   "execution_count": 4,
   "metadata": {},
   "outputs": [
    {
     "data": {
      "image/png": "[encoded data removed]",
      "text/plain": [
       "<Figure size 640x480 with 2 Axes>"
      ]
     },
     "metadata": {},
     "output_type": "display_data"
    }
   ],
   "source": [
    "import matplotlib.pyplot as plt\n",
    "\n",
    "# Assuming 'history' is the variable that contains your model training history.\n",
    "# Replace 'history' with the actual name of the variable if it's different.\n",
    "\n",
    "# Accuracy plot\n",
    "plt.subplot(1, 2, 1)\n",
    "plt.plot(history.history['accuracy'], label='Training Accuracy')\n",
    "plt.plot(history.history['val_accuracy'], label='Validation Accuracy')\n",
    "plt.title('Model Accuracy')\n",
    "plt.ylabel('Accuracy')\n",
    "plt.xlabel('Epoch')\n",
    "plt.legend(loc='lower right')\n",
    "\n",
    "# Loss plot\n",
    "plt.subplot(1, 2, 2)\n",
    "plt.plot(history.history['loss'], label='Training Loss')\n",
    "plt.plot(history.history['val_loss'], label='Validation Loss')\n",
    "plt.title('Model Loss')\n",
    "plt.ylabel('Loss')\n",
    "plt.xlabel('Epoch')\n",
    "plt.legend(loc='upper right')\n",
    "\n",
    "# Adjust layout and show the plot\n",
    "plt.tight_layout()\n",
    "plt.show()"
   ]
  },
  {
   "cell_type": "code",
   "execution_count": 5,
   "metadata": {
    "colab": {},
    "colab_type": "code",
    "id": "UpocYJkB7KMs"
   },
   "outputs": [
    {
     "name": "stdout",
     "output_type": "stream",
     "text": [
      "232/232 [==============================] - 5s 21ms/step - loss: 0.4379 - accuracy: 0.8149\n"
     ]
    },
    {
     "data": {
      "text/plain": [
       "[0.4379105865955353, 0.8148648738861084]"
      ]
     },
     "execution_count": 5,
     "metadata": {},
     "output_type": "execute_result"
    }
   ],
   "source": [
    "model.evaluate(x=x_test, y=y_test, batch_size=32, verbose=1)"
   ]
  },
  {
   "cell_type": "code",
   "execution_count": 6,
   "metadata": {
    "colab": {},
    "colab_type": "code",
    "id": "U5xPkhZX7Qmq"
   },
   "outputs": [
    {
     "name": "stdout",
     "output_type": "stream",
     "text": [
      "INFO:tensorflow:Assets written to: LSTM_Large_Facebook_80P.model/assets\n"
     ]
    },
    {
     "name": "stderr",
     "output_type": "stream",
     "text": [
      "INFO:tensorflow:Assets written to: LSTM_Large_Facebook_80P.model/assets\n"
     ]
    }
   ],
   "source": [
    "model.save('LSTM_Large_Facebook_80P.model')"
   ]
  },
  {
   "cell_type": "markdown",
   "metadata": {
    "colab_type": "text",
    "id": "lJxZj2vr7uMO"
   },
   "source": [
    "# Model Loading and Configuration"
   ]
  },
  {
   "cell_type": "code",
   "execution_count": 4,
   "metadata": {},
   "outputs": [
    {
     "name": "stderr",
     "output_type": "stream",
     "text": [
      "Warning : `load_model` does not return WordVectorModel or SupervisedModel any more, but a `FastText` object which is very similar.\n"
     ]
    }
   ],
   "source": [
    "import fasttext\n",
    "import hazm\n",
    "import numpy as np\n",
    "from keras import backend as K\n",
    "import pandas as pd\n",
    "import random\n",
    "from hazm import Normalizer\n",
    "from tensorflow.keras.models import load_model\n",
    "\n",
    "VECTOR_SIZE = 300  # Dimension of the vectors\n",
    "MAX_NO_TOKENS = 107  # Maximum number of tokens\n",
    "\n",
    "model = load_model(\"LSTM_Large_Facebook_80P.model\")\n",
    "W2V_Model = fasttext.load_model(\"Facebook_Embedding_Model_300.bin\")"
   ]
  },
  {
   "cell_type": "code",
   "execution_count": 8,
   "metadata": {
    "cellView": "form",
    "colab": {},
    "colab_type": "code",
    "id": "xXt5rQ0qmyax"
   },
   "outputs": [
    {
     "data": {
      "application/vnd.jupyter.widget-view+json": {
       "model_id": "c1568293cfc04da9823cbabed67e838d",
       "version_major": 2,
       "version_minor": 0
      },
      "text/plain": [
       "Text(value='', continuous_update=False, description='Input:', placeholder='Type something')"
      ]
     },
     "metadata": {},
     "output_type": "display_data"
    }
   ],
   "source": [
    "import numpy as np\n",
    "import hazm\n",
    "from keras import backend as K\n",
    "from IPython.display import display, HTML\n",
    "import ipywidgets as widgets\n",
    "from IPython.display import clear_output\n",
    "\n",
    "# Define the function for normalization and tokenization\n",
    "def normalize_and_tokenize(text):\n",
    "    normalizer = hazm.Normalizer()\n",
    "    return hazm.word_tokenize(normalizer.normalize(text))\n",
    "\n",
    "# Define the function for vectorizing text\n",
    "def vectorize_text(words, model, max_tokens, vector_size):\n",
    "    vectors = [model.get_word_vector(word) for word in words if word in model.words][:max_tokens]\n",
    "    x_vectors = np.zeros((1, max_tokens, vector_size), dtype=K.floatx())\n",
    "    x_vectors[0, :len(vectors), :] = vectors\n",
    "    return x_vectors\n",
    "\n",
    "# Define the function to display sentiment analysis results\n",
    "def display_sentiment(result, images_src_path='./Assets/Images/'):\n",
    "    pos_percent = f\"{int(result[0][1] * 100)} % \"\n",
    "    neg_percent = f\"{int(result[0][0] * 100)} % \"\n",
    "    html_content = f\"<div style='text-align: center'><div style='display:inline-block'><img height='64px' width='64px' src='{images_src_path}smile.png'/><h4>{pos_percent}</h4></div> | <div style='display:inline-block'><img height='64px' width='64px' src='{images_src_path}angry.png'/><h4>{neg_percent}</h4></div></div>\"\n",
    "    display(HTML(html_content))\n",
    "\n",
    "# Callback function to process and display results\n",
    "def on_text_change(change):\n",
    "    if change['type'] == 'change' and change['name'] == 'value':\n",
    "        clear_output(wait=True)\n",
    "        user_text = change['new']\n",
    "        if user_text:\n",
    "            tokenized_text = normalize_and_tokenize(user_text)\n",
    "            x_text_vectors = vectorize_text(tokenized_text, W2V_Model, MAX_NO_TOKENS, VECTOR_SIZE)\n",
    "            result = model.predict(x_text_vectors)  # Replace 'model' with your trained model\n",
    "            display_sentiment(result)\n",
    "        else:\n",
    "            print(\"Please enter your text\")\n",
    "\n",
    "# Create a text input widget\n",
    "text_input = widgets.Text(\n",
    "    value='',\n",
    "    placeholder='Type something',\n",
    "    description='Input:',\n",
    "    continuous_update=False,  # Set to False to trigger the event only when the user stops typing\n",
    "    disabled=False\n",
    ")\n",
    "\n",
    "# Display the text input widget\n",
    "display(text_input)\n",
    "\n",
    "# Set the callback function for text input\n",
    "text_input.observe(on_text_change, names='value')\n"
   ]
  }
 ],
 "metadata": {
  "accelerator": "GPU",
  "colab": {
   "collapsed_sections": [],
   "include_colab_link": true,
   "name": "Tutorial.ipynb",
   "provenance": []
  },
  "kernelspec": {
   "display_name": "Python 3 (ipykernel)",
   "language": "python",
   "name": "python3"
  },
  "language_info": {
   "codemirror_mode": {
    "name": "ipython",
    "version": 3
   },
   "file_extension": ".py",
   "mimetype": "text/x-python",
   "name": "python",
   "nbconvert_exporter": "python",
   "pygments_lexer": "ipython3",
   "version": "3.10.13"
  }
 },
 "nbformat": 4,
 "nbformat_minor": 4
}
