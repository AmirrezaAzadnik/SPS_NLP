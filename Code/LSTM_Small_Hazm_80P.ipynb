{
 "cells": [
  {
   "attachments": {},
   "cell_type": "markdown",
   "metadata": {
    "colab_type": "text",
    "id": "2ZKbBDbX7Mza"
   },
   "source": [
    "# Data Preprocessing"
   ]
  },
  {
   "cell_type": "code",
   "execution_count": null,
   "metadata": {
    "cellView": "form",
    "colab": {},
    "colab_type": "code",
    "id": "nAQMVT05MMY4"
   },
   "outputs": [],
   "source": [
    "import pandas as pd\n",
    "import random\n",
    "from hazm import Normalizer\n",
    "\n",
    "def clean_persian_text(text):\n",
    "    normalizer = Normalizer()\n",
    "    return normalizer.normalize(text)\n",
    "\n",
    "def load_and_process_data(file_path):\n",
    "    try:\n",
    "        csv_dataset = pd.read_csv(file_path)\n",
    "        reviews = [(clean_persian_text(text), sentiment) for text, sentiment in zip(csv_dataset['Text'], csv_dataset['Sentiment'])]\n",
    "        return reviews\n",
    "    except FileNotFoundError:\n",
    "        print(\"File not found. Please check the file path.\")\n",
    "        return []\n",
    "\n",
    "def filter_reviews_by_sentiment(reviews, sentiment):\n",
    "    return [review for review in reviews if review[1] == sentiment]\n",
    "\n",
    "def print_random_sample(reviews, sentiment):\n",
    "    if reviews:\n",
    "        print(f\"{sentiment} sample : \\n\", random.choice(reviews))\n",
    "    else:\n",
    "        print(f\"No {sentiment} reviews available.\")\n",
    "\n",
    "\n",
    "file_path = \"Raw_Dataset_97P_107.csv\"\n",
    "reviews = load_and_process_data(file_path)\n",
    "\n",
    "positive_reviews = filter_reviews_by_sentiment(reviews, \"positive\")\n",
    "negative_reviews = filter_reviews_by_sentiment(reviews, \"negative\")\n",
    "neutral_reviews = filter_reviews_by_sentiment(reviews, \"neutral\")\n",
    "\n",
    "balanced_reviews = positive_reviews[:2500] + negative_reviews[:2500]\n",
    "random.shuffle(balanced_reviews)"
   ]
  },
  {
   "cell_type": "code",
   "execution_count": null,
   "metadata": {},
   "outputs": [],
   "source": [
    "import matplotlib.pyplot as plt\n",
    "\n",
    "# Count of each sentiment category\n",
    "sentiment_counts = {\n",
    "    \"Positive\": len(positive_reviews),\n",
    "    \"Negative\": len(negative_reviews),\n",
    "    \"Neutral\": len(neutral_reviews),\n",
    "}\n",
    "\n",
    "# Total count of reviews\n",
    "total_count = len(reviews)\n",
    "\n",
    "# Display counts in a bar chart\n",
    "plt.figure(figsize=(10, 6))\n",
    "plt.bar(sentiment_counts.keys(), sentiment_counts.values(), color=['green', 'red', 'blue'])\n",
    "plt.xlabel(\"Sentiment\")\n",
    "plt.ylabel(\"Count\")\n",
    "plt.title(\"Sentiment Analysis Results\")\n",
    "plt.show()\n",
    "\n",
    "# Display random samples\n",
    "print(\"\\nRandom Samples:\")\n",
    "print(f\"Positive Sample: {print_random_sample(positive_reviews, 'Positive')}\")\n",
    "print(f\"Negative Sample: {print_random_sample(negative_reviews, 'Negative')}\")\n",
    "print(f\"Neutral Sample: {print_random_sample(neutral_reviews, 'Neutral')}\")\n",
    "\n",
    "# Display count of the balanced dataset\n",
    "print(f\"\\nBalanced dataset count: {len(balanced_reviews)}\")"
   ]
  },
  {
   "attachments": {},
   "cell_type": "markdown",
   "metadata": {},
   "source": [
    "# Data Preparation for Text Classification"
   ]
  },
  {
   "cell_type": "code",
   "execution_count": null,
   "metadata": {
    "cellView": "form",
    "colab": {},
    "colab_type": "code",
    "id": "wUJceKehjfJ3"
   },
   "outputs": [],
   "source": [
    "import numpy as np\n",
    "from keras import backend as K\n",
    "\n",
    "VECTOR_SIZE = 300  # Dimension of the vectors\n",
    "MAX_NO_TOKENS = 107  # Maximum number of tokens\n",
    "TRAIN_TEST_SPLIT = 0.8  # Proportion of the data to be used for training\n",
    "\n",
    "def split_data(data, train_test_split):\n",
    "    train_size = int(train_test_split * len(data))\n",
    "    test_size = len(data) - train_size\n",
    "    return train_size, test_size\n",
    "\n",
    "def initialize_arrays(train_size, test_size, max_tokens, VECTOR_SIZE):\n",
    "    x_train = np.zeros((train_size, max_tokens, VECTOR_SIZE), dtype=K.floatx())\n",
    "    y_train = np.zeros((train_size, 2), dtype=np.int32)\n",
    "\n",
    "    x_test = np.zeros((test_size, max_tokens, VECTOR_SIZE), dtype=K.floatx())\n",
    "    y_test = np.zeros((test_size, 2), dtype=np.int32)\n",
    "\n",
    "    return x_train, y_train, x_test, y_test\n",
    "\n",
    "train_size, test_size = split_data(balanced_reviews, TRAIN_TEST_SPLIT)\n",
    "x_train, y_train, x_test, y_test = initialize_arrays(train_size, test_size, MAX_NO_TOKENS, VECTOR_SIZE)"
   ]
  },
  {
   "cell_type": "code",
   "execution_count": 17,
   "metadata": {},
   "outputs": [
    {
     "name": "stdout",
     "output_type": "stream",
     "text": [
      "Data Information:\n",
      "╒═════════╤══════════════════╕\n",
      "│ Item    │ Shape/Size       │\n",
      "╞═════════╪══════════════════╡\n",
      "│ x_train │ (4000, 107, 300) │\n",
      "├─────────┼──────────────────┤\n",
      "│ x_test  │ (1000, 107, 300) │\n",
      "├─────────┼──────────────────┤\n",
      "│ y_train │ (4000, 2)        │\n",
      "├─────────┼──────────────────┤\n",
      "│ y_test  │ (1000, 2)        │\n",
      "╘═════════╧══════════════════╛\n"
     ]
    }
   ],
   "source": [
    "import tabulate\n",
    "\n",
    "# Shapes of the arrays\n",
    "shapes_data = [\n",
    "    [\"x_train\", x_train.shape],\n",
    "    [\"x_test\", x_test.shape],\n",
    "    [\"y_train\", y_train.shape],\n",
    "    [\"y_test\", y_test.shape]\n",
    "]\n",
    "\n",
    "# Display vocabulary size and array shapes in a table\n",
    "table = tabulate.tabulate(shapes_data, headers=[\"Item\", \"Shape/Size\"], tablefmt=\"fancy_grid\")\n",
    "print(\"Data Information:\")\n",
    "print(table)"
   ]
  },
  {
   "attachments": {},
   "cell_type": "markdown",
   "metadata": {},
   "source": [
    "# Text Vectorization and Sentiment Classification"
   ]
  },
  {
   "cell_type": "code",
   "execution_count": null,
   "metadata": {
    "cellView": "form",
    "colab": {},
    "colab_type": "code",
    "id": "jvcGBpjPwFL0"
   },
   "outputs": [],
   "source": [
    "import numpy as np\n",
    "import fasttext\n",
    "import hazm\n",
    "\n",
    "def load_fasttext_model(model_path):\n",
    "    return fasttext.load_model(model_path)\n",
    "\n",
    "def tokenize_text(text, tokenizer, max_tokens):\n",
    "    return tokenizer.tokenize(text)[:max_tokens]\n",
    "\n",
    "def vectorize_text(text, model, max_tokens):\n",
    "    return [model.get_word_vector(word) for word in text if word in model.words][:max_tokens]\n",
    "\n",
    "def process_reviews(reviews, model, tokenizer, max_tokens, label_map):\n",
    "    x_data = []\n",
    "    y_data = []\n",
    "    unique_words = set()\n",
    "\n",
    "    for text, sentiment in reviews:\n",
    "        tokenized_text = tokenize_text(text, tokenizer, max_tokens)\n",
    "        unique_words.update(tokenized_text)\n",
    "        vectorized_text = vectorize_text(tokenized_text, model, max_tokens)\n",
    "\n",
    "        if not vectorized_text:\n",
    "            continue\n",
    "\n",
    "        padded_vector = np.zeros((max_tokens, model.get_dimension()), dtype=np.float32)\n",
    "        padded_vector[:len(vectorized_text), :] = vectorized_text\n",
    "\n",
    "        x_data.append(padded_vector)\n",
    "        y_data.append(label_map.get(sentiment, label_map['other']))\n",
    "\n",
    "    return np.array(x_data), np.array(y_data), len(unique_words)\n",
    "\n",
    "# Load model and tokenizer\n",
    "W2V_Model = load_fasttext_model(\"Hazm_Embedding_Model_300.bin\")\n",
    "tokenizer = hazm.WordTokenizer()\n",
    "\n",
    "# Assuming 'balanced_reviews' is a list of (text, sentiment) tuples\n",
    "all_reviews = balanced_reviews  # Use the complete set of reviews\n",
    "train_reviews = balanced_reviews[:train_size]\n",
    "test_reviews = balanced_reviews[train_size:]\n",
    "\n",
    "# Define a mapping for sentiment to binary labels\n",
    "sentiment_label_map = {\"negative\": [1.0, 0.0], 'other': [0.0, 1.0]}  # Adjust based on actual labels\n",
    "\n",
    "x_train, y_train, vocabulary_size = process_reviews(train_reviews, W2V_Model, tokenizer, MAX_NO_TOKENS, sentiment_label_map)\n",
    "x_test, y_test, _ = process_reviews(test_reviews, W2V_Model, tokenizer, MAX_NO_TOKENS, sentiment_label_map)"
   ]
  },
  {
   "cell_type": "code",
   "execution_count": 15,
   "metadata": {},
   "outputs": [
    {
     "name": "stdout",
     "output_type": "stream",
     "text": [
      "Data Information:\n",
      "╒═════════╤══════════════════╕\n",
      "│ Item    │ Shape/Size       │\n",
      "╞═════════╪══════════════════╡\n",
      "│ x_train │ (4000, 107, 300) │\n",
      "├─────────┼──────────────────┤\n",
      "│ x_test  │ (1000, 107, 300) │\n",
      "├─────────┼──────────────────┤\n",
      "│ y_train │ (4000, 2)        │\n",
      "├─────────┼──────────────────┤\n",
      "│ y_test  │ (1000, 2)        │\n",
      "╘═════════╧══════════════════╛\n"
     ]
    }
   ],
   "source": [
    "import tabulate\n",
    "\n",
    "# Shapes of the arrays\n",
    "shapes_data = [\n",
    "    [\"x_train\", x_train.shape],\n",
    "    [\"x_test\", x_test.shape],\n",
    "    [\"y_train\", y_train.shape],\n",
    "    [\"y_test\", y_test.shape]\n",
    "]\n",
    "\n",
    "# Display vocabulary size and array shapes in a table\n",
    "table = tabulate.tabulate(shapes_data, headers=[\"Item\", \"Shape/Size\"], tablefmt=\"fancy_grid\")\n",
    "print(\"Data Information:\")\n",
    "print(table)"
   ]
  },
  {
   "attachments": {},
   "cell_type": "markdown",
   "metadata": {},
   "source": [
    "# Saving Data and Cleaning Resources"
   ]
  },
  {
   "cell_type": "code",
   "execution_count": null,
   "metadata": {},
   "outputs": [],
   "source": [
    "np.save(\"x_train_Hazm_Small.npy\", x_train)\n",
    "np.save(\"x_test_Hazm_Small.npy\", x_test)\n",
    "np.save(\"y_train_Hazm_Small.npy\", y_train)\n",
    "np.save(\"y_test_Hazm_Small.npy\", y_test)\n",
    "del W2V_Model"
   ]
  },
  {
   "attachments": {},
   "cell_type": "markdown",
   "metadata": {
    "colab_type": "text",
    "id": "dDunM15J7n8E"
   },
   "source": [
    "# Data Loading and Main Configuration"
   ]
  },
  {
   "cell_type": "code",
   "execution_count": 1,
   "metadata": {},
   "outputs": [
    {
     "name": "stderr",
     "output_type": "stream",
     "text": [
      "2024-01-28 08:46:35.230612: E external/local_xla/xla/stream_executor/cuda/cuda_dnn.cc:9261] Unable to register cuDNN factory: Attempting to register factory for plugin cuDNN when one has already been registered\n",
      "2024-01-28 08:46:35.230663: E external/local_xla/xla/stream_executor/cuda/cuda_fft.cc:607] Unable to register cuFFT factory: Attempting to register factory for plugin cuFFT when one has already been registered\n",
      "2024-01-28 08:46:35.231844: E external/local_xla/xla/stream_executor/cuda/cuda_blas.cc:1515] Unable to register cuBLAS factory: Attempting to register factory for plugin cuBLAS when one has already been registered\n",
      "2024-01-28 08:46:35.239077: I tensorflow/core/platform/cpu_feature_guard.cc:182] This TensorFlow binary is optimized to use available CPU instructions in performance-critical operations.\n",
      "To enable the following instructions: SSE4.1 SSE4.2 AVX AVX2 FMA, in other operations, rebuild TensorFlow with the appropriate compiler flags.\n"
     ]
    },
    {
     "name": "stdout",
     "output_type": "stream",
     "text": [
      "(4000, 107, 300) (1000, 107, 300) (4000, 2) (1000, 2)\n"
     ]
    }
   ],
   "source": [
    "import fasttext\n",
    "import hazm\n",
    "import numpy as np\n",
    "from keras import backend as K\n",
    "import pandas as pd\n",
    "import random\n",
    "from hazm import Normalizer\n",
    "\n",
    "VECTOR_SIZE = 300  # Dimension of the vectors\n",
    "MAX_NO_TOKENS = 107  # Maximum number of tokens\n",
    "\n",
    "BATCH_SIZE = 512\n",
    "NUM_EPOCHS = 100\n",
    "\n",
    "x_train = np.load(\"./Hazm_Dataset/x_train_Hazm.npy\")[:4000, :, :]\n",
    "x_test = np.load(\"./Hazm_Dataset/x_test_Hazm.npy\" )[:1000, :, :]\n",
    "\n",
    "y_train = np.load(\"./Hazm_Dataset/y_train_Hazm.npy\")[:4000, :]\n",
    "y_test = np.load(\"./Hazm_Dataset/y_test_Hazm.npy\")[:1000, :]\n",
    "\n",
    "print(x_train.shape,x_test.shape,y_train.shape,y_test.shape)"
   ]
  },
  {
   "attachments": {},
   "cell_type": "markdown",
   "metadata": {},
   "source": [
    "# Convolutional Neural Network (LSTM) Model Definition"
   ]
  },
  {
   "cell_type": "code",
   "execution_count": 2,
   "metadata": {
    "cellView": "form",
    "colab": {},
    "colab_type": "code",
    "id": "J1z_mq913jTq"
   },
   "outputs": [
    {
     "name": "stdout",
     "output_type": "stream",
     "text": [
      "WARNING:tensorflow:Layer lstm will not use cuDNN kernels since it doesn't meet the criteria. It will use a generic GPU kernel as fallback when running on GPU.\n",
      "WARNING:tensorflow:Layer lstm will not use cuDNN kernels since it doesn't meet the criteria. It will use a generic GPU kernel as fallback when running on GPU.\n",
      "WARNING:tensorflow:Layer lstm will not use cuDNN kernels since it doesn't meet the criteria. It will use a generic GPU kernel as fallback when running on GPU.\n"
     ]
    },
    {
     "name": "stderr",
     "output_type": "stream",
     "text": [
      "2024-01-28 08:46:47.623713: I external/local_xla/xla/stream_executor/cuda/cuda_executor.cc:901] successful NUMA node read from SysFS had negative value (-1), but there must be at least one NUMA node, so returning NUMA node zero. See more at https://github.com/torvalds/linux/blob/v6.0/Documentation/ABI/testing/sysfs-bus-pci#L344-L355\n",
      "2024-01-28 08:46:47.662564: I external/local_xla/xla/stream_executor/cuda/cuda_executor.cc:901] successful NUMA node read from SysFS had negative value (-1), but there must be at least one NUMA node, so returning NUMA node zero. See more at https://github.com/torvalds/linux/blob/v6.0/Documentation/ABI/testing/sysfs-bus-pci#L344-L355\n",
      "2024-01-28 08:46:47.662887: I external/local_xla/xla/stream_executor/cuda/cuda_executor.cc:901] successful NUMA node read from SysFS had negative value (-1), but there must be at least one NUMA node, so returning NUMA node zero. See more at https://github.com/torvalds/linux/blob/v6.0/Documentation/ABI/testing/sysfs-bus-pci#L344-L355\n",
      "2024-01-28 08:46:47.664680: I external/local_xla/xla/stream_executor/cuda/cuda_executor.cc:901] successful NUMA node read from SysFS had negative value (-1), but there must be at least one NUMA node, so returning NUMA node zero. See more at https://github.com/torvalds/linux/blob/v6.0/Documentation/ABI/testing/sysfs-bus-pci#L344-L355\n",
      "2024-01-28 08:46:47.664949: I external/local_xla/xla/stream_executor/cuda/cuda_executor.cc:901] successful NUMA node read from SysFS had negative value (-1), but there must be at least one NUMA node, so returning NUMA node zero. See more at https://github.com/torvalds/linux/blob/v6.0/Documentation/ABI/testing/sysfs-bus-pci#L344-L355\n",
      "2024-01-28 08:46:47.665103: I external/local_xla/xla/stream_executor/cuda/cuda_executor.cc:901] successful NUMA node read from SysFS had negative value (-1), but there must be at least one NUMA node, so returning NUMA node zero. See more at https://github.com/torvalds/linux/blob/v6.0/Documentation/ABI/testing/sysfs-bus-pci#L344-L355\n",
      "2024-01-28 08:46:47.742994: I external/local_xla/xla/stream_executor/cuda/cuda_executor.cc:901] successful NUMA node read from SysFS had negative value (-1), but there must be at least one NUMA node, so returning NUMA node zero. See more at https://github.com/torvalds/linux/blob/v6.0/Documentation/ABI/testing/sysfs-bus-pci#L344-L355\n",
      "2024-01-28 08:46:47.743243: I external/local_xla/xla/stream_executor/cuda/cuda_executor.cc:901] successful NUMA node read from SysFS had negative value (-1), but there must be at least one NUMA node, so returning NUMA node zero. See more at https://github.com/torvalds/linux/blob/v6.0/Documentation/ABI/testing/sysfs-bus-pci#L344-L355\n",
      "2024-01-28 08:46:47.743440: I external/local_xla/xla/stream_executor/cuda/cuda_executor.cc:901] successful NUMA node read from SysFS had negative value (-1), but there must be at least one NUMA node, so returning NUMA node zero. See more at https://github.com/torvalds/linux/blob/v6.0/Documentation/ABI/testing/sysfs-bus-pci#L344-L355\n",
      "2024-01-28 08:46:47.743557: I tensorflow/core/common_runtime/gpu/gpu_device.cc:1929] Created device /job:localhost/replica:0/task:0/device:GPU:0 with 3489 MB memory:  -> device: 0, name: NVIDIA GeForce GTX 1050 with Max-Q Design, pci bus id: 0000:02:00.0, compute capability: 6.1\n"
     ]
    },
    {
     "name": "stdout",
     "output_type": "stream",
     "text": [
      "WARNING:tensorflow:Layer lstm_1 will not use cuDNN kernels since it doesn't meet the criteria. It will use a generic GPU kernel as fallback when running on GPU.\n",
      "WARNING:tensorflow:Layer lstm_1 will not use cuDNN kernels since it doesn't meet the criteria. It will use a generic GPU kernel as fallback when running on GPU.\n",
      "WARNING:tensorflow:Layer lstm_1 will not use cuDNN kernels since it doesn't meet the criteria. It will use a generic GPU kernel as fallback when running on GPU.\n",
      "Model: \"sequential\"\n",
      "_________________________________________________________________\n",
      " Layer (type)                Output Shape              Param #   \n",
      "=================================================================\n",
      " bidirectional (Bidirection  (None, 107, 64)           85248     \n",
      " al)                                                             \n",
      "                                                                 \n",
      " batch_normalization (Batch  (None, 107, 64)           256       \n",
      " Normalization)                                                  \n",
      "                                                                 \n",
      " bidirectional_1 (Bidirecti  (None, 32)                10368     \n",
      " onal)                                                           \n",
      "                                                                 \n",
      " dense (Dense)               (None, 16)                528       \n",
      "                                                                 \n",
      " dropout (Dropout)           (None, 16)                0         \n",
      "                                                                 \n",
      " dense_1 (Dense)             (None, 2)                 34        \n",
      "                                                                 \n",
      "=================================================================\n",
      "Total params: 96434 (376.70 KB)\n",
      "Trainable params: 96306 (376.20 KB)\n",
      "Non-trainable params: 128 (512.00 Byte)\n",
      "_________________________________________________________________\n"
     ]
    }
   ],
   "source": [
    "from keras.models import Sequential\n",
    "from keras.layers import Embedding, LSTM, Dense, Dropout, Bidirectional, BatchNormalization\n",
    "from keras.regularizers import l2\n",
    "from keras.optimizers import Adam\n",
    "from keras.callbacks import EarlyStopping\n",
    "\n",
    "model = Sequential()\n",
    "\n",
    "# Bidirectional LSTM with Dropout and L2 Regularization\n",
    "model.add(Bidirectional(LSTM(32, return_sequences=True, dropout=0.5, recurrent_dropout=0.5, kernel_regularizer=l2(0.01)), input_shape=(MAX_NO_TOKENS, VECTOR_SIZE)))\n",
    "model.add(BatchNormalization())\n",
    "model.add(Bidirectional(LSTM(16, dropout=0.5, recurrent_dropout=0.5, kernel_regularizer=l2(0.01))))\n",
    "\n",
    "# Dense Layer with Dropout and L2 Regularization\n",
    "model.add(Dense(16, activation='relu', kernel_regularizer=l2(0.01)))\n",
    "model.add(Dropout(0.5))\n",
    "\n",
    "# Output Layer\n",
    "model.add(Dense(2, activation='softmax'))\n",
    "\n",
    "# Compile the model\n",
    "optimizer = Adam(learning_rate=0.0005)\n",
    "model.compile(loss='categorical_crossentropy', optimizer=optimizer, metrics=['accuracy'])\n",
    "\n",
    "# Early Stopping Callback\n",
    "early_stopping = EarlyStopping(monitor='val_loss', patience=3, restore_best_weights=True)\n",
    "\n",
    "model.summary()"
   ]
  },
  {
   "cell_type": "code",
   "execution_count": 3,
   "metadata": {
    "colab": {},
    "colab_type": "code",
    "id": "P9qfU9CM3mL-"
   },
   "outputs": [
    {
     "name": "stderr",
     "output_type": "stream",
     "text": [
      "2024-01-28 08:46:49.449308: W external/local_tsl/tsl/framework/cpu_allocator_impl.cc:83] Allocation of 513600000 exceeds 10% of free system memory.\n",
      "2024-01-28 08:46:49.917240: W external/local_tsl/tsl/framework/cpu_allocator_impl.cc:83] Allocation of 513600000 exceeds 10% of free system memory.\n"
     ]
    },
    {
     "name": "stdout",
     "output_type": "stream",
     "text": [
      "Epoch 1/100\n"
     ]
    },
    {
     "name": "stderr",
     "output_type": "stream",
     "text": [
      "2024-01-28 08:46:59.224102: W external/local_tsl/tsl/framework/cpu_allocator_impl.cc:83] Allocation of 65740800 exceeds 10% of free system memory.\n",
      "2024-01-28 08:46:59.224142: W external/local_tsl/tsl/framework/cpu_allocator_impl.cc:83] Allocation of 65740800 exceeds 10% of free system memory.\n",
      "2024-01-28 08:46:59.224170: W external/local_tsl/tsl/framework/cpu_allocator_impl.cc:83] Allocation of 65740800 exceeds 10% of free system memory.\n",
      "2024-01-28 08:47:01.543820: I external/local_xla/xla/service/service.cc:168] XLA service 0x7f6b8c40b800 initialized for platform CUDA (this does not guarantee that XLA will be used). Devices:\n",
      "2024-01-28 08:47:01.543861: I external/local_xla/xla/service/service.cc:176]   StreamExecutor device (0): NVIDIA GeForce GTX 1050 with Max-Q Design, Compute Capability 6.1\n",
      "2024-01-28 08:47:01.553574: I tensorflow/compiler/mlir/tensorflow/utils/dump_mlir_util.cc:269] disabling MLIR crash reproducer, set env var `MLIR_CRASH_REPRODUCER_DIRECTORY` to enable.\n",
      "2024-01-28 08:47:01.582992: I external/local_xla/xla/stream_executor/cuda/cuda_dnn.cc:454] Loaded cuDNN version 8800\n",
      "WARNING: All log messages before absl::InitializeLog() is called are written to STDERR\n",
      "I0000 00:00:1706419021.681275   17953 device_compiler.h:186] Compiled cluster using XLA!  This line is logged at most once for the lifetime of the process.\n"
     ]
    },
    {
     "name": "stdout",
     "output_type": "stream",
     "text": [
      "8/8 [==============================] - 21s 1s/step - loss: 5.6651 - accuracy: 0.5115 - val_loss: 5.4289 - val_accuracy: 0.5560\n",
      "Epoch 2/100\n",
      "8/8 [==============================] - 8s 954ms/step - loss: 5.2951 - accuracy: 0.5157 - val_loss: 5.0814 - val_accuracy: 0.5580\n",
      "Epoch 3/100\n",
      "8/8 [==============================] - 8s 958ms/step - loss: 4.9504 - accuracy: 0.5340 - val_loss: 4.7510 - val_accuracy: 0.5650\n",
      "Epoch 4/100\n",
      "8/8 [==============================] - 8s 981ms/step - loss: 4.6270 - accuracy: 0.5393 - val_loss: 4.4411 - val_accuracy: 0.5670\n",
      "Epoch 5/100\n",
      "8/8 [==============================] - 8s 974ms/step - loss: 4.3180 - accuracy: 0.5585 - val_loss: 4.1520 - val_accuracy: 0.5840\n",
      "Epoch 6/100\n",
      "8/8 [==============================] - 8s 966ms/step - loss: 4.0415 - accuracy: 0.5565 - val_loss: 3.8842 - val_accuracy: 0.6030\n",
      "Epoch 7/100\n",
      "8/8 [==============================] - 8s 991ms/step - loss: 3.7762 - accuracy: 0.5838 - val_loss: 3.6367 - val_accuracy: 0.6560\n",
      "Epoch 8/100\n",
      "8/8 [==============================] - 8s 978ms/step - loss: 3.5288 - accuracy: 0.6058 - val_loss: 3.4089 - val_accuracy: 0.7150\n",
      "Epoch 9/100\n",
      "8/8 [==============================] - 8s 981ms/step - loss: 3.2993 - accuracy: 0.6275 - val_loss: 3.1953 - val_accuracy: 0.7260\n",
      "Epoch 10/100\n",
      "8/8 [==============================] - 8s 984ms/step - loss: 3.0893 - accuracy: 0.6503 - val_loss: 2.9969 - val_accuracy: 0.7440\n",
      "Epoch 11/100\n",
      "8/8 [==============================] - 8s 1s/step - loss: 2.8987 - accuracy: 0.6730 - val_loss: 2.8215 - val_accuracy: 0.7580\n",
      "Epoch 12/100\n",
      "8/8 [==============================] - 8s 995ms/step - loss: 2.7133 - accuracy: 0.6890 - val_loss: 2.6550 - val_accuracy: 0.7630\n",
      "Epoch 13/100\n",
      "8/8 [==============================] - 8s 986ms/step - loss: 2.5551 - accuracy: 0.7003 - val_loss: 2.4976 - val_accuracy: 0.7710\n",
      "Epoch 14/100\n",
      "8/8 [==============================] - 8s 992ms/step - loss: 2.4027 - accuracy: 0.7157 - val_loss: 2.3537 - val_accuracy: 0.7730\n",
      "Epoch 15/100\n",
      "8/8 [==============================] - 8s 1s/step - loss: 2.2522 - accuracy: 0.7200 - val_loss: 2.2206 - val_accuracy: 0.7780\n",
      "Epoch 16/100\n",
      "8/8 [==============================] - 8s 1s/step - loss: 2.1181 - accuracy: 0.7477 - val_loss: 2.1016 - val_accuracy: 0.7840\n",
      "Epoch 17/100\n",
      "8/8 [==============================] - 8s 981ms/step - loss: 2.0095 - accuracy: 0.7352 - val_loss: 1.9808 - val_accuracy: 0.7850\n",
      "Epoch 18/100\n",
      "8/8 [==============================] - 8s 990ms/step - loss: 1.8960 - accuracy: 0.7602 - val_loss: 1.8863 - val_accuracy: 0.7910\n",
      "Epoch 19/100\n",
      "8/8 [==============================] - 8s 997ms/step - loss: 1.7954 - accuracy: 0.7645 - val_loss: 1.7874 - val_accuracy: 0.7930\n",
      "Epoch 20/100\n",
      "8/8 [==============================] - 8s 1s/step - loss: 1.7055 - accuracy: 0.7660 - val_loss: 1.7006 - val_accuracy: 0.8020\n",
      "Epoch 21/100\n",
      "8/8 [==============================] - 8s 1s/step - loss: 1.6143 - accuracy: 0.7818 - val_loss: 1.6155 - val_accuracy: 0.8030\n",
      "Epoch 22/100\n",
      "8/8 [==============================] - 8s 1s/step - loss: 1.5403 - accuracy: 0.7780 - val_loss: 1.5328 - val_accuracy: 0.7980\n",
      "Epoch 23/100\n",
      "8/8 [==============================] - 8s 1s/step - loss: 1.4682 - accuracy: 0.7812 - val_loss: 1.4672 - val_accuracy: 0.8010\n",
      "Epoch 24/100\n",
      "8/8 [==============================] - 8s 1s/step - loss: 1.4058 - accuracy: 0.7795 - val_loss: 1.4079 - val_accuracy: 0.8080\n",
      "Epoch 25/100\n",
      "8/8 [==============================] - 8s 1s/step - loss: 1.3461 - accuracy: 0.7905 - val_loss: 1.3493 - val_accuracy: 0.8100\n",
      "Epoch 26/100\n",
      "8/8 [==============================] - 8s 1s/step - loss: 1.2859 - accuracy: 0.7940 - val_loss: 1.2909 - val_accuracy: 0.7970\n",
      "Epoch 27/100\n",
      "8/8 [==============================] - 8s 1s/step - loss: 1.2380 - accuracy: 0.7890 - val_loss: 1.2427 - val_accuracy: 0.7980\n",
      "Epoch 28/100\n",
      "8/8 [==============================] - 8s 1s/step - loss: 1.1870 - accuracy: 0.7853 - val_loss: 1.2010 - val_accuracy: 0.8050\n",
      "Epoch 29/100\n",
      "8/8 [==============================] - 8s 1s/step - loss: 1.1362 - accuracy: 0.8002 - val_loss: 1.1482 - val_accuracy: 0.7980\n",
      "Epoch 30/100\n",
      "8/8 [==============================] - 8s 997ms/step - loss: 1.1017 - accuracy: 0.8015 - val_loss: 1.1053 - val_accuracy: 0.8070\n",
      "Epoch 31/100\n",
      "8/8 [==============================] - 8s 1s/step - loss: 1.0638 - accuracy: 0.8075 - val_loss: 1.0758 - val_accuracy: 0.8160\n",
      "Epoch 32/100\n",
      "8/8 [==============================] - 8s 1s/step - loss: 1.0125 - accuracy: 0.8130 - val_loss: 1.0367 - val_accuracy: 0.8080\n",
      "Epoch 33/100\n",
      "8/8 [==============================] - 8s 989ms/step - loss: 1.0004 - accuracy: 0.7940 - val_loss: 1.0168 - val_accuracy: 0.8090\n",
      "Epoch 34/100\n",
      "8/8 [==============================] - 8s 1s/step - loss: 0.9644 - accuracy: 0.8037 - val_loss: 0.9756 - val_accuracy: 0.8090\n",
      "Epoch 35/100\n",
      "8/8 [==============================] - 8s 1s/step - loss: 0.9261 - accuracy: 0.8092 - val_loss: 0.9423 - val_accuracy: 0.8120\n",
      "Epoch 36/100\n",
      "8/8 [==============================] - 8s 992ms/step - loss: 0.9095 - accuracy: 0.8077 - val_loss: 0.9125 - val_accuracy: 0.8160\n",
      "Epoch 37/100\n",
      "8/8 [==============================] - 8s 1s/step - loss: 0.8885 - accuracy: 0.8045 - val_loss: 0.8955 - val_accuracy: 0.8000\n",
      "Epoch 38/100\n",
      "8/8 [==============================] - 8s 996ms/step - loss: 0.8592 - accuracy: 0.8102 - val_loss: 0.8758 - val_accuracy: 0.8130\n",
      "Epoch 39/100\n",
      "8/8 [==============================] - 8s 1s/step - loss: 0.8361 - accuracy: 0.8098 - val_loss: 0.8466 - val_accuracy: 0.8140\n",
      "Epoch 40/100\n",
      "8/8 [==============================] - 8s 1s/step - loss: 0.8105 - accuracy: 0.8133 - val_loss: 0.8393 - val_accuracy: 0.7970\n",
      "Epoch 41/100\n",
      "8/8 [==============================] - 8s 1s/step - loss: 0.8118 - accuracy: 0.8012 - val_loss: 0.8113 - val_accuracy: 0.8000\n",
      "Epoch 42/100\n",
      "8/8 [==============================] - 8s 994ms/step - loss: 0.7834 - accuracy: 0.8142 - val_loss: 0.7916 - val_accuracy: 0.8170\n",
      "Epoch 43/100\n",
      "8/8 [==============================] - 8s 1s/step - loss: 0.7552 - accuracy: 0.8150 - val_loss: 0.7764 - val_accuracy: 0.8150\n",
      "Epoch 44/100\n",
      "8/8 [==============================] - 8s 993ms/step - loss: 0.7572 - accuracy: 0.8177 - val_loss: 0.7543 - val_accuracy: 0.8220\n",
      "Epoch 45/100\n",
      "8/8 [==============================] - 8s 989ms/step - loss: 0.7310 - accuracy: 0.8200 - val_loss: 0.7360 - val_accuracy: 0.8170\n",
      "Epoch 46/100\n",
      "8/8 [==============================] - 8s 1s/step - loss: 0.7196 - accuracy: 0.8180 - val_loss: 0.7383 - val_accuracy: 0.8000\n",
      "Epoch 47/100\n",
      "8/8 [==============================] - 8s 1s/step - loss: 0.7103 - accuracy: 0.8185 - val_loss: 0.7101 - val_accuracy: 0.8210\n",
      "Epoch 48/100\n",
      "8/8 [==============================] - 8s 997ms/step - loss: 0.7025 - accuracy: 0.8140 - val_loss: 0.7066 - val_accuracy: 0.8160\n",
      "Epoch 49/100\n",
      "8/8 [==============================] - 8s 1s/step - loss: 0.6886 - accuracy: 0.8170 - val_loss: 0.6884 - val_accuracy: 0.8140\n",
      "Epoch 50/100\n",
      "8/8 [==============================] - 8s 1s/step - loss: 0.6768 - accuracy: 0.8195 - val_loss: 0.7020 - val_accuracy: 0.7930\n",
      "Epoch 51/100\n",
      "8/8 [==============================] - 8s 1s/step - loss: 0.6717 - accuracy: 0.8105 - val_loss: 0.6620 - val_accuracy: 0.8240\n",
      "Epoch 52/100\n",
      "8/8 [==============================] - 8s 1s/step - loss: 0.6548 - accuracy: 0.8158 - val_loss: 0.6597 - val_accuracy: 0.8130\n",
      "Epoch 53/100\n",
      "8/8 [==============================] - 8s 1s/step - loss: 0.6414 - accuracy: 0.8240 - val_loss: 0.6525 - val_accuracy: 0.8220\n",
      "Epoch 54/100\n",
      "8/8 [==============================] - 8s 1s/step - loss: 0.6403 - accuracy: 0.8145 - val_loss: 0.6477 - val_accuracy: 0.8130\n",
      "Epoch 55/100\n",
      "8/8 [==============================] - 8s 994ms/step - loss: 0.6315 - accuracy: 0.8175 - val_loss: 0.6218 - val_accuracy: 0.8200\n",
      "Epoch 56/100\n",
      "8/8 [==============================] - 8s 999ms/step - loss: 0.6196 - accuracy: 0.8230 - val_loss: 0.6154 - val_accuracy: 0.8250\n",
      "Epoch 57/100\n",
      "8/8 [==============================] - 8s 1s/step - loss: 0.6077 - accuracy: 0.8273 - val_loss: 0.6010 - val_accuracy: 0.8300\n",
      "Epoch 58/100\n",
      "8/8 [==============================] - 8s 1s/step - loss: 0.6035 - accuracy: 0.8248 - val_loss: 0.5930 - val_accuracy: 0.8240\n",
      "Epoch 59/100\n",
      "8/8 [==============================] - 8s 1s/step - loss: 0.5976 - accuracy: 0.8185 - val_loss: 0.6112 - val_accuracy: 0.8070\n",
      "Epoch 60/100\n",
      "8/8 [==============================] - 8s 1s/step - loss: 0.5859 - accuracy: 0.8295 - val_loss: 0.5767 - val_accuracy: 0.8250\n",
      "Epoch 61/100\n",
      "8/8 [==============================] - 8s 994ms/step - loss: 0.5809 - accuracy: 0.8265 - val_loss: 0.5907 - val_accuracy: 0.8190\n",
      "Epoch 62/100\n",
      "8/8 [==============================] - 8s 1s/step - loss: 0.5690 - accuracy: 0.8322 - val_loss: 0.5765 - val_accuracy: 0.8190\n",
      "Epoch 63/100\n",
      "8/8 [==============================] - 8s 1s/step - loss: 0.5651 - accuracy: 0.8305 - val_loss: 0.5794 - val_accuracy: 0.8110\n",
      "Epoch 64/100\n",
      "8/8 [==============================] - 8s 1s/step - loss: 0.5645 - accuracy: 0.8232 - val_loss: 0.5537 - val_accuracy: 0.8300\n",
      "Epoch 65/100\n",
      "8/8 [==============================] - 8s 993ms/step - loss: 0.5596 - accuracy: 0.8270 - val_loss: 0.5517 - val_accuracy: 0.8290\n",
      "Epoch 66/100\n",
      "8/8 [==============================] - 8s 1s/step - loss: 0.5534 - accuracy: 0.8245 - val_loss: 0.5506 - val_accuracy: 0.8270\n",
      "Epoch 67/100\n",
      "8/8 [==============================] - 8s 983ms/step - loss: 0.5572 - accuracy: 0.8270 - val_loss: 0.5466 - val_accuracy: 0.8250\n",
      "Epoch 68/100\n",
      "8/8 [==============================] - 8s 989ms/step - loss: 0.5365 - accuracy: 0.8292 - val_loss: 0.5330 - val_accuracy: 0.8310\n",
      "Epoch 69/100\n",
      "8/8 [==============================] - 8s 993ms/step - loss: 0.5303 - accuracy: 0.8285 - val_loss: 0.5417 - val_accuracy: 0.8200\n",
      "Epoch 70/100\n",
      "8/8 [==============================] - 8s 1s/step - loss: 0.5422 - accuracy: 0.8285 - val_loss: 0.5297 - val_accuracy: 0.8360\n",
      "Epoch 71/100\n",
      "8/8 [==============================] - 8s 1s/step - loss: 0.5331 - accuracy: 0.8303 - val_loss: 0.5196 - val_accuracy: 0.8370\n",
      "Epoch 72/100\n",
      "8/8 [==============================] - 8s 1s/step - loss: 0.5300 - accuracy: 0.8278 - val_loss: 0.5229 - val_accuracy: 0.8290\n",
      "Epoch 73/100\n",
      "8/8 [==============================] - 8s 998ms/step - loss: 0.5238 - accuracy: 0.8298 - val_loss: 0.5112 - val_accuracy: 0.8340\n",
      "Epoch 74/100\n",
      "8/8 [==============================] - 8s 977ms/step - loss: 0.5125 - accuracy: 0.8378 - val_loss: 0.5124 - val_accuracy: 0.8350\n",
      "Epoch 75/100\n",
      "8/8 [==============================] - 8s 983ms/step - loss: 0.5211 - accuracy: 0.8273 - val_loss: 0.5186 - val_accuracy: 0.8270\n",
      "Epoch 76/100\n",
      "8/8 [==============================] - 8s 995ms/step - loss: 0.5060 - accuracy: 0.8410 - val_loss: 0.5052 - val_accuracy: 0.8320\n",
      "Epoch 77/100\n",
      "8/8 [==============================] - 8s 1s/step - loss: 0.5161 - accuracy: 0.8332 - val_loss: 0.5029 - val_accuracy: 0.8340\n",
      "Epoch 78/100\n",
      "8/8 [==============================] - 8s 1s/step - loss: 0.5042 - accuracy: 0.8405 - val_loss: 0.5011 - val_accuracy: 0.8340\n",
      "Epoch 79/100\n",
      "8/8 [==============================] - 8s 1s/step - loss: 0.4976 - accuracy: 0.8420 - val_loss: 0.4995 - val_accuracy: 0.8310\n",
      "Epoch 80/100\n",
      "8/8 [==============================] - 8s 995ms/step - loss: 0.4922 - accuracy: 0.8350 - val_loss: 0.4944 - val_accuracy: 0.8370\n",
      "Epoch 81/100\n",
      "8/8 [==============================] - 8s 1s/step - loss: 0.4742 - accuracy: 0.8510 - val_loss: 0.4906 - val_accuracy: 0.8390\n",
      "Epoch 82/100\n",
      "8/8 [==============================] - 8s 998ms/step - loss: 0.4939 - accuracy: 0.8367 - val_loss: 0.4915 - val_accuracy: 0.8370\n",
      "Epoch 83/100\n",
      "8/8 [==============================] - 8s 1s/step - loss: 0.4957 - accuracy: 0.8357 - val_loss: 0.4874 - val_accuracy: 0.8410\n",
      "Epoch 84/100\n",
      "8/8 [==============================] - 8s 1s/step - loss: 0.4913 - accuracy: 0.8385 - val_loss: 0.4869 - val_accuracy: 0.8410\n",
      "Epoch 85/100\n",
      "8/8 [==============================] - 8s 1s/step - loss: 0.4801 - accuracy: 0.8418 - val_loss: 0.4841 - val_accuracy: 0.8390\n",
      "Epoch 86/100\n",
      "8/8 [==============================] - 8s 1s/step - loss: 0.4811 - accuracy: 0.8450 - val_loss: 0.4884 - val_accuracy: 0.8340\n",
      "Epoch 87/100\n",
      "8/8 [==============================] - 8s 1s/step - loss: 0.4673 - accuracy: 0.8490 - val_loss: 0.4841 - val_accuracy: 0.8320\n",
      "Epoch 88/100\n",
      "8/8 [==============================] - 8s 999ms/step - loss: 0.4727 - accuracy: 0.8397 - val_loss: 0.5281 - val_accuracy: 0.8240\n",
      "Epoch 89/100\n",
      "8/8 [==============================] - 8s 995ms/step - loss: 0.4741 - accuracy: 0.8430 - val_loss: 0.4854 - val_accuracy: 0.8360\n",
      "Epoch 90/100\n",
      "8/8 [==============================] - 8s 992ms/step - loss: 0.4693 - accuracy: 0.8457 - val_loss: 0.4730 - val_accuracy: 0.8380\n",
      "Epoch 91/100\n",
      "8/8 [==============================] - 8s 1s/step - loss: 0.4767 - accuracy: 0.8460 - val_loss: 0.4719 - val_accuracy: 0.8460\n",
      "Epoch 92/100\n",
      "8/8 [==============================] - 8s 988ms/step - loss: 0.4676 - accuracy: 0.8435 - val_loss: 0.4781 - val_accuracy: 0.8380\n",
      "Epoch 93/100\n",
      "8/8 [==============================] - 8s 1s/step - loss: 0.4665 - accuracy: 0.8475 - val_loss: 0.4791 - val_accuracy: 0.8470\n",
      "Epoch 94/100\n",
      "8/8 [==============================] - 8s 1000ms/step - loss: 0.4733 - accuracy: 0.8420 - val_loss: 0.4653 - val_accuracy: 0.8420\n",
      "Epoch 95/100\n",
      "8/8 [==============================] - 8s 1s/step - loss: 0.4703 - accuracy: 0.8385 - val_loss: 0.4802 - val_accuracy: 0.8390\n",
      "Epoch 96/100\n",
      "8/8 [==============================] - 8s 1s/step - loss: 0.4642 - accuracy: 0.8438 - val_loss: 0.4810 - val_accuracy: 0.8320\n",
      "Epoch 97/100\n",
      "8/8 [==============================] - 8s 1s/step - loss: 0.4641 - accuracy: 0.8482 - val_loss: 0.4949 - val_accuracy: 0.8280\n",
      "Epoch 98/100\n",
      "8/8 [==============================] - 8s 1s/step - loss: 0.4704 - accuracy: 0.8367 - val_loss: 0.4794 - val_accuracy: 0.8330\n",
      "Epoch 99/100\n",
      "8/8 [==============================] - 8s 973ms/step - loss: 0.4619 - accuracy: 0.8457 - val_loss: 0.4817 - val_accuracy: 0.8410\n",
      "Epoch 100/100\n",
      "8/8 [==============================] - 8s 1s/step - loss: 0.4594 - accuracy: 0.8440 - val_loss: 0.4717 - val_accuracy: 0.8350\n"
     ]
    }
   ],
   "source": [
    "from tensorflow.keras.callbacks import CSVLogger\n",
    "\n",
    "# Filepath to save the CSV log\n",
    "csv_logger_filepath = 'LSTM_Small_Hazm_Result.csv'\n",
    "\n",
    "# Create CSVLogger callback\n",
    "csv_logger = CSVLogger(csv_logger_filepath, append=True)\n",
    "\n",
    "# Fit the model\n",
    "history = model.fit(\n",
    "    x_train, \n",
    "    y_train, \n",
    "    batch_size=BATCH_SIZE, \n",
    "    epochs=NUM_EPOCHS, \n",
    "    shuffle=True, \n",
    "    validation_data=(x_test, y_test),\n",
    "    callbacks=[csv_logger]\n",
    ")"
   ]
  },
  {
   "cell_type": "code",
   "execution_count": 4,
   "metadata": {},
   "outputs": [
    {
     "data": {
      "image/png": "[encoded data removed]",
      "text/plain": [
       "<Figure size 640x480 with 2 Axes>"
      ]
     },
     "metadata": {},
     "output_type": "display_data"
    }
   ],
   "source": [
    "import matplotlib.pyplot as plt\n",
    "\n",
    "# Assuming 'history' is the variable that contains your model training history.\n",
    "# Replace 'history' with the actual name of the variable if it's different.\n",
    "\n",
    "# Accuracy plot\n",
    "plt.subplot(1, 2, 1)\n",
    "plt.plot(history.history['accuracy'], label='Training Accuracy')\n",
    "plt.plot(history.history['val_accuracy'], label='Validation Accuracy')\n",
    "plt.title('Model Accuracy')\n",
    "plt.ylabel('Accuracy')\n",
    "plt.xlabel('Epoch')\n",
    "plt.legend(loc='lower right')\n",
    "\n",
    "# Loss plot\n",
    "plt.subplot(1, 2, 2)\n",
    "plt.plot(history.history['loss'], label='Training Loss')\n",
    "plt.plot(history.history['val_loss'], label='Validation Loss')\n",
    "plt.title('Model Loss')\n",
    "plt.ylabel('Loss')\n",
    "plt.xlabel('Epoch')\n",
    "plt.legend(loc='upper right')\n",
    "\n",
    "# Adjust layout and show the plot\n",
    "plt.tight_layout()\n",
    "plt.show()"
   ]
  },
  {
   "cell_type": "code",
   "execution_count": 5,
   "metadata": {
    "colab": {},
    "colab_type": "code",
    "id": "UpocYJkB7KMs"
   },
   "outputs": [
    {
     "name": "stdout",
     "output_type": "stream",
     "text": [
      "32/32 [==============================] - 3s 83ms/step - loss: 0.4717 - accuracy: 0.8350\n"
     ]
    },
    {
     "data": {
      "text/plain": [
       "[0.4716604948043823, 0.8349999785423279]"
      ]
     },
     "execution_count": 5,
     "metadata": {},
     "output_type": "execute_result"
    }
   ],
   "source": [
    "model.evaluate(x=x_test, y=y_test, batch_size=32, verbose=1)"
   ]
  },
  {
   "cell_type": "code",
   "execution_count": 6,
   "metadata": {
    "colab": {},
    "colab_type": "code",
    "id": "U5xPkhZX7Qmq"
   },
   "outputs": [
    {
     "name": "stdout",
     "output_type": "stream",
     "text": [
      "INFO:tensorflow:Assets written to: LSTM_Small_Hazm_80P.model/assets\n"
     ]
    },
    {
     "name": "stderr",
     "output_type": "stream",
     "text": [
      "INFO:tensorflow:Assets written to: LSTM_Small_Hazm_80P.model/assets\n"
     ]
    }
   ],
   "source": [
    "model.save('LSTM_Small_Hazm_80P.model')"
   ]
  },
  {
   "attachments": {},
   "cell_type": "markdown",
   "metadata": {
    "colab_type": "text",
    "id": "lJxZj2vr7uMO"
   },
   "source": [
    "# Model Loading and Configuration"
   ]
  },
  {
   "cell_type": "code",
   "execution_count": 4,
   "metadata": {},
   "outputs": [
    {
     "name": "stderr",
     "output_type": "stream",
     "text": [
      "Warning : `load_model` does not return WordVectorModel or SupervisedModel any more, but a `FastText` object which is very similar.\n"
     ]
    }
   ],
   "source": [
    "import fasttext\n",
    "import hazm\n",
    "import numpy as np\n",
    "from keras import backend as K\n",
    "import pandas as pd\n",
    "import random\n",
    "from hazm import Normalizer\n",
    "from tensorflow.keras.models import load_model\n",
    "\n",
    "VECTOR_SIZE = 300  # Dimension of the vectors\n",
    "MAX_NO_TOKENS = 107  # Maximum number of tokens\n",
    "\n",
    "model = load_model(\"LSTM_Small_Hazm_80P.model\")\n",
    "W2V_Model = fasttext.load_model(\"Hazm_Embedding_Model_300.bin\")"
   ]
  },
  {
   "cell_type": "code",
   "execution_count": 8,
   "metadata": {
    "cellView": "form",
    "colab": {},
    "colab_type": "code",
    "id": "xXt5rQ0qmyax"
   },
   "outputs": [
    {
     "data": {
      "application/vnd.jupyter.widget-view+json": {
       "model_id": "c1568293cfc04da9823cbabed67e838d",
       "version_major": 2,
       "version_minor": 0
      },
      "text/plain": [
       "Text(value='', continuous_update=False, description='Input:', placeholder='Type something')"
      ]
     },
     "metadata": {},
     "output_type": "display_data"
    }
   ],
   "source": [
    "import numpy as np\n",
    "import hazm\n",
    "from keras import backend as K\n",
    "from IPython.display import display, HTML\n",
    "import ipywidgets as widgets\n",
    "from IPython.display import clear_output\n",
    "\n",
    "# Define the function for normalization and tokenization\n",
    "def normalize_and_tokenize(text):\n",
    "    normalizer = hazm.Normalizer()\n",
    "    return hazm.word_tokenize(normalizer.normalize(text))\n",
    "\n",
    "# Define the function for vectorizing text\n",
    "def vectorize_text(words, model, max_tokens, vector_size):\n",
    "    vectors = [model.get_word_vector(word) for word in words if word in model.words][:max_tokens]\n",
    "    x_vectors = np.zeros((1, max_tokens, vector_size), dtype=K.floatx())\n",
    "    x_vectors[0, :len(vectors), :] = vectors\n",
    "    return x_vectors\n",
    "\n",
    "# Define the function to display sentiment analysis results\n",
    "def display_sentiment(result, images_src_path='./Assets/Images/'):\n",
    "    pos_percent = f\"{int(result[0][1] * 100)} % \"\n",
    "    neg_percent = f\"{int(result[0][0] * 100)} % \"\n",
    "    html_content = f\"<div style='text-align: center'><div style='display:inline-block'><img height='64px' width='64px' src='{images_src_path}smile.png'/><h4>{pos_percent}</h4></div> | <div style='display:inline-block'><img height='64px' width='64px' src='{images_src_path}angry.png'/><h4>{neg_percent}</h4></div></div>\"\n",
    "    display(HTML(html_content))\n",
    "\n",
    "# Callback function to process and display results\n",
    "def on_text_change(change):\n",
    "    if change['type'] == 'change' and change['name'] == 'value':\n",
    "        clear_output(wait=True)\n",
    "        user_text = change['new']\n",
    "        if user_text:\n",
    "            tokenized_text = normalize_and_tokenize(user_text)\n",
    "            x_text_vectors = vectorize_text(tokenized_text, W2V_Model, MAX_NO_TOKENS, VECTOR_SIZE)\n",
    "            result = model.predict(x_text_vectors)  # Replace 'model' with your trained model\n",
    "            display_sentiment(result)\n",
    "        else:\n",
    "            print(\"Please enter your text\")\n",
    "\n",
    "# Create a text input widget\n",
    "text_input = widgets.Text(\n",
    "    value='',\n",
    "    placeholder='Type something',\n",
    "    description='Input:',\n",
    "    continuous_update=False,  # Set to False to trigger the event only when the user stops typing\n",
    "    disabled=False\n",
    ")\n",
    "\n",
    "# Display the text input widget\n",
    "display(text_input)\n",
    "\n",
    "# Set the callback function for text input\n",
    "text_input.observe(on_text_change, names='value')\n"
   ]
  }
 ],
 "metadata": {
  "accelerator": "GPU",
  "colab": {
   "collapsed_sections": [],
   "include_colab_link": true,
   "name": "Tutorial.ipynb",
   "provenance": []
  },
  "kernelspec": {
   "display_name": "Python 3 (ipykernel)",
   "language": "python",
   "name": "python3"
  },
  "language_info": {
   "codemirror_mode": {
    "name": "ipython",
    "version": 3
   },
   "file_extension": ".py",
   "mimetype": "text/x-python",
   "name": "python",
   "nbconvert_exporter": "python",
   "pygments_lexer": "ipython3",
   "version": "3.11.7"
  }
 },
 "nbformat": 4,
 "nbformat_minor": 4
}
