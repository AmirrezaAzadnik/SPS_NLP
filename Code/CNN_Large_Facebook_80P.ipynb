{
 "cells": [
  {
   "cell_type": "markdown",
   "metadata": {
    "colab_type": "text",
    "id": "2ZKbBDbX7Mza"
   },
   "source": [
    "# Data Preprocessing"
   ]
  },
  {
   "cell_type": "code",
   "execution_count": null,
   "metadata": {
    "cellView": "form",
    "colab": {},
    "colab_type": "code",
    "id": "nAQMVT05MMY4"
   },
   "outputs": [],
   "source": [
    "import pandas as pd\n",
    "import random\n",
    "from hazm import Normalizer\n",
    "\n",
    "def clean_persian_text(text):\n",
    "    normalizer = Normalizer()\n",
    "    return normalizer.normalize(text)\n",
    "\n",
    "def load_and_process_data(file_path):\n",
    "    try:\n",
    "        csv_dataset = pd.read_csv(file_path)\n",
    "        reviews = [(clean_persian_text(text), sentiment) for text, sentiment in zip(csv_dataset['Text'], csv_dataset['Sentiment'])]\n",
    "        return reviews\n",
    "    except FileNotFoundError:\n",
    "        print(\"File not found. Please check the file path.\")\n",
    "        return []\n",
    "\n",
    "def filter_reviews_by_sentiment(reviews, sentiment):\n",
    "    return [review for review in reviews if review[1] == sentiment]\n",
    "\n",
    "def print_random_sample(reviews, sentiment):\n",
    "    if reviews:\n",
    "        print(f\"{sentiment} sample : \\n\", random.choice(reviews))\n",
    "    else:\n",
    "        print(f\"No {sentiment} reviews available.\")\n",
    "\n",
    "\n",
    "file_path = \"Raw_Dataset_97P_107.csv\"\n",
    "reviews = load_and_process_data(file_path)\n",
    "\n",
    "positive_reviews = filter_reviews_by_sentiment(reviews, \"positive\")\n",
    "negative_reviews = filter_reviews_by_sentiment(reviews, \"negative\")\n",
    "neutral_reviews = filter_reviews_by_sentiment(reviews, \"neutral\")\n",
    "\n",
    "balanced_reviews = positive_reviews + negative_reviews\n",
    "random.shuffle(balanced_reviews)"
   ]
  },
  {
   "cell_type": "code",
   "execution_count": null,
   "metadata": {},
   "outputs": [],
   "source": [
    "import matplotlib.pyplot as plt\n",
    "\n",
    "# Count of each sentiment category\n",
    "sentiment_counts = {\n",
    "    \"Positive\": len(positive_reviews),\n",
    "    \"Negative\": len(negative_reviews),\n",
    "    \"Neutral\": len(neutral_reviews),\n",
    "}\n",
    "\n",
    "# Total count of reviews\n",
    "total_count = len(reviews)\n",
    "\n",
    "# Display counts in a bar chart\n",
    "plt.figure(figsize=(10, 6))\n",
    "plt.bar(sentiment_counts.keys(), sentiment_counts.values(), color=['green', 'red', 'blue'])\n",
    "plt.xlabel(\"Sentiment\")\n",
    "plt.ylabel(\"Count\")\n",
    "plt.title(\"Sentiment Analysis Results\")\n",
    "plt.show()\n",
    "\n",
    "# Display random samples\n",
    "print(\"\\nRandom Samples:\")\n",
    "print(f\"Positive Sample: {print_random_sample(positive_reviews, 'Positive')}\")\n",
    "print(f\"Negative Sample: {print_random_sample(negative_reviews, 'Negative')}\")\n",
    "print(f\"Neutral Sample: {print_random_sample(neutral_reviews, 'Neutral')}\")\n",
    "\n",
    "# Display count of the balanced dataset\n",
    "print(f\"\\nBalanced dataset count: {len(balanced_reviews)}\")"
   ]
  },
  {
   "cell_type": "markdown",
   "metadata": {},
   "source": [
    "# Data Preparation for Text Classification"
   ]
  },
  {
   "cell_type": "code",
   "execution_count": null,
   "metadata": {
    "cellView": "form",
    "colab": {},
    "colab_type": "code",
    "id": "wUJceKehjfJ3"
   },
   "outputs": [],
   "source": [
    "import numpy as np\n",
    "from keras import backend as K\n",
    "\n",
    "VECTOR_SIZE = 300  # Dimension of the vectors\n",
    "MAX_NO_TOKENS = 107  # Maximum number of tokens\n",
    "TRAIN_TEST_SPLIT = 0.8  # Proportion of the data to be used for training\n",
    "\n",
    "def split_data(data, train_test_split):\n",
    "    train_size = int(train_test_split * len(data))\n",
    "    test_size = len(data) - train_size\n",
    "    return train_size, test_size\n",
    "\n",
    "def initialize_arrays(train_size, test_size, max_tokens, VECTOR_SIZE):\n",
    "    x_train = np.zeros((train_size, max_tokens, VECTOR_SIZE), dtype=K.floatx())\n",
    "    y_train = np.zeros((train_size, 2), dtype=np.int32)\n",
    "\n",
    "    x_test = np.zeros((test_size, max_tokens, VECTOR_SIZE), dtype=K.floatx())\n",
    "    y_test = np.zeros((test_size, 2), dtype=np.int32)\n",
    "\n",
    "    return x_train, y_train, x_test, y_test\n",
    "\n",
    "train_size, test_size = split_data(balanced_reviews, TRAIN_TEST_SPLIT)\n",
    "x_train, y_train, x_test, y_test = initialize_arrays(train_size, test_size, MAX_NO_TOKENS, VECTOR_SIZE)"
   ]
  },
  {
   "cell_type": "code",
   "execution_count": 17,
   "metadata": {},
   "outputs": [
    {
     "name": "stdout",
     "output_type": "stream",
     "text": [
      "Data Information:\n",
      "╒═════════╤══════════════════╕\n",
      "│ Item    │ Shape/Size       │\n",
      "╞═════════╪══════════════════╡\n",
      "│ x_train │ (4000, 107, 300) │\n",
      "├─────────┼──────────────────┤\n",
      "│ x_test  │ (1000, 107, 300) │\n",
      "├─────────┼──────────────────┤\n",
      "│ y_train │ (4000, 2)        │\n",
      "├─────────┼──────────────────┤\n",
      "│ y_test  │ (1000, 2)        │\n",
      "╘═════════╧══════════════════╛\n"
     ]
    }
   ],
   "source": [
    "import tabulate\n",
    "\n",
    "# Shapes of the arrays\n",
    "shapes_data = [\n",
    "    [\"x_train\", x_train.shape],\n",
    "    [\"x_test\", x_test.shape],\n",
    "    [\"y_train\", y_train.shape],\n",
    "    [\"y_test\", y_test.shape]\n",
    "]\n",
    "\n",
    "# Display vocabulary size and array shapes in a table\n",
    "table = tabulate.tabulate(shapes_data, headers=[\"Item\", \"Shape/Size\"], tablefmt=\"fancy_grid\")\n",
    "print(\"Data Information:\")\n",
    "print(table)"
   ]
  },
  {
   "cell_type": "markdown",
   "metadata": {},
   "source": [
    "# Text Vectorization and Sentiment Classification"
   ]
  },
  {
   "cell_type": "code",
   "execution_count": null,
   "metadata": {
    "cellView": "form",
    "colab": {},
    "colab_type": "code",
    "id": "jvcGBpjPwFL0"
   },
   "outputs": [],
   "source": [
    "import numpy as np\n",
    "import fasttext\n",
    "import hazm\n",
    "\n",
    "def load_fasttext_model(model_path):\n",
    "    return fasttext.load_model(model_path)\n",
    "\n",
    "def tokenize_text(text, tokenizer, max_tokens):\n",
    "    return tokenizer.tokenize(text)[:max_tokens]\n",
    "\n",
    "def vectorize_text(text, model, max_tokens):\n",
    "    return [model.get_word_vector(word) for word in text if word in model.words][:max_tokens]\n",
    "\n",
    "def process_reviews(reviews, model, tokenizer, max_tokens, label_map):\n",
    "    x_data = []\n",
    "    y_data = []\n",
    "    unique_words = set()\n",
    "\n",
    "    for text, sentiment in reviews:\n",
    "        tokenized_text = tokenize_text(text, tokenizer, max_tokens)\n",
    "        unique_words.update(tokenized_text)\n",
    "        vectorized_text = vectorize_text(tokenized_text, model, max_tokens)\n",
    "\n",
    "        if not vectorized_text:\n",
    "            continue\n",
    "\n",
    "        padded_vector = np.zeros((max_tokens, model.get_dimension()), dtype=np.float32)\n",
    "        padded_vector[:len(vectorized_text), :] = vectorized_text\n",
    "\n",
    "        x_data.append(padded_vector)\n",
    "        y_data.append(label_map.get(sentiment, label_map['other']))\n",
    "\n",
    "    return np.array(x_data), np.array(y_data), len(unique_words)\n",
    "\n",
    "# Load model and tokenizer\n",
    "W2V_Model = load_fasttext_model(\"Facebook_Embedding_Model_300.bin\")\n",
    "tokenizer = hazm.WordTokenizer()\n",
    "\n",
    "# Assuming 'balanced_reviews' is a list of (text, sentiment) tuples\n",
    "all_reviews = balanced_reviews  # Use the complete set of reviews\n",
    "train_reviews = balanced_reviews[:train_size]\n",
    "test_reviews = balanced_reviews[train_size:]\n",
    "\n",
    "# Define a mapping for sentiment to binary labels\n",
    "sentiment_label_map = {\"negative\": [1.0, 0.0], 'other': [0.0, 1.0]}  # Adjust based on actual labels\n",
    "\n",
    "x_train, y_train, vocabulary_size = process_reviews(train_reviews, W2V_Model, tokenizer, MAX_NO_TOKENS, sentiment_label_map)\n",
    "x_test, y_test, _ = process_reviews(test_reviews, W2V_Model, tokenizer, MAX_NO_TOKENS, sentiment_label_map)"
   ]
  },
  {
   "cell_type": "code",
   "execution_count": 15,
   "metadata": {},
   "outputs": [
    {
     "name": "stdout",
     "output_type": "stream",
     "text": [
      "Data Information:\n",
      "╒═════════╤══════════════════╕\n",
      "│ Item    │ Shape/Size       │\n",
      "╞═════════╪══════════════════╡\n",
      "│ x_train │ (4000, 107, 300) │\n",
      "├─────────┼──────────────────┤\n",
      "│ x_test  │ (1000, 107, 300) │\n",
      "├─────────┼──────────────────┤\n",
      "│ y_train │ (4000, 2)        │\n",
      "├─────────┼──────────────────┤\n",
      "│ y_test  │ (1000, 2)        │\n",
      "╘═════════╧══════════════════╛\n"
     ]
    }
   ],
   "source": [
    "import tabulate\n",
    "\n",
    "# Shapes of the arrays\n",
    "shapes_data = [\n",
    "    [\"x_train\", x_train.shape],\n",
    "    [\"x_test\", x_test.shape],\n",
    "    [\"y_train\", y_train.shape],\n",
    "    [\"y_test\", y_test.shape]\n",
    "]\n",
    "\n",
    "# Display vocabulary size and array shapes in a table\n",
    "table = tabulate.tabulate(shapes_data, headers=[\"Item\", \"Shape/Size\"], tablefmt=\"fancy_grid\")\n",
    "print(\"Data Information:\")\n",
    "print(table)"
   ]
  },
  {
   "cell_type": "markdown",
   "metadata": {},
   "source": [
    "# Saving Data and Cleaning Resources"
   ]
  },
  {
   "cell_type": "code",
   "execution_count": null,
   "metadata": {},
   "outputs": [],
   "source": [
    "np.save(\"x_train_Facebook_Large.npy\", x_train)\n",
    "np.save(\"x_test_Facebook_Large.npy\", x_test)\n",
    "np.save(\"y_train_Facebook_Large.npy\", y_train)\n",
    "np.save(\"y_test_Facebook_Large.npy\", y_test)\n",
    "del W2V_Model"
   ]
  },
  {
   "cell_type": "markdown",
   "metadata": {
    "colab_type": "text",
    "id": "dDunM15J7n8E"
   },
   "source": [
    "# Data Loading and Main Configuration"
   ]
  },
  {
   "cell_type": "code",
   "execution_count": 1,
   "metadata": {},
   "outputs": [
    {
     "name": "stderr",
     "output_type": "stream",
     "text": [
      "2024-01-28 02:34:58.520228: I tensorflow/core/util/port.cc:113] oneDNN custom operations are on. You may see slightly different numerical results due to floating-point round-off errors from different computation orders. To turn them off, set the environment variable `TF_ENABLE_ONEDNN_OPTS=0`.\n",
      "2024-01-28 02:34:58.522677: I external/local_tsl/tsl/cuda/cudart_stub.cc:31] Could not find cuda drivers on your machine, GPU will not be used.\n",
      "2024-01-28 02:34:58.546991: E external/local_xla/xla/stream_executor/cuda/cuda_dnn.cc:9261] Unable to register cuDNN factory: Attempting to register factory for plugin cuDNN when one has already been registered\n",
      "2024-01-28 02:34:58.547011: E external/local_xla/xla/stream_executor/cuda/cuda_fft.cc:607] Unable to register cuFFT factory: Attempting to register factory for plugin cuFFT when one has already been registered\n",
      "2024-01-28 02:34:58.547629: E external/local_xla/xla/stream_executor/cuda/cuda_blas.cc:1515] Unable to register cuBLAS factory: Attempting to register factory for plugin cuBLAS when one has already been registered\n",
      "2024-01-28 02:34:58.551444: I external/local_tsl/tsl/cuda/cudart_stub.cc:31] Could not find cuda drivers on your machine, GPU will not be used.\n",
      "2024-01-28 02:34:58.551833: I tensorflow/core/platform/cpu_feature_guard.cc:182] This TensorFlow binary is optimized to use available CPU instructions in performance-critical operations.\n",
      "To enable the following instructions: AVX2 AVX512F AVX512_VNNI FMA, in other operations, rebuild TensorFlow with the appropriate compiler flags.\n",
      "2024-01-28 02:34:59.196765: W tensorflow/compiler/tf2tensorrt/utils/py_utils.cc:38] TF-TRT Warning: Could not find TensorRT\n"
     ]
    },
    {
     "name": "stdout",
     "output_type": "stream",
     "text": [
      "(66598, 107, 300) (7400, 107, 300) (66598, 2) (7400, 2)\n"
     ]
    }
   ],
   "source": [
    "import fasttext\n",
    "import hazm\n",
    "import numpy as np\n",
    "from keras import backend as K\n",
    "import pandas as pd\n",
    "import random\n",
    "from hazm import Normalizer\n",
    "\n",
    "VECTOR_SIZE = 300  # Dimension of the vectors\n",
    "MAX_NO_TOKENS = 107  # Maximum number of tokens\n",
    "\n",
    "BATCH_SIZE = 512\n",
    "NUM_EPOCHS = 40\n",
    "\n",
    "x_train = np.load(\"./Facebook_Dataset/x_train_Facebook.npy\")\n",
    "x_test = np.load(\"./Facebook_Dataset/x_test_FaceBook.npy\" )\n",
    "\n",
    "y_train = np.load(\"./Facebook_Dataset/y_train_Facebook.npy\")\n",
    "y_test = np.load(\"./Facebook_Dataset/y_test_Facebook.npy\")\n",
    "\n",
    "print(x_train.shape,x_test.shape,y_train.shape,y_test.shape)"
   ]
  },
  {
   "cell_type": "markdown",
   "metadata": {},
   "source": [
    "# Convolutional Neural Network (CNN) Model Definition"
   ]
  },
  {
   "cell_type": "code",
   "execution_count": 2,
   "metadata": {
    "cellView": "form",
    "colab": {},
    "colab_type": "code",
    "id": "J1z_mq913jTq"
   },
   "outputs": [
    {
     "name": "stdout",
     "output_type": "stream",
     "text": [
      "Model: \"model\"\n",
      "__________________________________________________________________________________________________\n",
      " Layer (type)                Output Shape                 Param #   Connected to                  \n",
      "==================================================================================================\n",
      " input_1 (InputLayer)        [(None, 107, 300)]           0         []                            \n",
      "                                                                                                  \n",
      " conv1d (Conv1D)             (None, 106, 64)              38464     ['input_1[0][0]']             \n",
      "                                                                                                  \n",
      " conv1d_1 (Conv1D)           (None, 105, 64)              57664     ['input_1[0][0]']             \n",
      "                                                                                                  \n",
      " conv1d_2 (Conv1D)           (None, 104, 64)              76864     ['input_1[0][0]']             \n",
      "                                                                                                  \n",
      " global_max_pooling1d (Glob  (None, 64)                   0         ['conv1d[0][0]']              \n",
      " alMaxPooling1D)                                                                                  \n",
      "                                                                                                  \n",
      " global_max_pooling1d_1 (Gl  (None, 64)                   0         ['conv1d_1[0][0]']            \n",
      " obalMaxPooling1D)                                                                                \n",
      "                                                                                                  \n",
      " global_max_pooling1d_2 (Gl  (None, 64)                   0         ['conv1d_2[0][0]']            \n",
      " obalMaxPooling1D)                                                                                \n",
      "                                                                                                  \n",
      " concatenate (Concatenate)   (None, 192)                  0         ['global_max_pooling1d[0][0]',\n",
      "                                                                     'global_max_pooling1d_1[0][0]\n",
      "                                                                    ',                            \n",
      "                                                                     'global_max_pooling1d_2[0][0]\n",
      "                                                                    ']                            \n",
      "                                                                                                  \n",
      " dense (Dense)               (None, 3)                    579       ['concatenate[0][0]']         \n",
      "                                                                                                  \n",
      " attention_probs (Dense)     (None, 3)                    12        ['dense[0][0]']               \n",
      "                                                                                                  \n",
      " multiply (Multiply)         (None, 3)                    0         ['dense[0][0]',               \n",
      "                                                                     'attention_probs[0][0]']     \n",
      "                                                                                                  \n",
      " dense_1 (Dense)             (None, 64)                   256       ['multiply[0][0]']            \n",
      "                                                                                                  \n",
      " dropout (Dropout)           (None, 64)                   0         ['dense_1[0][0]']             \n",
      "                                                                                                  \n",
      " dense_2 (Dense)             (None, 2)                    130       ['dropout[0][0]']             \n",
      "                                                                                                  \n",
      "==================================================================================================\n",
      "Total params: 173969 (679.57 KB)\n",
      "Trainable params: 173969 (679.57 KB)\n",
      "Non-trainable params: 0 (0.00 Byte)\n",
      "__________________________________________________________________________________________________\n"
     ]
    }
   ],
   "source": [
    "from keras.models import Sequential\n",
    "from keras.layers import Conv1D, GlobalMaxPooling1D, Dense, Dropout, BatchNormalization, Input, Concatenate, Flatten\n",
    "from keras.regularizers import l2\n",
    "from keras.optimizers import Adam\n",
    "from keras.callbacks import EarlyStopping, ReduceLROnPlateau\n",
    "from keras.models import Model\n",
    "from keras.layers import Multiply\n",
    "\n",
    "# Define the input layer for the neural network\n",
    "input_layer = Input(shape=(MAX_NO_TOKENS, VECTOR_SIZE))\n",
    "\n",
    "# Create convolutional layers with different kernel sizes\n",
    "conv1 = Conv1D(filters=64, kernel_size=2, activation='relu', kernel_regularizer=l2(0.005))(input_layer)\n",
    "conv2 = Conv1D(filters=64, kernel_size=3, activation='relu', kernel_regularizer=l2(0.005))(input_layer)\n",
    "conv3 = Conv1D(filters=64, kernel_size=4, activation='relu', kernel_regularizer=l2(0.005))(input_layer)\n",
    "\n",
    "# Perform global max pooling on each convolutional layer\n",
    "pool1 = GlobalMaxPooling1D()(conv1)\n",
    "pool2 = GlobalMaxPooling1D()(conv2)\n",
    "pool3 = GlobalMaxPooling1D()(conv3)\n",
    "\n",
    "# Concatenate the pooled features from different kernel sizes\n",
    "concat = Concatenate()([pool1, pool2, pool3])\n",
    "\n",
    "# Resize concatenated features to match attention probabilities\n",
    "resize_concat = Dense(3, activation='relu')(concat)\n",
    "\n",
    "# Implement an attention mechanism\n",
    "attention_probs = Dense(3, activation='softmax', name='attention_probs')(resize_concat)\n",
    "attention_mul = Multiply()([resize_concat, attention_probs])\n",
    "\n",
    "# Add a dense layer with regularization\n",
    "dense = Dense(64, activation='relu', kernel_regularizer=l2(0.005))(attention_mul)\n",
    "dropout = Dropout(0.5)(dense)\n",
    "\n",
    "# Define the output layer\n",
    "output = Dense(2, activation='softmax')(dropout)\n",
    "\n",
    "# Build the neural network model\n",
    "model = Model(inputs=input_layer, outputs=output)\n",
    "\n",
    "# Compile the model with specified optimizer and loss function\n",
    "optimizer = Adam(learning_rate=0.001)\n",
    "model.compile(loss='categorical_crossentropy', optimizer=optimizer, metrics=['accuracy'])\n",
    "\n",
    "# Define callbacks for training\n",
    "# early_stopping = EarlyStopping(monitor='val_loss', patience=5, restore_best_weights=True)\n",
    "reduce_lr = ReduceLROnPlateau(monitor='val_loss', factor=0.2, patience=3, min_lr=0.00001)\n",
    "\n",
    "# Display a summary of the model architecture\n",
    "model.summary()"
   ]
  },
  {
   "cell_type": "code",
   "execution_count": 3,
   "metadata": {
    "colab": {},
    "colab_type": "code",
    "id": "P9qfU9CM3mL-"
   },
   "outputs": [
    {
     "name": "stdout",
     "output_type": "stream",
     "text": [
      "Epoch 1/40\n",
      "131/131 [==============================] - 17s 121ms/step - loss: 0.9636 - accuracy: 0.6318 - val_loss: 0.6595 - val_accuracy: 0.8047 - lr: 0.0010\n",
      "Epoch 2/40\n",
      "131/131 [==============================] - 18s 140ms/step - loss: 0.5564 - accuracy: 0.8125 - val_loss: 0.4702 - val_accuracy: 0.8347 - lr: 0.0010\n",
      "Epoch 3/40\n",
      "131/131 [==============================] - 18s 141ms/step - loss: 0.4814 - accuracy: 0.8272 - val_loss: 0.4526 - val_accuracy: 0.8362 - lr: 0.0010\n",
      "Epoch 4/40\n",
      "131/131 [==============================] - 19s 141ms/step - loss: 0.4590 - accuracy: 0.8367 - val_loss: 0.4410 - val_accuracy: 0.8411 - lr: 0.0010\n",
      "Epoch 5/40\n",
      "131/131 [==============================] - 19s 141ms/step - loss: 0.4545 - accuracy: 0.8393 - val_loss: 0.4348 - val_accuracy: 0.8431 - lr: 0.0010\n",
      "Epoch 6/40\n",
      "131/131 [==============================] - 19s 141ms/step - loss: 0.4452 - accuracy: 0.8432 - val_loss: 0.4359 - val_accuracy: 0.8426 - lr: 0.0010\n",
      "Epoch 7/40\n",
      "131/131 [==============================] - 19s 141ms/step - loss: 0.4347 - accuracy: 0.8491 - val_loss: 0.4345 - val_accuracy: 0.8385 - lr: 0.0010\n",
      "Epoch 8/40\n",
      "131/131 [==============================] - 18s 140ms/step - loss: 0.4371 - accuracy: 0.8495 - val_loss: 0.4258 - val_accuracy: 0.8484 - lr: 0.0010\n",
      "Epoch 9/40\n",
      "131/131 [==============================] - 19s 144ms/step - loss: 0.4245 - accuracy: 0.8548 - val_loss: 0.4234 - val_accuracy: 0.8459 - lr: 0.0010\n",
      "Epoch 10/40\n",
      "131/131 [==============================] - 19s 142ms/step - loss: 0.4259 - accuracy: 0.8520 - val_loss: 0.4289 - val_accuracy: 0.8408 - lr: 0.0010\n",
      "Epoch 11/40\n",
      "131/131 [==============================] - 19s 142ms/step - loss: 0.4191 - accuracy: 0.8574 - val_loss: 0.4203 - val_accuracy: 0.8543 - lr: 0.0010\n",
      "Epoch 12/40\n",
      "131/131 [==============================] - 18s 141ms/step - loss: 0.4200 - accuracy: 0.8569 - val_loss: 0.4217 - val_accuracy: 0.8505 - lr: 0.0010\n",
      "Epoch 13/40\n",
      "131/131 [==============================] - 19s 141ms/step - loss: 0.4175 - accuracy: 0.8604 - val_loss: 0.4323 - val_accuracy: 0.8420 - lr: 0.0010\n",
      "Epoch 14/40\n",
      "131/131 [==============================] - 19s 143ms/step - loss: 0.4111 - accuracy: 0.8633 - val_loss: 0.4272 - val_accuracy: 0.8466 - lr: 0.0010\n",
      "Epoch 15/40\n",
      "131/131 [==============================] - 19s 142ms/step - loss: 0.3721 - accuracy: 0.8828 - val_loss: 0.4047 - val_accuracy: 0.8555 - lr: 2.0000e-04\n",
      "Epoch 16/40\n",
      "131/131 [==============================] - 19s 143ms/step - loss: 0.3524 - accuracy: 0.8912 - val_loss: 0.4010 - val_accuracy: 0.8554 - lr: 2.0000e-04\n",
      "Epoch 17/40\n",
      "131/131 [==============================] - 19s 143ms/step - loss: 0.3440 - accuracy: 0.8953 - val_loss: 0.4011 - val_accuracy: 0.8569 - lr: 2.0000e-04\n",
      "Epoch 18/40\n",
      "131/131 [==============================] - 19s 141ms/step - loss: 0.3371 - accuracy: 0.8981 - val_loss: 0.4022 - val_accuracy: 0.8543 - lr: 2.0000e-04\n",
      "Epoch 19/40\n",
      "131/131 [==============================] - 18s 141ms/step - loss: 0.3325 - accuracy: 0.8976 - val_loss: 0.4053 - val_accuracy: 0.8522 - lr: 2.0000e-04\n",
      "Epoch 20/40\n",
      "131/131 [==============================] - 19s 142ms/step - loss: 0.3152 - accuracy: 0.9103 - val_loss: 0.3986 - val_accuracy: 0.8569 - lr: 4.0000e-05\n",
      "Epoch 21/40\n",
      "131/131 [==============================] - 18s 141ms/step - loss: 0.3093 - accuracy: 0.9129 - val_loss: 0.3984 - val_accuracy: 0.8565 - lr: 4.0000e-05\n",
      "Epoch 22/40\n",
      "131/131 [==============================] - 18s 141ms/step - loss: 0.3073 - accuracy: 0.9137 - val_loss: 0.3992 - val_accuracy: 0.8588 - lr: 4.0000e-05\n",
      "Epoch 23/40\n",
      "131/131 [==============================] - 18s 141ms/step - loss: 0.3055 - accuracy: 0.9148 - val_loss: 0.3986 - val_accuracy: 0.8589 - lr: 4.0000e-05\n",
      "Epoch 24/40\n",
      "131/131 [==============================] - 18s 141ms/step - loss: 0.3028 - accuracy: 0.9157 - val_loss: 0.4003 - val_accuracy: 0.8584 - lr: 4.0000e-05\n",
      "Epoch 25/40\n",
      "131/131 [==============================] - 19s 141ms/step - loss: 0.2992 - accuracy: 0.9187 - val_loss: 0.3988 - val_accuracy: 0.8574 - lr: 1.0000e-05\n",
      "Epoch 26/40\n",
      "131/131 [==============================] - 19s 142ms/step - loss: 0.2992 - accuracy: 0.9180 - val_loss: 0.3989 - val_accuracy: 0.8584 - lr: 1.0000e-05\n",
      "Epoch 27/40\n",
      "131/131 [==============================] - 19s 143ms/step - loss: 0.2986 - accuracy: 0.9188 - val_loss: 0.3989 - val_accuracy: 0.8577 - lr: 1.0000e-05\n",
      "Epoch 28/40\n",
      "131/131 [==============================] - 18s 141ms/step - loss: 0.2968 - accuracy: 0.9190 - val_loss: 0.3991 - val_accuracy: 0.8574 - lr: 1.0000e-05\n",
      "Epoch 29/40\n",
      "131/131 [==============================] - 18s 141ms/step - loss: 0.2969 - accuracy: 0.9192 - val_loss: 0.3992 - val_accuracy: 0.8573 - lr: 1.0000e-05\n",
      "Epoch 30/40\n",
      "131/131 [==============================] - 18s 141ms/step - loss: 0.2971 - accuracy: 0.9184 - val_loss: 0.3993 - val_accuracy: 0.8578 - lr: 1.0000e-05\n",
      "Epoch 31/40\n",
      "131/131 [==============================] - 19s 141ms/step - loss: 0.2959 - accuracy: 0.9197 - val_loss: 0.3992 - val_accuracy: 0.8576 - lr: 1.0000e-05\n",
      "Epoch 32/40\n",
      "131/131 [==============================] - 19s 142ms/step - loss: 0.2954 - accuracy: 0.9196 - val_loss: 0.3994 - val_accuracy: 0.8573 - lr: 1.0000e-05\n",
      "Epoch 33/40\n",
      "131/131 [==============================] - 19s 142ms/step - loss: 0.2946 - accuracy: 0.9201 - val_loss: 0.3994 - val_accuracy: 0.8573 - lr: 1.0000e-05\n",
      "Epoch 34/40\n",
      "131/131 [==============================] - 18s 141ms/step - loss: 0.2948 - accuracy: 0.9207 - val_loss: 0.3999 - val_accuracy: 0.8566 - lr: 1.0000e-05\n",
      "Epoch 35/40\n",
      "131/131 [==============================] - 19s 142ms/step - loss: 0.2942 - accuracy: 0.9198 - val_loss: 0.3997 - val_accuracy: 0.8566 - lr: 1.0000e-05\n",
      "Epoch 36/40\n",
      "131/131 [==============================] - 18s 141ms/step - loss: 0.2940 - accuracy: 0.9209 - val_loss: 0.3996 - val_accuracy: 0.8574 - lr: 1.0000e-05\n",
      "Epoch 37/40\n",
      "131/131 [==============================] - 19s 142ms/step - loss: 0.2927 - accuracy: 0.9217 - val_loss: 0.3996 - val_accuracy: 0.8576 - lr: 1.0000e-05\n",
      "Epoch 38/40\n",
      "131/131 [==============================] - 19s 142ms/step - loss: 0.2924 - accuracy: 0.9214 - val_loss: 0.4004 - val_accuracy: 0.8561 - lr: 1.0000e-05\n",
      "Epoch 39/40\n",
      "131/131 [==============================] - 18s 141ms/step - loss: 0.2918 - accuracy: 0.9230 - val_loss: 0.3999 - val_accuracy: 0.8570 - lr: 1.0000e-05\n",
      "Epoch 40/40\n",
      "131/131 [==============================] - 19s 142ms/step - loss: 0.2916 - accuracy: 0.9222 - val_loss: 0.3997 - val_accuracy: 0.8566 - lr: 1.0000e-05\n"
     ]
    }
   ],
   "source": [
    "from tensorflow.keras.callbacks import CSVLogger\n",
    "\n",
    "# Filepath to save the CSV log\n",
    "csv_logger_filepath = 'CNN_Large_Facebook_Result.csv'\n",
    "\n",
    "# Create CSVLogger callback\n",
    "csv_logger = CSVLogger(csv_logger_filepath, append=True)\n",
    "\n",
    "# Fit the model\n",
    "history = model.fit(\n",
    "    x_train, \n",
    "    y_train, \n",
    "    batch_size=BATCH_SIZE, \n",
    "    epochs=NUM_EPOCHS, \n",
    "    shuffle=True, \n",
    "    validation_data=(x_test, y_test),\n",
    "    callbacks=[reduce_lr, csv_logger]\n",
    ")"
   ]
  },
  {
   "cell_type": "code",
   "execution_count": 4,
   "metadata": {},
   "outputs": [
    {
     "data": {
      "image/png": "[encoded data removed]",
      "text/plain": [
       "<Figure size 640x480 with 2 Axes>"
      ]
     },
     "metadata": {},
     "output_type": "display_data"
    }
   ],
   "source": [
    "import matplotlib.pyplot as plt\n",
    "\n",
    "# Assuming 'history' is the variable that contains your model training history.\n",
    "# Replace 'history' with the actual name of the variable if it's different.\n",
    "\n",
    "# Accuracy plot\n",
    "plt.subplot(1, 2, 1)\n",
    "plt.plot(history.history['accuracy'], label='Training Accuracy')\n",
    "plt.plot(history.history['val_accuracy'], label='Validation Accuracy')\n",
    "plt.title('Model Accuracy')\n",
    "plt.ylabel('Accuracy')\n",
    "plt.xlabel('Epoch')\n",
    "plt.legend(loc='lower right')\n",
    "\n",
    "# Loss plot\n",
    "plt.subplot(1, 2, 2)\n",
    "plt.plot(history.history['loss'], label='Training Loss')\n",
    "plt.plot(history.history['val_loss'], label='Validation Loss')\n",
    "plt.title('Model Loss')\n",
    "plt.ylabel('Loss')\n",
    "plt.xlabel('Epoch')\n",
    "plt.legend(loc='upper right')\n",
    "\n",
    "# Adjust layout and show the plot\n",
    "plt.tight_layout()\n",
    "plt.show()"
   ]
  },
  {
   "cell_type": "code",
   "execution_count": 5,
   "metadata": {
    "colab": {},
    "colab_type": "code",
    "id": "UpocYJkB7KMs"
   },
   "outputs": [
    {
     "name": "stdout",
     "output_type": "stream",
     "text": [
      "232/232 [==============================] - 1s 5ms/step - loss: 0.3997 - accuracy: 0.8566\n"
     ]
    },
    {
     "data": {
      "text/plain": [
       "[0.39974555373191833, 0.8566216230392456]"
      ]
     },
     "execution_count": 5,
     "metadata": {},
     "output_type": "execute_result"
    }
   ],
   "source": [
    "model.evaluate(x=x_test, y=y_test, batch_size=32, verbose=1)"
   ]
  },
  {
   "cell_type": "code",
   "execution_count": 6,
   "metadata": {
    "colab": {},
    "colab_type": "code",
    "id": "U5xPkhZX7Qmq"
   },
   "outputs": [
    {
     "name": "stdout",
     "output_type": "stream",
     "text": [
      "INFO:tensorflow:Assets written to: CNN_Large_Facebook_80P.model/assets\n"
     ]
    },
    {
     "name": "stderr",
     "output_type": "stream",
     "text": [
      "INFO:tensorflow:Assets written to: CNN_Large_Facebook_80P.model/assets\n"
     ]
    }
   ],
   "source": [
    "model.save('CNN_Large_Facebook_80P.model')"
   ]
  },
  {
   "cell_type": "markdown",
   "metadata": {
    "colab_type": "text",
    "id": "lJxZj2vr7uMO"
   },
   "source": [
    "# Model Loading and Configuration"
   ]
  },
  {
   "cell_type": "code",
   "execution_count": 4,
   "metadata": {},
   "outputs": [
    {
     "name": "stderr",
     "output_type": "stream",
     "text": [
      "Warning : `load_model` does not return WordVectorModel or SupervisedModel any more, but a `FastText` object which is very similar.\n"
     ]
    }
   ],
   "source": [
    "import fasttext\n",
    "import hazm\n",
    "import numpy as np\n",
    "from keras import backend as K\n",
    "import pandas as pd\n",
    "import random\n",
    "from hazm import Normalizer\n",
    "from tensorflow.keras.models import load_model\n",
    "\n",
    "VECTOR_SIZE = 300  # Dimension of the vectors\n",
    "MAX_NO_TOKENS = 107  # Maximum number of tokens\n",
    "\n",
    "model = load_model(\"CNN_Large_Facebook_80P.model\")\n",
    "W2V_Model = fasttext.load_model(\"Facebook_Embedding_Model_300.bin\")"
   ]
  },
  {
   "cell_type": "code",
   "execution_count": 8,
   "metadata": {
    "cellView": "form",
    "colab": {},
    "colab_type": "code",
    "id": "xXt5rQ0qmyax"
   },
   "outputs": [
    {
     "data": {
      "application/vnd.jupyter.widget-view+json": {
       "model_id": "c1568293cfc04da9823cbabed67e838d",
       "version_major": 2,
       "version_minor": 0
      },
      "text/plain": [
       "Text(value='', continuous_update=False, description='Input:', placeholder='Type something')"
      ]
     },
     "metadata": {},
     "output_type": "display_data"
    }
   ],
   "source": [
    "import numpy as np\n",
    "import hazm\n",
    "from keras import backend as K\n",
    "from IPython.display import display, HTML\n",
    "import ipywidgets as widgets\n",
    "from IPython.display import clear_output\n",
    "\n",
    "# Define the function for normalization and tokenization\n",
    "def normalize_and_tokenize(text):\n",
    "    normalizer = hazm.Normalizer()\n",
    "    return hazm.word_tokenize(normalizer.normalize(text))\n",
    "\n",
    "# Define the function for vectorizing text\n",
    "def vectorize_text(words, model, max_tokens, vector_size):\n",
    "    vectors = [model.get_word_vector(word) for word in words if word in model.words][:max_tokens]\n",
    "    x_vectors = np.zeros((1, max_tokens, vector_size), dtype=K.floatx())\n",
    "    x_vectors[0, :len(vectors), :] = vectors\n",
    "    return x_vectors\n",
    "\n",
    "# Define the function to display sentiment analysis results\n",
    "def display_sentiment(result, images_src_path='./Assets/Images/'):\n",
    "    pos_percent = f\"{int(result[0][1] * 100)} % \"\n",
    "    neg_percent = f\"{int(result[0][0] * 100)} % \"\n",
    "    html_content = f\"<div style='text-align: center'><div style='display:inline-block'><img height='64px' width='64px' src='{images_src_path}smile.png'/><h4>{pos_percent}</h4></div> | <div style='display:inline-block'><img height='64px' width='64px' src='{images_src_path}angry.png'/><h4>{neg_percent}</h4></div></div>\"\n",
    "    display(HTML(html_content))\n",
    "\n",
    "# Callback function to process and display results\n",
    "def on_text_change(change):\n",
    "    if change['type'] == 'change' and change['name'] == 'value':\n",
    "        clear_output(wait=True)\n",
    "        user_text = change['new']\n",
    "        if user_text:\n",
    "            tokenized_text = normalize_and_tokenize(user_text)\n",
    "            x_text_vectors = vectorize_text(tokenized_text, W2V_Model, MAX_NO_TOKENS, VECTOR_SIZE)\n",
    "            result = model.predict(x_text_vectors)  # Replace 'model' with your trained model\n",
    "            display_sentiment(result)\n",
    "        else:\n",
    "            print(\"Please enter your text\")\n",
    "\n",
    "# Create a text input widget\n",
    "text_input = widgets.Text(\n",
    "    value='',\n",
    "    placeholder='Type something',\n",
    "    description='Input:',\n",
    "    continuous_update=False,  # Set to False to trigger the event only when the user stops typing\n",
    "    disabled=False\n",
    ")\n",
    "\n",
    "# Display the text input widget\n",
    "display(text_input)\n",
    "\n",
    "# Set the callback function for text input\n",
    "text_input.observe(on_text_change, names='value')\n"
   ]
  }
 ],
 "metadata": {
  "accelerator": "GPU",
  "colab": {
   "collapsed_sections": [],
   "include_colab_link": true,
   "name": "Tutorial.ipynb",
   "provenance": []
  },
  "kernelspec": {
   "display_name": "Python 3 (ipykernel)",
   "language": "python",
   "name": "python3"
  },
  "language_info": {
   "codemirror_mode": {
    "name": "ipython",
    "version": 3
   },
   "file_extension": ".py",
   "mimetype": "text/x-python",
   "name": "python",
   "nbconvert_exporter": "python",
   "pygments_lexer": "ipython3",
   "version": "3.10.13"
  }
 },
 "nbformat": 4,
 "nbformat_minor": 4
}
