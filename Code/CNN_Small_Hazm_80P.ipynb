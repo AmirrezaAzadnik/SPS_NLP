{
 "cells": [
  {
   "attachments": {},
   "cell_type": "markdown",
   "metadata": {
    "colab_type": "text",
    "id": "2ZKbBDbX7Mza"
   },
   "source": [
    "# Data Preprocessing"
   ]
  },
  {
   "cell_type": "code",
   "execution_count": null,
   "metadata": {
    "cellView": "form",
    "colab": {},
    "colab_type": "code",
    "id": "nAQMVT05MMY4"
   },
   "outputs": [],
   "source": [
    "import pandas as pd\n",
    "import random\n",
    "from hazm import Normalizer\n",
    "\n",
    "def clean_persian_text(text):\n",
    "    normalizer = Normalizer()\n",
    "    return normalizer.normalize(text)\n",
    "\n",
    "def load_and_process_data(file_path):\n",
    "    try:\n",
    "        csv_dataset = pd.read_csv(file_path)\n",
    "        reviews = [(clean_persian_text(text), sentiment) for text, sentiment in zip(csv_dataset['Text'], csv_dataset['Sentiment'])]\n",
    "        return reviews\n",
    "    except FileNotFoundError:\n",
    "        print(\"File not found. Please check the file path.\")\n",
    "        return []\n",
    "\n",
    "def filter_reviews_by_sentiment(reviews, sentiment):\n",
    "    return [review for review in reviews if review[1] == sentiment]\n",
    "\n",
    "def print_random_sample(reviews, sentiment):\n",
    "    if reviews:\n",
    "        print(f\"{sentiment} sample : \\n\", random.choice(reviews))\n",
    "    else:\n",
    "        print(f\"No {sentiment} reviews available.\")\n",
    "\n",
    "\n",
    "file_path = \"Raw_Dataset_97P_107.csv\"\n",
    "reviews = load_and_process_data(file_path)\n",
    "\n",
    "positive_reviews = filter_reviews_by_sentiment(reviews, \"positive\")\n",
    "negative_reviews = filter_reviews_by_sentiment(reviews, \"negative\")\n",
    "neutral_reviews = filter_reviews_by_sentiment(reviews, \"neutral\")\n",
    "\n",
    "balanced_reviews = positive_reviews[:2500] + negative_reviews[:2500]\n",
    "random.shuffle(balanced_reviews)"
   ]
  },
  {
   "cell_type": "code",
   "execution_count": null,
   "metadata": {},
   "outputs": [],
   "source": [
    "import matplotlib.pyplot as plt\n",
    "\n",
    "# Count of each sentiment category\n",
    "sentiment_counts = {\n",
    "    \"Positive\": len(positive_reviews),\n",
    "    \"Negative\": len(negative_reviews),\n",
    "    \"Neutral\": len(neutral_reviews),\n",
    "}\n",
    "\n",
    "# Total count of reviews\n",
    "total_count = len(reviews)\n",
    "\n",
    "# Display counts in a bar chart\n",
    "plt.figure(figsize=(10, 6))\n",
    "plt.bar(sentiment_counts.keys(), sentiment_counts.values(), color=['green', 'red', 'blue'])\n",
    "plt.xlabel(\"Sentiment\")\n",
    "plt.ylabel(\"Count\")\n",
    "plt.title(\"Sentiment Analysis Results\")\n",
    "plt.show()\n",
    "\n",
    "# Display random samples\n",
    "print(\"\\nRandom Samples:\")\n",
    "print(f\"Positive Sample: {print_random_sample(positive_reviews, 'Positive')}\")\n",
    "print(f\"Negative Sample: {print_random_sample(negative_reviews, 'Negative')}\")\n",
    "print(f\"Neutral Sample: {print_random_sample(neutral_reviews, 'Neutral')}\")\n",
    "\n",
    "# Display count of the balanced dataset\n",
    "print(f\"\\nBalanced dataset count: {len(balanced_reviews)}\")"
   ]
  },
  {
   "attachments": {},
   "cell_type": "markdown",
   "metadata": {},
   "source": [
    "# Data Preparation for Text Classification"
   ]
  },
  {
   "cell_type": "code",
   "execution_count": null,
   "metadata": {
    "cellView": "form",
    "colab": {},
    "colab_type": "code",
    "id": "wUJceKehjfJ3"
   },
   "outputs": [],
   "source": [
    "import numpy as np\n",
    "from keras import backend as K\n",
    "\n",
    "VECTOR_SIZE = 300  # Dimension of the vectors\n",
    "MAX_NO_TOKENS = 107  # Maximum number of tokens\n",
    "TRAIN_TEST_SPLIT = 0.8  # Proportion of the data to be used for training\n",
    "\n",
    "def split_data(data, train_test_split):\n",
    "    train_size = int(train_test_split * len(data))\n",
    "    test_size = len(data) - train_size\n",
    "    return train_size, test_size\n",
    "\n",
    "def initialize_arrays(train_size, test_size, max_tokens, VECTOR_SIZE):\n",
    "    x_train = np.zeros((train_size, max_tokens, VECTOR_SIZE), dtype=K.floatx())\n",
    "    y_train = np.zeros((train_size, 2), dtype=np.int32)\n",
    "\n",
    "    x_test = np.zeros((test_size, max_tokens, VECTOR_SIZE), dtype=K.floatx())\n",
    "    y_test = np.zeros((test_size, 2), dtype=np.int32)\n",
    "\n",
    "    return x_train, y_train, x_test, y_test\n",
    "\n",
    "train_size, test_size = split_data(balanced_reviews, TRAIN_TEST_SPLIT)\n",
    "x_train, y_train, x_test, y_test = initialize_arrays(train_size, test_size, MAX_NO_TOKENS, VECTOR_SIZE)"
   ]
  },
  {
   "cell_type": "code",
   "execution_count": 17,
   "metadata": {},
   "outputs": [
    {
     "name": "stdout",
     "output_type": "stream",
     "text": [
      "Data Information:\n",
      "╒═════════╤══════════════════╕\n",
      "│ Item    │ Shape/Size       │\n",
      "╞═════════╪══════════════════╡\n",
      "│ x_train │ (4000, 107, 300) │\n",
      "├─────────┼──────────────────┤\n",
      "│ x_test  │ (1000, 107, 300) │\n",
      "├─────────┼──────────────────┤\n",
      "│ y_train │ (4000, 2)        │\n",
      "├─────────┼──────────────────┤\n",
      "│ y_test  │ (1000, 2)        │\n",
      "╘═════════╧══════════════════╛\n"
     ]
    }
   ],
   "source": [
    "import tabulate\n",
    "\n",
    "# Shapes of the arrays\n",
    "shapes_data = [\n",
    "    [\"x_train\", x_train.shape],\n",
    "    [\"x_test\", x_test.shape],\n",
    "    [\"y_train\", y_train.shape],\n",
    "    [\"y_test\", y_test.shape]\n",
    "]\n",
    "\n",
    "# Display vocabulary size and array shapes in a table\n",
    "table = tabulate.tabulate(shapes_data, headers=[\"Item\", \"Shape/Size\"], tablefmt=\"fancy_grid\")\n",
    "print(\"Data Information:\")\n",
    "print(table)"
   ]
  },
  {
   "attachments": {},
   "cell_type": "markdown",
   "metadata": {},
   "source": [
    "# Text Vectorization and Sentiment Classification"
   ]
  },
  {
   "cell_type": "code",
   "execution_count": null,
   "metadata": {
    "cellView": "form",
    "colab": {},
    "colab_type": "code",
    "id": "jvcGBpjPwFL0"
   },
   "outputs": [],
   "source": [
    "import numpy as np\n",
    "import fasttext\n",
    "import hazm\n",
    "\n",
    "def load_fasttext_model(model_path):\n",
    "    return fasttext.load_model(model_path)\n",
    "\n",
    "def tokenize_text(text, tokenizer, max_tokens):\n",
    "    return tokenizer.tokenize(text)[:max_tokens]\n",
    "\n",
    "def vectorize_text(text, model, max_tokens):\n",
    "    return [model.get_word_vector(word) for word in text if word in model.words][:max_tokens]\n",
    "\n",
    "def process_reviews(reviews, model, tokenizer, max_tokens, label_map):\n",
    "    x_data = []\n",
    "    y_data = []\n",
    "    unique_words = set()\n",
    "\n",
    "    for text, sentiment in reviews:\n",
    "        tokenized_text = tokenize_text(text, tokenizer, max_tokens)\n",
    "        unique_words.update(tokenized_text)\n",
    "        vectorized_text = vectorize_text(tokenized_text, model, max_tokens)\n",
    "\n",
    "        if not vectorized_text:\n",
    "            continue\n",
    "\n",
    "        padded_vector = np.zeros((max_tokens, model.get_dimension()), dtype=np.float32)\n",
    "        padded_vector[:len(vectorized_text), :] = vectorized_text\n",
    "\n",
    "        x_data.append(padded_vector)\n",
    "        y_data.append(label_map.get(sentiment, label_map['other']))\n",
    "\n",
    "    return np.array(x_data), np.array(y_data), len(unique_words)\n",
    "\n",
    "# Load model and tokenizer\n",
    "W2V_Model = load_fasttext_model(\"Hazm_Embedding_Model_300.bin\")\n",
    "tokenizer = hazm.WordTokenizer()\n",
    "\n",
    "# Assuming 'balanced_reviews' is a list of (text, sentiment) tuples\n",
    "all_reviews = balanced_reviews  # Use the complete set of reviews\n",
    "train_reviews = balanced_reviews[:train_size]\n",
    "test_reviews = balanced_reviews[train_size:]\n",
    "\n",
    "# Define a mapping for sentiment to binary labels\n",
    "sentiment_label_map = {\"negative\": [1.0, 0.0], 'other': [0.0, 1.0]}  # Adjust based on actual labels\n",
    "\n",
    "x_train, y_train, vocabulary_size = process_reviews(train_reviews, W2V_Model, tokenizer, MAX_NO_TOKENS, sentiment_label_map)\n",
    "x_test, y_test, _ = process_reviews(test_reviews, W2V_Model, tokenizer, MAX_NO_TOKENS, sentiment_label_map)"
   ]
  },
  {
   "cell_type": "code",
   "execution_count": 15,
   "metadata": {},
   "outputs": [
    {
     "name": "stdout",
     "output_type": "stream",
     "text": [
      "Data Information:\n",
      "╒═════════╤══════════════════╕\n",
      "│ Item    │ Shape/Size       │\n",
      "╞═════════╪══════════════════╡\n",
      "│ x_train │ (4000, 107, 300) │\n",
      "├─────────┼──────────────────┤\n",
      "│ x_test  │ (1000, 107, 300) │\n",
      "├─────────┼──────────────────┤\n",
      "│ y_train │ (4000, 2)        │\n",
      "├─────────┼──────────────────┤\n",
      "│ y_test  │ (1000, 2)        │\n",
      "╘═════════╧══════════════════╛\n"
     ]
    }
   ],
   "source": [
    "import tabulate\n",
    "\n",
    "# Shapes of the arrays\n",
    "shapes_data = [\n",
    "    [\"x_train\", x_train.shape],\n",
    "    [\"x_test\", x_test.shape],\n",
    "    [\"y_train\", y_train.shape],\n",
    "    [\"y_test\", y_test.shape]\n",
    "]\n",
    "\n",
    "# Display vocabulary size and array shapes in a table\n",
    "table = tabulate.tabulate(shapes_data, headers=[\"Item\", \"Shape/Size\"], tablefmt=\"fancy_grid\")\n",
    "print(\"Data Information:\")\n",
    "print(table)"
   ]
  },
  {
   "attachments": {},
   "cell_type": "markdown",
   "metadata": {},
   "source": [
    "# Saving Data and Cleaning Resources"
   ]
  },
  {
   "cell_type": "code",
   "execution_count": null,
   "metadata": {},
   "outputs": [],
   "source": [
    "np.save(\"x_train_Hazm_Small.npy\", x_train)\n",
    "np.save(\"x_test_Hazm_Small.npy\", x_test)\n",
    "np.save(\"y_train_Hazm_Small.npy\", y_train)\n",
    "np.save(\"y_test_Hazm_Small.npy\", y_test)\n",
    "del W2V_Model"
   ]
  },
  {
   "attachments": {},
   "cell_type": "markdown",
   "metadata": {
    "colab_type": "text",
    "id": "dDunM15J7n8E"
   },
   "source": [
    "# Data Loading and Main Configuration"
   ]
  },
  {
   "cell_type": "code",
   "execution_count": 1,
   "metadata": {},
   "outputs": [
    {
     "name": "stderr",
     "output_type": "stream",
     "text": [
      "2024-01-28 08:06:49.031370: E external/local_xla/xla/stream_executor/cuda/cuda_dnn.cc:9261] Unable to register cuDNN factory: Attempting to register factory for plugin cuDNN when one has already been registered\n",
      "2024-01-28 08:06:49.031397: E external/local_xla/xla/stream_executor/cuda/cuda_fft.cc:607] Unable to register cuFFT factory: Attempting to register factory for plugin cuFFT when one has already been registered\n",
      "2024-01-28 08:06:49.032529: E external/local_xla/xla/stream_executor/cuda/cuda_blas.cc:1515] Unable to register cuBLAS factory: Attempting to register factory for plugin cuBLAS when one has already been registered\n",
      "2024-01-28 08:06:49.038648: I tensorflow/core/platform/cpu_feature_guard.cc:182] This TensorFlow binary is optimized to use available CPU instructions in performance-critical operations.\n",
      "To enable the following instructions: SSE4.1 SSE4.2 AVX AVX2 FMA, in other operations, rebuild TensorFlow with the appropriate compiler flags.\n"
     ]
    },
    {
     "name": "stdout",
     "output_type": "stream",
     "text": [
      "(4000, 107, 300) (1000, 107, 300) (4000, 2) (1000, 2)\n"
     ]
    }
   ],
   "source": [
    "import fasttext\n",
    "import hazm\n",
    "import numpy as np\n",
    "from keras import backend as K\n",
    "import pandas as pd\n",
    "import random\n",
    "from hazm import Normalizer\n",
    "\n",
    "VECTOR_SIZE = 300  # Dimension of the vectors\n",
    "MAX_NO_TOKENS = 107  # Maximum number of tokens\n",
    "\n",
    "BATCH_SIZE = 512\n",
    "NUM_EPOCHS = 100\n",
    "\n",
    "x_train = np.load(\"./Hazm_Dataset/x_train_Hazm.npy\")[:4000, :, :]\n",
    "x_test = np.load(\"./Hazm_Dataset/x_test_Hazm.npy\" )[:1000, :, :]\n",
    "\n",
    "y_train = np.load(\"./Hazm_Dataset/y_train_Hazm.npy\")[:4000, :]\n",
    "y_test = np.load(\"./Hazm_Dataset/y_test_Hazm.npy\")[:1000, :]\n",
    "\n",
    "print(x_train.shape,x_test.shape,y_train.shape,y_test.shape)"
   ]
  },
  {
   "attachments": {},
   "cell_type": "markdown",
   "metadata": {},
   "source": [
    "# Convolutional Neural Network (CNN) Model Definition"
   ]
  },
  {
   "cell_type": "code",
   "execution_count": 2,
   "metadata": {
    "cellView": "form",
    "colab": {},
    "colab_type": "code",
    "id": "J1z_mq913jTq"
   },
   "outputs": [
    {
     "name": "stdout",
     "output_type": "stream",
     "text": [
      "Model: \"model\"\n",
      "__________________________________________________________________________________________________\n",
      " Layer (type)                Output Shape                 Param #   Connected to                  \n",
      "==================================================================================================\n",
      " input_1 (InputLayer)        [(None, 107, 300)]           0         []                            \n",
      "                                                                                                  \n",
      " conv1d (Conv1D)             (None, 106, 64)              38464     ['input_1[0][0]']             \n",
      "                                                                                                  \n",
      " conv1d_1 (Conv1D)           (None, 105, 64)              57664     ['input_1[0][0]']             \n",
      "                                                                                                  \n",
      " conv1d_2 (Conv1D)           (None, 104, 64)              76864     ['input_1[0][0]']             \n",
      "                                                                                                  \n",
      " global_max_pooling1d (Glob  (None, 64)                   0         ['conv1d[0][0]']              \n",
      " alMaxPooling1D)                                                                                  \n",
      "                                                                                                  \n",
      " global_max_pooling1d_1 (Gl  (None, 64)                   0         ['conv1d_1[0][0]']            \n",
      " obalMaxPooling1D)                                                                                \n",
      "                                                                                                  \n",
      " global_max_pooling1d_2 (Gl  (None, 64)                   0         ['conv1d_2[0][0]']            \n",
      " obalMaxPooling1D)                                                                                \n",
      "                                                                                                  \n",
      " concatenate (Concatenate)   (None, 192)                  0         ['global_max_pooling1d[0][0]',\n",
      "                                                                     'global_max_pooling1d_1[0][0]\n",
      "                                                                    ',                            \n",
      "                                                                     'global_max_pooling1d_2[0][0]\n",
      "                                                                    ']                            \n",
      "                                                                                                  \n",
      " dense (Dense)               (None, 3)                    579       ['concatenate[0][0]']         \n",
      "                                                                                                  \n",
      " attention_probs (Dense)     (None, 3)                    12        ['dense[0][0]']               \n",
      "                                                                                                  \n",
      " multiply (Multiply)         (None, 3)                    0         ['dense[0][0]',               \n",
      "                                                                     'attention_probs[0][0]']     \n",
      "                                                                                                  \n",
      " dense_1 (Dense)             (None, 64)                   256       ['multiply[0][0]']            \n",
      "                                                                                                  \n",
      " dropout (Dropout)           (None, 64)                   0         ['dense_1[0][0]']             \n",
      "                                                                                                  \n",
      " dense_2 (Dense)             (None, 2)                    130       ['dropout[0][0]']             \n",
      "                                                                                                  \n",
      "==================================================================================================\n",
      "Total params: 173969 (679.57 KB)\n",
      "Trainable params: 173969 (679.57 KB)\n",
      "Non-trainable params: 0 (0.00 Byte)\n",
      "__________________________________________________________________________________________________\n"
     ]
    },
    {
     "name": "stderr",
     "output_type": "stream",
     "text": [
      "2024-01-28 08:07:02.840637: I external/local_xla/xla/stream_executor/cuda/cuda_executor.cc:901] successful NUMA node read from SysFS had negative value (-1), but there must be at least one NUMA node, so returning NUMA node zero. See more at https://github.com/torvalds/linux/blob/v6.0/Documentation/ABI/testing/sysfs-bus-pci#L344-L355\n",
      "2024-01-28 08:07:02.866617: I external/local_xla/xla/stream_executor/cuda/cuda_executor.cc:901] successful NUMA node read from SysFS had negative value (-1), but there must be at least one NUMA node, so returning NUMA node zero. See more at https://github.com/torvalds/linux/blob/v6.0/Documentation/ABI/testing/sysfs-bus-pci#L344-L355\n",
      "2024-01-28 08:07:02.866812: I external/local_xla/xla/stream_executor/cuda/cuda_executor.cc:901] successful NUMA node read from SysFS had negative value (-1), but there must be at least one NUMA node, so returning NUMA node zero. See more at https://github.com/torvalds/linux/blob/v6.0/Documentation/ABI/testing/sysfs-bus-pci#L344-L355\n",
      "2024-01-28 08:07:02.868615: I external/local_xla/xla/stream_executor/cuda/cuda_executor.cc:901] successful NUMA node read from SysFS had negative value (-1), but there must be at least one NUMA node, so returning NUMA node zero. See more at https://github.com/torvalds/linux/blob/v6.0/Documentation/ABI/testing/sysfs-bus-pci#L344-L355\n",
      "2024-01-28 08:07:02.868777: I external/local_xla/xla/stream_executor/cuda/cuda_executor.cc:901] successful NUMA node read from SysFS had negative value (-1), but there must be at least one NUMA node, so returning NUMA node zero. See more at https://github.com/torvalds/linux/blob/v6.0/Documentation/ABI/testing/sysfs-bus-pci#L344-L355\n",
      "2024-01-28 08:07:02.868911: I external/local_xla/xla/stream_executor/cuda/cuda_executor.cc:901] successful NUMA node read from SysFS had negative value (-1), but there must be at least one NUMA node, so returning NUMA node zero. See more at https://github.com/torvalds/linux/blob/v6.0/Documentation/ABI/testing/sysfs-bus-pci#L344-L355\n",
      "2024-01-28 08:07:02.972381: I external/local_xla/xla/stream_executor/cuda/cuda_executor.cc:901] successful NUMA node read from SysFS had negative value (-1), but there must be at least one NUMA node, so returning NUMA node zero. See more at https://github.com/torvalds/linux/blob/v6.0/Documentation/ABI/testing/sysfs-bus-pci#L344-L355\n",
      "2024-01-28 08:07:02.972871: I external/local_xla/xla/stream_executor/cuda/cuda_executor.cc:901] successful NUMA node read from SysFS had negative value (-1), but there must be at least one NUMA node, so returning NUMA node zero. See more at https://github.com/torvalds/linux/blob/v6.0/Documentation/ABI/testing/sysfs-bus-pci#L344-L355\n",
      "2024-01-28 08:07:02.973213: I external/local_xla/xla/stream_executor/cuda/cuda_executor.cc:901] successful NUMA node read from SysFS had negative value (-1), but there must be at least one NUMA node, so returning NUMA node zero. See more at https://github.com/torvalds/linux/blob/v6.0/Documentation/ABI/testing/sysfs-bus-pci#L344-L355\n",
      "2024-01-28 08:07:02.973421: I tensorflow/core/common_runtime/gpu/gpu_device.cc:1929] Created device /job:localhost/replica:0/task:0/device:GPU:0 with 3489 MB memory:  -> device: 0, name: NVIDIA GeForce GTX 1050 with Max-Q Design, pci bus id: 0000:02:00.0, compute capability: 6.1\n"
     ]
    }
   ],
   "source": [
    "from keras.models import Sequential\n",
    "from keras.layers import Conv1D, GlobalMaxPooling1D, Dense, Dropout, BatchNormalization, Input, Concatenate, Flatten\n",
    "from keras.regularizers import l2\n",
    "from keras.optimizers import Adam\n",
    "from keras.callbacks import EarlyStopping, ReduceLROnPlateau\n",
    "from keras.models import Model\n",
    "from keras.layers import Multiply\n",
    "\n",
    "# Define the input layer for the neural network\n",
    "input_layer = Input(shape=(MAX_NO_TOKENS, VECTOR_SIZE))\n",
    "\n",
    "# Create convolutional layers with different kernel sizes\n",
    "conv1 = Conv1D(filters=64, kernel_size=2, activation='relu', kernel_regularizer=l2(0.005))(input_layer)\n",
    "conv2 = Conv1D(filters=64, kernel_size=3, activation='relu', kernel_regularizer=l2(0.005))(input_layer)\n",
    "conv3 = Conv1D(filters=64, kernel_size=4, activation='relu', kernel_regularizer=l2(0.005))(input_layer)\n",
    "\n",
    "# Perform global max pooling on each convolutional layer\n",
    "pool1 = GlobalMaxPooling1D()(conv1)\n",
    "pool2 = GlobalMaxPooling1D()(conv2)\n",
    "pool3 = GlobalMaxPooling1D()(conv3)\n",
    "\n",
    "# Concatenate the pooled features from different kernel sizes\n",
    "concat = Concatenate()([pool1, pool2, pool3])\n",
    "\n",
    "# Resize concatenated features to match attention probabilities\n",
    "resize_concat = Dense(3, activation='relu')(concat)\n",
    "\n",
    "# Implement an attention mechanism\n",
    "attention_probs = Dense(3, activation='softmax', name='attention_probs')(resize_concat)\n",
    "attention_mul = Multiply()([resize_concat, attention_probs])\n",
    "\n",
    "# Add a dense layer with regularization\n",
    "dense = Dense(64, activation='relu', kernel_regularizer=l2(0.005))(attention_mul)\n",
    "dropout = Dropout(0.5)(dense)\n",
    "\n",
    "# Define the output layer\n",
    "output = Dense(2, activation='softmax')(dropout)\n",
    "\n",
    "# Build the neural network model\n",
    "model = Model(inputs=input_layer, outputs=output)\n",
    "\n",
    "# Compile the model with specified optimizer and loss function\n",
    "optimizer = Adam(learning_rate=0.001)\n",
    "model.compile(loss='categorical_crossentropy', optimizer=optimizer, metrics=['accuracy'])\n",
    "\n",
    "# Define callbacks for training\n",
    "# early_stopping = EarlyStopping(monitor='val_loss', patience=5, restore_best_weights=True)\n",
    "reduce_lr = ReduceLROnPlateau(monitor='val_loss', factor=0.2, patience=3, min_lr=0.00001)\n",
    "\n",
    "# Display a summary of the model architecture\n",
    "model.summary()"
   ]
  },
  {
   "cell_type": "code",
   "execution_count": 3,
   "metadata": {
    "colab": {},
    "colab_type": "code",
    "id": "P9qfU9CM3mL-"
   },
   "outputs": [
    {
     "name": "stderr",
     "output_type": "stream",
     "text": [
      "2024-01-28 08:07:04.122683: W external/local_tsl/tsl/framework/cpu_allocator_impl.cc:83] Allocation of 513600000 exceeds 10% of free system memory.\n",
      "2024-01-28 08:07:04.610421: W external/local_tsl/tsl/framework/cpu_allocator_impl.cc:83] Allocation of 513600000 exceeds 10% of free system memory.\n"
     ]
    },
    {
     "name": "stdout",
     "output_type": "stream",
     "text": [
      "Epoch 1/100\n"
     ]
    },
    {
     "name": "stderr",
     "output_type": "stream",
     "text": [
      "2024-01-28 08:07:06.281501: W external/local_tsl/tsl/framework/cpu_allocator_impl.cc:83] Allocation of 65740800 exceeds 10% of free system memory.\n",
      "2024-01-28 08:07:06.281538: W external/local_tsl/tsl/framework/cpu_allocator_impl.cc:83] Allocation of 65740800 exceeds 10% of free system memory.\n",
      "2024-01-28 08:07:06.281564: W external/local_tsl/tsl/framework/cpu_allocator_impl.cc:83] Allocation of 65740800 exceeds 10% of free system memory.\n",
      "2024-01-28 08:07:06.465438: I external/local_xla/xla/stream_executor/cuda/cuda_dnn.cc:454] Loaded cuDNN version 8800\n",
      "2024-01-28 08:07:08.506265: I external/local_xla/xla/service/service.cc:168] XLA service 0x7f288082d520 initialized for platform CUDA (this does not guarantee that XLA will be used). Devices:\n",
      "2024-01-28 08:07:08.506290: I external/local_xla/xla/service/service.cc:176]   StreamExecutor device (0): NVIDIA GeForce GTX 1050 with Max-Q Design, Compute Capability 6.1\n",
      "2024-01-28 08:07:08.515900: I tensorflow/compiler/mlir/tensorflow/utils/dump_mlir_util.cc:269] disabling MLIR crash reproducer, set env var `MLIR_CRASH_REPRODUCER_DIRECTORY` to enable.\n",
      "WARNING: All log messages before absl::InitializeLog() is called are written to STDERR\n",
      "I0000 00:00:1706416628.614448    8503 device_compiler.h:186] Compiled cluster using XLA!  This line is logged at most once for the lifetime of the process.\n"
     ]
    },
    {
     "name": "stdout",
     "output_type": "stream",
     "text": [
      "8/8 [==============================] - 11s 622ms/step - loss: 2.1088 - accuracy: 0.4880 - val_loss: 1.8595 - val_accuracy: 0.5210 - lr: 0.0010\n",
      "Epoch 2/100\n",
      "8/8 [==============================] - 1s 97ms/step - loss: 1.7036 - accuracy: 0.5297 - val_loss: 1.5086 - val_accuracy: 0.6010 - lr: 0.0010\n",
      "Epoch 3/100\n",
      "8/8 [==============================] - 1s 95ms/step - loss: 1.3903 - accuracy: 0.5838 - val_loss: 1.2406 - val_accuracy: 0.6110 - lr: 0.0010\n",
      "Epoch 4/100\n",
      "8/8 [==============================] - 1s 100ms/step - loss: 1.1530 - accuracy: 0.6382 - val_loss: 1.0396 - val_accuracy: 0.7270 - lr: 0.0010\n",
      "Epoch 5/100\n",
      "8/8 [==============================] - 1s 102ms/step - loss: 0.9691 - accuracy: 0.7290 - val_loss: 0.8884 - val_accuracy: 0.7380 - lr: 0.0010\n",
      "Epoch 6/100\n",
      "8/8 [==============================] - 1s 98ms/step - loss: 0.8318 - accuracy: 0.7782 - val_loss: 0.7795 - val_accuracy: 0.7570 - lr: 0.0010\n",
      "Epoch 7/100\n",
      "8/8 [==============================] - 1s 97ms/step - loss: 0.7366 - accuracy: 0.8050 - val_loss: 0.7098 - val_accuracy: 0.8260 - lr: 0.0010\n",
      "Epoch 8/100\n",
      "8/8 [==============================] - 1s 98ms/step - loss: 0.6571 - accuracy: 0.8422 - val_loss: 0.6514 - val_accuracy: 0.8180 - lr: 0.0010\n",
      "Epoch 9/100\n",
      "8/8 [==============================] - 1s 98ms/step - loss: 0.5971 - accuracy: 0.8622 - val_loss: 0.6144 - val_accuracy: 0.8230 - lr: 0.0010\n",
      "Epoch 10/100\n",
      "8/8 [==============================] - 1s 98ms/step - loss: 0.5482 - accuracy: 0.8827 - val_loss: 0.5886 - val_accuracy: 0.8420 - lr: 0.0010\n",
      "Epoch 11/100\n",
      "8/8 [==============================] - 1s 95ms/step - loss: 0.5029 - accuracy: 0.8955 - val_loss: 0.5697 - val_accuracy: 0.8370 - lr: 0.0010\n",
      "Epoch 12/100\n",
      "8/8 [==============================] - 1s 96ms/step - loss: 0.4668 - accuracy: 0.9145 - val_loss: 0.5625 - val_accuracy: 0.8310 - lr: 0.0010\n",
      "Epoch 13/100\n",
      "8/8 [==============================] - 1s 95ms/step - loss: 0.4386 - accuracy: 0.9183 - val_loss: 0.5447 - val_accuracy: 0.8370 - lr: 0.0010\n",
      "Epoch 14/100\n",
      "8/8 [==============================] - 1s 96ms/step - loss: 0.4120 - accuracy: 0.9275 - val_loss: 0.6043 - val_accuracy: 0.8070 - lr: 0.0010\n",
      "Epoch 15/100\n",
      "8/8 [==============================] - 1s 97ms/step - loss: 0.3826 - accuracy: 0.9337 - val_loss: 0.5936 - val_accuracy: 0.8110 - lr: 0.0010\n",
      "Epoch 16/100\n",
      "8/8 [==============================] - 1s 96ms/step - loss: 0.3482 - accuracy: 0.9492 - val_loss: 0.5601 - val_accuracy: 0.8370 - lr: 0.0010\n",
      "Epoch 17/100\n",
      "8/8 [==============================] - 1s 96ms/step - loss: 0.3136 - accuracy: 0.9695 - val_loss: 0.5540 - val_accuracy: 0.8360 - lr: 2.0000e-04\n",
      "Epoch 18/100\n",
      "8/8 [==============================] - 1s 96ms/step - loss: 0.3065 - accuracy: 0.9732 - val_loss: 0.5549 - val_accuracy: 0.8380 - lr: 2.0000e-04\n",
      "Epoch 19/100\n",
      "8/8 [==============================] - 1s 98ms/step - loss: 0.2974 - accuracy: 0.9787 - val_loss: 0.5475 - val_accuracy: 0.8390 - lr: 2.0000e-04\n",
      "Epoch 20/100\n",
      "8/8 [==============================] - 1s 98ms/step - loss: 0.2950 - accuracy: 0.9808 - val_loss: 0.5601 - val_accuracy: 0.8360 - lr: 4.0000e-05\n",
      "Epoch 21/100\n",
      "8/8 [==============================] - 1s 97ms/step - loss: 0.2909 - accuracy: 0.9805 - val_loss: 0.5503 - val_accuracy: 0.8410 - lr: 4.0000e-05\n",
      "Epoch 22/100\n",
      "8/8 [==============================] - 1s 96ms/step - loss: 0.2902 - accuracy: 0.9820 - val_loss: 0.5572 - val_accuracy: 0.8380 - lr: 4.0000e-05\n",
      "Epoch 23/100\n",
      "8/8 [==============================] - 1s 96ms/step - loss: 0.2905 - accuracy: 0.9800 - val_loss: 0.5568 - val_accuracy: 0.8380 - lr: 1.0000e-05\n",
      "Epoch 24/100\n",
      "8/8 [==============================] - 1s 98ms/step - loss: 0.2892 - accuracy: 0.9835 - val_loss: 0.5519 - val_accuracy: 0.8420 - lr: 1.0000e-05\n",
      "Epoch 25/100\n",
      "8/8 [==============================] - 1s 97ms/step - loss: 0.2883 - accuracy: 0.9818 - val_loss: 0.5530 - val_accuracy: 0.8420 - lr: 1.0000e-05\n",
      "Epoch 26/100\n",
      "8/8 [==============================] - 1s 97ms/step - loss: 0.2888 - accuracy: 0.9818 - val_loss: 0.5544 - val_accuracy: 0.8430 - lr: 1.0000e-05\n",
      "Epoch 27/100\n",
      "8/8 [==============================] - 1s 97ms/step - loss: 0.2866 - accuracy: 0.9810 - val_loss: 0.5541 - val_accuracy: 0.8420 - lr: 1.0000e-05\n",
      "Epoch 28/100\n",
      "8/8 [==============================] - 1s 97ms/step - loss: 0.2873 - accuracy: 0.9820 - val_loss: 0.5544 - val_accuracy: 0.8410 - lr: 1.0000e-05\n",
      "Epoch 29/100\n",
      "8/8 [==============================] - 1s 97ms/step - loss: 0.2871 - accuracy: 0.9825 - val_loss: 0.5540 - val_accuracy: 0.8420 - lr: 1.0000e-05\n",
      "Epoch 30/100\n",
      "8/8 [==============================] - 1s 100ms/step - loss: 0.2858 - accuracy: 0.9835 - val_loss: 0.5541 - val_accuracy: 0.8410 - lr: 1.0000e-05\n",
      "Epoch 31/100\n",
      "8/8 [==============================] - 1s 98ms/step - loss: 0.2865 - accuracy: 0.9827 - val_loss: 0.5544 - val_accuracy: 0.8400 - lr: 1.0000e-05\n",
      "Epoch 32/100\n",
      "8/8 [==============================] - 1s 99ms/step - loss: 0.2868 - accuracy: 0.9833 - val_loss: 0.5536 - val_accuracy: 0.8410 - lr: 1.0000e-05\n",
      "Epoch 33/100\n",
      "8/8 [==============================] - 1s 100ms/step - loss: 0.2859 - accuracy: 0.9805 - val_loss: 0.5547 - val_accuracy: 0.8410 - lr: 1.0000e-05\n",
      "Epoch 34/100\n",
      "8/8 [==============================] - 1s 97ms/step - loss: 0.2848 - accuracy: 0.9835 - val_loss: 0.5544 - val_accuracy: 0.8410 - lr: 1.0000e-05\n",
      "Epoch 35/100\n",
      "8/8 [==============================] - 1s 97ms/step - loss: 0.2846 - accuracy: 0.9835 - val_loss: 0.5536 - val_accuracy: 0.8410 - lr: 1.0000e-05\n",
      "Epoch 36/100\n",
      "8/8 [==============================] - 1s 97ms/step - loss: 0.2854 - accuracy: 0.9825 - val_loss: 0.5554 - val_accuracy: 0.8420 - lr: 1.0000e-05\n",
      "Epoch 37/100\n",
      "8/8 [==============================] - 1s 97ms/step - loss: 0.2833 - accuracy: 0.9825 - val_loss: 0.5543 - val_accuracy: 0.8410 - lr: 1.0000e-05\n",
      "Epoch 38/100\n",
      "8/8 [==============================] - 1s 97ms/step - loss: 0.2828 - accuracy: 0.9815 - val_loss: 0.5543 - val_accuracy: 0.8410 - lr: 1.0000e-05\n",
      "Epoch 39/100\n",
      "8/8 [==============================] - 1s 97ms/step - loss: 0.2849 - accuracy: 0.9810 - val_loss: 0.5551 - val_accuracy: 0.8410 - lr: 1.0000e-05\n",
      "Epoch 40/100\n",
      "8/8 [==============================] - 1s 97ms/step - loss: 0.2850 - accuracy: 0.9825 - val_loss: 0.5546 - val_accuracy: 0.8420 - lr: 1.0000e-05\n",
      "Epoch 41/100\n",
      "8/8 [==============================] - 1s 97ms/step - loss: 0.2829 - accuracy: 0.9843 - val_loss: 0.5549 - val_accuracy: 0.8420 - lr: 1.0000e-05\n",
      "Epoch 42/100\n",
      "8/8 [==============================] - 1s 97ms/step - loss: 0.2841 - accuracy: 0.9827 - val_loss: 0.5544 - val_accuracy: 0.8420 - lr: 1.0000e-05\n",
      "Epoch 43/100\n",
      "8/8 [==============================] - 1s 97ms/step - loss: 0.2849 - accuracy: 0.9830 - val_loss: 0.5546 - val_accuracy: 0.8420 - lr: 1.0000e-05\n",
      "Epoch 44/100\n",
      "8/8 [==============================] - 1s 98ms/step - loss: 0.2830 - accuracy: 0.9833 - val_loss: 0.5542 - val_accuracy: 0.8410 - lr: 1.0000e-05\n",
      "Epoch 45/100\n",
      "8/8 [==============================] - 1s 98ms/step - loss: 0.2823 - accuracy: 0.9822 - val_loss: 0.5545 - val_accuracy: 0.8420 - lr: 1.0000e-05\n",
      "Epoch 46/100\n",
      "8/8 [==============================] - 1s 98ms/step - loss: 0.2819 - accuracy: 0.9827 - val_loss: 0.5544 - val_accuracy: 0.8420 - lr: 1.0000e-05\n",
      "Epoch 47/100\n",
      "8/8 [==============================] - 1s 98ms/step - loss: 0.2821 - accuracy: 0.9820 - val_loss: 0.5542 - val_accuracy: 0.8420 - lr: 1.0000e-05\n",
      "Epoch 48/100\n",
      "8/8 [==============================] - 1s 99ms/step - loss: 0.2805 - accuracy: 0.9830 - val_loss: 0.5548 - val_accuracy: 0.8420 - lr: 1.0000e-05\n",
      "Epoch 49/100\n",
      "8/8 [==============================] - 1s 99ms/step - loss: 0.2798 - accuracy: 0.9837 - val_loss: 0.5545 - val_accuracy: 0.8420 - lr: 1.0000e-05\n",
      "Epoch 50/100\n",
      "8/8 [==============================] - 1s 97ms/step - loss: 0.2807 - accuracy: 0.9830 - val_loss: 0.5552 - val_accuracy: 0.8420 - lr: 1.0000e-05\n",
      "Epoch 51/100\n",
      "8/8 [==============================] - 1s 98ms/step - loss: 0.2810 - accuracy: 0.9835 - val_loss: 0.5550 - val_accuracy: 0.8420 - lr: 1.0000e-05\n",
      "Epoch 52/100\n",
      "8/8 [==============================] - 1s 98ms/step - loss: 0.2790 - accuracy: 0.9837 - val_loss: 0.5547 - val_accuracy: 0.8420 - lr: 1.0000e-05\n",
      "Epoch 53/100\n",
      "8/8 [==============================] - 1s 97ms/step - loss: 0.2773 - accuracy: 0.9837 - val_loss: 0.5550 - val_accuracy: 0.8420 - lr: 1.0000e-05\n",
      "Epoch 54/100\n",
      "8/8 [==============================] - 1s 97ms/step - loss: 0.2788 - accuracy: 0.9868 - val_loss: 0.5552 - val_accuracy: 0.8430 - lr: 1.0000e-05\n",
      "Epoch 55/100\n",
      "8/8 [==============================] - 1s 99ms/step - loss: 0.2797 - accuracy: 0.9837 - val_loss: 0.5545 - val_accuracy: 0.8420 - lr: 1.0000e-05\n",
      "Epoch 56/100\n",
      "8/8 [==============================] - 1s 97ms/step - loss: 0.2799 - accuracy: 0.9833 - val_loss: 0.5548 - val_accuracy: 0.8420 - lr: 1.0000e-05\n",
      "Epoch 57/100\n",
      "8/8 [==============================] - 1s 97ms/step - loss: 0.2784 - accuracy: 0.9850 - val_loss: 0.5553 - val_accuracy: 0.8430 - lr: 1.0000e-05\n",
      "Epoch 58/100\n",
      "8/8 [==============================] - 1s 98ms/step - loss: 0.2782 - accuracy: 0.9833 - val_loss: 0.5535 - val_accuracy: 0.8410 - lr: 1.0000e-05\n",
      "Epoch 59/100\n",
      "8/8 [==============================] - 1s 97ms/step - loss: 0.2787 - accuracy: 0.9852 - val_loss: 0.5566 - val_accuracy: 0.8400 - lr: 1.0000e-05\n",
      "Epoch 60/100\n",
      "8/8 [==============================] - 1s 97ms/step - loss: 0.2783 - accuracy: 0.9843 - val_loss: 0.5546 - val_accuracy: 0.8410 - lr: 1.0000e-05\n",
      "Epoch 61/100\n",
      "8/8 [==============================] - 1s 97ms/step - loss: 0.2793 - accuracy: 0.9852 - val_loss: 0.5553 - val_accuracy: 0.8430 - lr: 1.0000e-05\n",
      "Epoch 62/100\n",
      "8/8 [==============================] - 1s 98ms/step - loss: 0.2744 - accuracy: 0.9852 - val_loss: 0.5563 - val_accuracy: 0.8410 - lr: 1.0000e-05\n",
      "Epoch 63/100\n",
      "8/8 [==============================] - 1s 99ms/step - loss: 0.2768 - accuracy: 0.9852 - val_loss: 0.5547 - val_accuracy: 0.8410 - lr: 1.0000e-05\n",
      "Epoch 64/100\n",
      "8/8 [==============================] - 1s 98ms/step - loss: 0.2774 - accuracy: 0.9862 - val_loss: 0.5554 - val_accuracy: 0.8420 - lr: 1.0000e-05\n",
      "Epoch 65/100\n",
      "8/8 [==============================] - 1s 97ms/step - loss: 0.2765 - accuracy: 0.9850 - val_loss: 0.5560 - val_accuracy: 0.8410 - lr: 1.0000e-05\n",
      "Epoch 66/100\n",
      "8/8 [==============================] - 1s 97ms/step - loss: 0.2744 - accuracy: 0.9858 - val_loss: 0.5558 - val_accuracy: 0.8420 - lr: 1.0000e-05\n",
      "Epoch 67/100\n",
      "8/8 [==============================] - 1s 97ms/step - loss: 0.2730 - accuracy: 0.9860 - val_loss: 0.5543 - val_accuracy: 0.8410 - lr: 1.0000e-05\n",
      "Epoch 68/100\n",
      "8/8 [==============================] - 1s 100ms/step - loss: 0.2757 - accuracy: 0.9850 - val_loss: 0.5556 - val_accuracy: 0.8410 - lr: 1.0000e-05\n",
      "Epoch 69/100\n",
      "8/8 [==============================] - 1s 98ms/step - loss: 0.2758 - accuracy: 0.9847 - val_loss: 0.5561 - val_accuracy: 0.8400 - lr: 1.0000e-05\n",
      "Epoch 70/100\n",
      "8/8 [==============================] - 1s 98ms/step - loss: 0.2741 - accuracy: 0.9852 - val_loss: 0.5538 - val_accuracy: 0.8410 - lr: 1.0000e-05\n",
      "Epoch 71/100\n",
      "8/8 [==============================] - 1s 96ms/step - loss: 0.2739 - accuracy: 0.9845 - val_loss: 0.5574 - val_accuracy: 0.8400 - lr: 1.0000e-05\n",
      "Epoch 72/100\n",
      "8/8 [==============================] - 1s 97ms/step - loss: 0.2725 - accuracy: 0.9862 - val_loss: 0.5546 - val_accuracy: 0.8420 - lr: 1.0000e-05\n",
      "Epoch 73/100\n",
      "8/8 [==============================] - 1s 98ms/step - loss: 0.2747 - accuracy: 0.9850 - val_loss: 0.5558 - val_accuracy: 0.8410 - lr: 1.0000e-05\n",
      "Epoch 74/100\n",
      "8/8 [==============================] - 1s 97ms/step - loss: 0.2732 - accuracy: 0.9858 - val_loss: 0.5557 - val_accuracy: 0.8410 - lr: 1.0000e-05\n",
      "Epoch 75/100\n",
      "8/8 [==============================] - 1s 98ms/step - loss: 0.2734 - accuracy: 0.9858 - val_loss: 0.5554 - val_accuracy: 0.8400 - lr: 1.0000e-05\n",
      "Epoch 76/100\n",
      "8/8 [==============================] - 1s 97ms/step - loss: 0.2720 - accuracy: 0.9868 - val_loss: 0.5567 - val_accuracy: 0.8400 - lr: 1.0000e-05\n",
      "Epoch 77/100\n",
      "8/8 [==============================] - 1s 98ms/step - loss: 0.2728 - accuracy: 0.9852 - val_loss: 0.5541 - val_accuracy: 0.8410 - lr: 1.0000e-05\n",
      "Epoch 78/100\n",
      "8/8 [==============================] - 1s 98ms/step - loss: 0.2726 - accuracy: 0.9847 - val_loss: 0.5559 - val_accuracy: 0.8400 - lr: 1.0000e-05\n",
      "Epoch 79/100\n",
      "8/8 [==============================] - 1s 97ms/step - loss: 0.2728 - accuracy: 0.9865 - val_loss: 0.5559 - val_accuracy: 0.8410 - lr: 1.0000e-05\n",
      "Epoch 80/100\n",
      "8/8 [==============================] - 1s 97ms/step - loss: 0.2709 - accuracy: 0.9865 - val_loss: 0.5566 - val_accuracy: 0.8410 - lr: 1.0000e-05\n",
      "Epoch 81/100\n",
      "8/8 [==============================] - 1s 96ms/step - loss: 0.2718 - accuracy: 0.9865 - val_loss: 0.5568 - val_accuracy: 0.8410 - lr: 1.0000e-05\n",
      "Epoch 82/100\n",
      "8/8 [==============================] - 1s 97ms/step - loss: 0.2699 - accuracy: 0.9865 - val_loss: 0.5558 - val_accuracy: 0.8400 - lr: 1.0000e-05\n",
      "Epoch 83/100\n",
      "8/8 [==============================] - 1s 96ms/step - loss: 0.2699 - accuracy: 0.9862 - val_loss: 0.5556 - val_accuracy: 0.8400 - lr: 1.0000e-05\n",
      "Epoch 84/100\n",
      "8/8 [==============================] - 1s 98ms/step - loss: 0.2699 - accuracy: 0.9868 - val_loss: 0.5570 - val_accuracy: 0.8410 - lr: 1.0000e-05\n",
      "Epoch 85/100\n",
      "8/8 [==============================] - 1s 98ms/step - loss: 0.2713 - accuracy: 0.9865 - val_loss: 0.5575 - val_accuracy: 0.8400 - lr: 1.0000e-05\n",
      "Epoch 86/100\n",
      "8/8 [==============================] - 1s 97ms/step - loss: 0.2700 - accuracy: 0.9868 - val_loss: 0.5562 - val_accuracy: 0.8410 - lr: 1.0000e-05\n",
      "Epoch 87/100\n",
      "8/8 [==============================] - 1s 97ms/step - loss: 0.2693 - accuracy: 0.9862 - val_loss: 0.5560 - val_accuracy: 0.8410 - lr: 1.0000e-05\n",
      "Epoch 88/100\n",
      "8/8 [==============================] - 1s 98ms/step - loss: 0.2689 - accuracy: 0.9858 - val_loss: 0.5567 - val_accuracy: 0.8410 - lr: 1.0000e-05\n",
      "Epoch 89/100\n",
      "8/8 [==============================] - 1s 98ms/step - loss: 0.2696 - accuracy: 0.9855 - val_loss: 0.5570 - val_accuracy: 0.8410 - lr: 1.0000e-05\n",
      "Epoch 90/100\n",
      "8/8 [==============================] - 1s 97ms/step - loss: 0.2688 - accuracy: 0.9868 - val_loss: 0.5561 - val_accuracy: 0.8410 - lr: 1.0000e-05\n",
      "Epoch 91/100\n",
      "8/8 [==============================] - 1s 98ms/step - loss: 0.2689 - accuracy: 0.9858 - val_loss: 0.5556 - val_accuracy: 0.8410 - lr: 1.0000e-05\n",
      "Epoch 92/100\n",
      "8/8 [==============================] - 1s 99ms/step - loss: 0.2672 - accuracy: 0.9870 - val_loss: 0.5563 - val_accuracy: 0.8410 - lr: 1.0000e-05\n",
      "Epoch 93/100\n",
      "8/8 [==============================] - 1s 101ms/step - loss: 0.2679 - accuracy: 0.9870 - val_loss: 0.5576 - val_accuracy: 0.8400 - lr: 1.0000e-05\n",
      "Epoch 94/100\n",
      "8/8 [==============================] - 1s 97ms/step - loss: 0.2695 - accuracy: 0.9858 - val_loss: 0.5544 - val_accuracy: 0.8420 - lr: 1.0000e-05\n",
      "Epoch 95/100\n",
      "8/8 [==============================] - 1s 97ms/step - loss: 0.2681 - accuracy: 0.9883 - val_loss: 0.5582 - val_accuracy: 0.8400 - lr: 1.0000e-05\n",
      "Epoch 96/100\n",
      "8/8 [==============================] - 1s 97ms/step - loss: 0.2670 - accuracy: 0.9887 - val_loss: 0.5559 - val_accuracy: 0.8410 - lr: 1.0000e-05\n",
      "Epoch 97/100\n",
      "8/8 [==============================] - 1s 97ms/step - loss: 0.2651 - accuracy: 0.9875 - val_loss: 0.5559 - val_accuracy: 0.8410 - lr: 1.0000e-05\n",
      "Epoch 98/100\n",
      "8/8 [==============================] - 1s 99ms/step - loss: 0.2654 - accuracy: 0.9883 - val_loss: 0.5570 - val_accuracy: 0.8410 - lr: 1.0000e-05\n",
      "Epoch 99/100\n",
      "8/8 [==============================] - 1s 100ms/step - loss: 0.2672 - accuracy: 0.9870 - val_loss: 0.5554 - val_accuracy: 0.8410 - lr: 1.0000e-05\n",
      "Epoch 100/100\n",
      "8/8 [==============================] - 1s 97ms/step - loss: 0.2668 - accuracy: 0.9875 - val_loss: 0.5567 - val_accuracy: 0.8410 - lr: 1.0000e-05\n"
     ]
    }
   ],
   "source": [
    "from tensorflow.keras.callbacks import CSVLogger\n",
    "\n",
    "# Filepath to save the CSV log\n",
    "csv_logger_filepath = 'CNN_Small_Hazm_Result.csv'\n",
    "\n",
    "# Create CSVLogger callback\n",
    "csv_logger = CSVLogger(csv_logger_filepath, append=True)\n",
    "\n",
    "# Fit the model\n",
    "history = model.fit(\n",
    "    x_train, \n",
    "    y_train, \n",
    "    batch_size=BATCH_SIZE, \n",
    "    epochs=NUM_EPOCHS, \n",
    "    shuffle=True, \n",
    "    validation_data=(x_test, y_test),\n",
    "    callbacks=[reduce_lr, csv_logger]\n",
    ")"
   ]
  },
  {
   "cell_type": "code",
   "execution_count": 4,
   "metadata": {},
   "outputs": [
    {
     "data": {
      "image/png": "[encoded data removed]",
      "text/plain": [
       "<Figure size 640x480 with 2 Axes>"
      ]
     },
     "metadata": {},
     "output_type": "display_data"
    }
   ],
   "source": [
    "import matplotlib.pyplot as plt\n",
    "\n",
    "# Assuming 'history' is the variable that contains your model training history.\n",
    "# Replace 'history' with the actual name of the variable if it's different.\n",
    "\n",
    "# Accuracy plot\n",
    "plt.subplot(1, 2, 1)\n",
    "plt.plot(history.history['accuracy'], label='Training Accuracy')\n",
    "plt.plot(history.history['val_accuracy'], label='Validation Accuracy')\n",
    "plt.title('Model Accuracy')\n",
    "plt.ylabel('Accuracy')\n",
    "plt.xlabel('Epoch')\n",
    "plt.legend(loc='lower right')\n",
    "\n",
    "# Loss plot\n",
    "plt.subplot(1, 2, 2)\n",
    "plt.plot(history.history['loss'], label='Training Loss')\n",
    "plt.plot(history.history['val_loss'], label='Validation Loss')\n",
    "plt.title('Model Loss')\n",
    "plt.ylabel('Loss')\n",
    "plt.xlabel('Epoch')\n",
    "plt.legend(loc='upper right')\n",
    "\n",
    "# Adjust layout and show the plot\n",
    "plt.tight_layout()\n",
    "plt.show()"
   ]
  },
  {
   "cell_type": "code",
   "execution_count": 5,
   "metadata": {
    "colab": {},
    "colab_type": "code",
    "id": "UpocYJkB7KMs"
   },
   "outputs": [
    {
     "name": "stderr",
     "output_type": "stream",
     "text": [
      "2024-01-28 08:08:32.778362: W external/local_tsl/tsl/framework/bfc_allocator.cc:296] Allocator (GPU_0_bfc) ran out of memory trying to allocate 3.59GiB with freed_by_count=0. The caller indicates that this is not a failure, but this may mean that there could be performance gains if more memory were available.\n",
      "2024-01-28 08:08:32.827968: W external/local_tsl/tsl/framework/bfc_allocator.cc:296] Allocator (GPU_0_bfc) ran out of memory trying to allocate 3.59GiB with freed_by_count=0. The caller indicates that this is not a failure, but this may mean that there could be performance gains if more memory were available.\n"
     ]
    },
    {
     "name": "stdout",
     "output_type": "stream",
     "text": [
      "31/32 [============================>.] - ETA: 0s - loss: 0.5583 - accuracy: 0.8407"
     ]
    },
    {
     "name": "stderr",
     "output_type": "stream",
     "text": [
      "2024-01-28 08:08:33.225498: W external/local_tsl/tsl/framework/bfc_allocator.cc:296] Allocator (GPU_0_bfc) ran out of memory trying to allocate 2.69GiB with freed_by_count=0. The caller indicates that this is not a failure, but this may mean that there could be performance gains if more memory were available.\n",
      "2024-01-28 08:08:33.265707: W external/local_tsl/tsl/framework/bfc_allocator.cc:296] Allocator (GPU_0_bfc) ran out of memory trying to allocate 2.69GiB with freed_by_count=0. The caller indicates that this is not a failure, but this may mean that there could be performance gains if more memory were available.\n"
     ]
    },
    {
     "name": "stdout",
     "output_type": "stream",
     "text": [
      "32/32 [==============================] - 1s 13ms/step - loss: 0.5567 - accuracy: 0.8410\n"
     ]
    },
    {
     "data": {
      "text/plain": [
       "[0.5567008852958679, 0.8410000205039978]"
      ]
     },
     "execution_count": 5,
     "metadata": {},
     "output_type": "execute_result"
    }
   ],
   "source": [
    "model.evaluate(x=x_test, y=y_test, batch_size=32, verbose=1)"
   ]
  },
  {
   "cell_type": "code",
   "execution_count": 6,
   "metadata": {
    "colab": {},
    "colab_type": "code",
    "id": "U5xPkhZX7Qmq"
   },
   "outputs": [
    {
     "name": "stdout",
     "output_type": "stream",
     "text": [
      "INFO:tensorflow:Assets written to: CNN_Small_Hazm_80P.model/assets\n"
     ]
    },
    {
     "name": "stderr",
     "output_type": "stream",
     "text": [
      "INFO:tensorflow:Assets written to: CNN_Small_Hazm_80P.model/assets\n"
     ]
    }
   ],
   "source": [
    "model.save('CNN_Small_Hazm_80P.model')"
   ]
  },
  {
   "attachments": {},
   "cell_type": "markdown",
   "metadata": {
    "colab_type": "text",
    "id": "lJxZj2vr7uMO"
   },
   "source": [
    "# Model Loading and Configuration"
   ]
  },
  {
   "cell_type": "code",
   "execution_count": 4,
   "metadata": {},
   "outputs": [
    {
     "name": "stderr",
     "output_type": "stream",
     "text": [
      "Warning : `load_model` does not return WordVectorModel or SupervisedModel any more, but a `FastText` object which is very similar.\n"
     ]
    }
   ],
   "source": [
    "import fasttext\n",
    "import hazm\n",
    "import numpy as np\n",
    "from keras import backend as K\n",
    "import pandas as pd\n",
    "import random\n",
    "from hazm import Normalizer\n",
    "from tensorflow.keras.models import load_model\n",
    "\n",
    "VECTOR_SIZE = 300  # Dimension of the vectors\n",
    "MAX_NO_TOKENS = 107  # Maximum number of tokens\n",
    "\n",
    "model = load_model(\"CNN_Small_Hazm_80P.model\")\n",
    "W2V_Model = fasttext.load_model(\"Hazm_Embedding_Model_300.bin\")"
   ]
  },
  {
   "cell_type": "code",
   "execution_count": 8,
   "metadata": {
    "cellView": "form",
    "colab": {},
    "colab_type": "code",
    "id": "xXt5rQ0qmyax"
   },
   "outputs": [
    {
     "data": {
      "application/vnd.jupyter.widget-view+json": {
       "model_id": "c1568293cfc04da9823cbabed67e838d",
       "version_major": 2,
       "version_minor": 0
      },
      "text/plain": [
       "Text(value='', continuous_update=False, description='Input:', placeholder='Type something')"
      ]
     },
     "metadata": {},
     "output_type": "display_data"
    }
   ],
   "source": [
    "import numpy as np\n",
    "import hazm\n",
    "from keras import backend as K\n",
    "from IPython.display import display, HTML\n",
    "import ipywidgets as widgets\n",
    "from IPython.display import clear_output\n",
    "\n",
    "# Define the function for normalization and tokenization\n",
    "def normalize_and_tokenize(text):\n",
    "    normalizer = hazm.Normalizer()\n",
    "    return hazm.word_tokenize(normalizer.normalize(text))\n",
    "\n",
    "# Define the function for vectorizing text\n",
    "def vectorize_text(words, model, max_tokens, vector_size):\n",
    "    vectors = [model.get_word_vector(word) for word in words if word in model.words][:max_tokens]\n",
    "    x_vectors = np.zeros((1, max_tokens, vector_size), dtype=K.floatx())\n",
    "    x_vectors[0, :len(vectors), :] = vectors\n",
    "    return x_vectors\n",
    "\n",
    "# Define the function to display sentiment analysis results\n",
    "def display_sentiment(result, images_src_path='./Assets/Images/'):\n",
    "    pos_percent = f\"{int(result[0][1] * 100)} % \"\n",
    "    neg_percent = f\"{int(result[0][0] * 100)} % \"\n",
    "    html_content = f\"<div style='text-align: center'><div style='display:inline-block'><img height='64px' width='64px' src='{images_src_path}smile.png'/><h4>{pos_percent}</h4></div> | <div style='display:inline-block'><img height='64px' width='64px' src='{images_src_path}angry.png'/><h4>{neg_percent}</h4></div></div>\"\n",
    "    display(HTML(html_content))\n",
    "\n",
    "# Callback function to process and display results\n",
    "def on_text_change(change):\n",
    "    if change['type'] == 'change' and change['name'] == 'value':\n",
    "        clear_output(wait=True)\n",
    "        user_text = change['new']\n",
    "        if user_text:\n",
    "            tokenized_text = normalize_and_tokenize(user_text)\n",
    "            x_text_vectors = vectorize_text(tokenized_text, W2V_Model, MAX_NO_TOKENS, VECTOR_SIZE)\n",
    "            result = model.predict(x_text_vectors)  # Replace 'model' with your trained model\n",
    "            display_sentiment(result)\n",
    "        else:\n",
    "            print(\"Please enter your text\")\n",
    "\n",
    "# Create a text input widget\n",
    "text_input = widgets.Text(\n",
    "    value='',\n",
    "    placeholder='Type something',\n",
    "    description='Input:',\n",
    "    continuous_update=False,  # Set to False to trigger the event only when the user stops typing\n",
    "    disabled=False\n",
    ")\n",
    "\n",
    "# Display the text input widget\n",
    "display(text_input)\n",
    "\n",
    "# Set the callback function for text input\n",
    "text_input.observe(on_text_change, names='value')\n"
   ]
  }
 ],
 "metadata": {
  "accelerator": "GPU",
  "colab": {
   "collapsed_sections": [],
   "include_colab_link": true,
   "name": "Tutorial.ipynb",
   "provenance": []
  },
  "kernelspec": {
   "display_name": "Python 3 (ipykernel)",
   "language": "python",
   "name": "python3"
  },
  "language_info": {
   "codemirror_mode": {
    "name": "ipython",
    "version": 3
   },
   "file_extension": ".py",
   "mimetype": "text/x-python",
   "name": "python",
   "nbconvert_exporter": "python",
   "pygments_lexer": "ipython3",
   "version": "3.11.7"
  }
 },
 "nbformat": 4,
 "nbformat_minor": 4
}
